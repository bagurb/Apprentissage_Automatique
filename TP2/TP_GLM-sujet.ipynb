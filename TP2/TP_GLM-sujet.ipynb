{
 "cells": [
  {
   "cell_type": "markdown",
   "metadata": {},
   "source": [
    "# Pratique des modèles linéaires généralisés <a class=\"tocSkip\"> "
   ]
  },
  {
   "cell_type": "markdown",
   "metadata": {},
   "source": [
    "**30 novembre 2020** \n",
    "\n",
    "Cette série d'exercices vise à participer à la compréhension de la théorie des GLM, à mettre en oeuvre les méthodes sous Python, dans différents cas de figures de modèles statistiques et de jeux de données. \n",
    "On utiliserala librairie statsmodels, qui permet d'obtenir des résultats suivant une syntaxe et des présentations proches de celles de R. \n",
    "\n",
    "De plus, votre serviteur vous fournit plusieurs fonctions utilitaires pour afficher des résumés statistiques et des graphiques dans la librairie `GLMRegression_in_Python_like_in_R`. Vous êtes invités à consulter le source des fonctions qui vous sont fournies. \n"
   ]
  },
  {
   "cell_type": "markdown",
   "metadata": {
    "toc": true
   },
   "source": [
    "<h1>Table of Contents<span class=\"tocSkip\"></span></h1>\n",
    "<div class=\"toc\"><ul class=\"toc-item\"><li><span><a href=\"#Préparation\" data-toc-modified-id=\"Préparation-0\"><span class=\"toc-item-num\">0&nbsp;&nbsp;</span>Préparation</a></span></li><li><span><a href=\"#Proba-de-survie-sur-le-Titanic\" data-toc-modified-id=\"Proba-de-survie-sur-le-Titanic-1\"><span class=\"toc-item-num\">1&nbsp;&nbsp;</span>Proba de survie sur le Titanic</a></span><ul class=\"toc-item\"><li><span><a href=\"#Lecture-et-analyse-des-données\" data-toc-modified-id=\"Lecture-et-analyse-des-données-1.1\"><span class=\"toc-item-num\">1.1&nbsp;&nbsp;</span>Lecture et analyse des données</a></span></li><li><span><a href=\"#Modèle-de-régression-logistique\" data-toc-modified-id=\"Modèle-de-régression-logistique-1.2\"><span class=\"toc-item-num\">1.2&nbsp;&nbsp;</span>Modèle de régression logistique</a></span></li><li><span><a href=\"#Régression-binomiale\" data-toc-modified-id=\"Régression-binomiale-1.3\"><span class=\"toc-item-num\">1.3&nbsp;&nbsp;</span>Régression binomiale</a></span><ul class=\"toc-item\"><li><span><a href=\"#Données-binomiales\" data-toc-modified-id=\"Données-binomiales-1.3.1\"><span class=\"toc-item-num\">1.3.1&nbsp;&nbsp;</span>Données binomiales</a></span></li></ul></li><li><span><a href=\"#Regroupements\" data-toc-modified-id=\"Regroupements-1.4\"><span class=\"toc-item-num\">1.4&nbsp;&nbsp;</span>Regroupements</a></span></li><li><span><a href=\"#Régressions-binomiales\" data-toc-modified-id=\"Régressions-binomiales-1.5\"><span class=\"toc-item-num\">1.5&nbsp;&nbsp;</span>Régressions binomiales</a></span></li></ul></li><li><span><a href=\"#Crimes-sur-les-campus\" data-toc-modified-id=\"Crimes-sur-les-campus-2\"><span class=\"toc-item-num\">2&nbsp;&nbsp;</span>Crimes sur les campus</a></span><ul class=\"toc-item\"><li><span><a href=\"#Lecture-et-analyse\" data-toc-modified-id=\"Lecture-et-analyse-2.1\"><span class=\"toc-item-num\">2.1&nbsp;&nbsp;</span>Lecture et analyse</a></span></li><li><span><a href=\"#Modèle-de-Poisson\" data-toc-modified-id=\"Modèle-de-Poisson-2.2\"><span class=\"toc-item-num\">2.2&nbsp;&nbsp;</span>Modèle de Poisson</a></span><ul class=\"toc-item\"><li><span><a href=\"#Notion-de--modèle-de-Poisson-et-d'offset\" data-toc-modified-id=\"Notion-de--modèle-de-Poisson-et-d'offset-2.2.1\"><span class=\"toc-item-num\">2.2.1&nbsp;&nbsp;</span>Notion de  modèle de Poisson et d'offset</a></span></li><li><span><a href=\"#Régression-de-Poisson\" data-toc-modified-id=\"Régression-de-Poisson-2.2.2\"><span class=\"toc-item-num\">2.2.2&nbsp;&nbsp;</span>Régression de Poisson</a></span></li><li><span><a href=\"#Régression-avec-une-binomiale-négative\" data-toc-modified-id=\"Régression-avec-une-binomiale-négative-2.2.3\"><span class=\"toc-item-num\">2.2.3&nbsp;&nbsp;</span>Régression avec une binomiale négative</a></span></li></ul></li></ul></li><li><span><a href=\"#Réussite-en-maths\" data-toc-modified-id=\"Réussite-en-maths-3\"><span class=\"toc-item-num\">3&nbsp;&nbsp;</span>Réussite en maths</a></span><ul class=\"toc-item\"><li><span><a href=\"#Lecture-et-analyse\" data-toc-modified-id=\"Lecture-et-analyse-3.1\"><span class=\"toc-item-num\">3.1&nbsp;&nbsp;</span>Lecture et analyse</a></span></li><li><span><a href=\"#Régression\" data-toc-modified-id=\"Régression-3.2\"><span class=\"toc-item-num\">3.2&nbsp;&nbsp;</span>Régression</a></span></li></ul></li><li><span><a href=\"#Richesse-écologique\" data-toc-modified-id=\"Richesse-écologique-4\"><span class=\"toc-item-num\">4&nbsp;&nbsp;</span>Richesse écologique</a></span><ul class=\"toc-item\"><li><span><a href=\"#Lecture-et-analyse\" data-toc-modified-id=\"Lecture-et-analyse-4.1\"><span class=\"toc-item-num\">4.1&nbsp;&nbsp;</span>Lecture et analyse</a></span><ul class=\"toc-item\"><li><span><a href=\"#Tracés\" data-toc-modified-id=\"Tracés-4.1.1\"><span class=\"toc-item-num\">4.1.1&nbsp;&nbsp;</span>Tracés</a></span></li><li><span><a href=\"#Tests-statistiques\" data-toc-modified-id=\"Tests-statistiques-4.1.2\"><span class=\"toc-item-num\">4.1.2&nbsp;&nbsp;</span>Tests statistiques</a></span></li></ul></li><li><span><a href=\"#Premier-modèle.\" data-toc-modified-id=\"Premier-modèle.-4.2\"><span class=\"toc-item-num\">4.2&nbsp;&nbsp;</span>Premier modèle.</a></span></li><li><span><a href=\"#2e-modèle\" data-toc-modified-id=\"2e-modèle-4.3\"><span class=\"toc-item-num\">4.3&nbsp;&nbsp;</span>2e modèle</a></span></li><li><span><a href=\"#diagnostic\" data-toc-modified-id=\"diagnostic-4.4\"><span class=\"toc-item-num\">4.4&nbsp;&nbsp;</span>diagnostic</a></span><ul class=\"toc-item\"><li><span><a href=\"#Tracez-les-quelques-figures-de-diagnostic\" data-toc-modified-id=\"Tracez-les-quelques-figures-de-diagnostic-4.4.1\"><span class=\"toc-item-num\">4.4.1&nbsp;&nbsp;</span>Tracez les quelques figures de diagnostic</a></span></li><li><span><a href=\"#Exploitation-des-prédictions\" data-toc-modified-id=\"Exploitation-des-prédictions-4.4.2\"><span class=\"toc-item-num\">4.4.2&nbsp;&nbsp;</span>Exploitation des prédictions</a></span></li></ul></li></ul></li><li><span><a href=\"#Quine-Data\" data-toc-modified-id=\"Quine-Data-5\"><span class=\"toc-item-num\">5&nbsp;&nbsp;</span>Quine Data</a></span></li><li><span><a href=\"#Régression-linéaire\" data-toc-modified-id=\"Régression-linéaire-6\"><span class=\"toc-item-num\">6&nbsp;&nbsp;</span>Régression linéaire</a></span></li></ul></div>"
   ]
  },
  {
   "cell_type": "code",
   "execution_count": 1,
   "metadata": {},
   "outputs": [],
   "source": [
    "import pandas as pd \n",
    "import numpy as np\n",
    "import statsmodels.api as sm\n",
    "import statsmodels.formula.api as smf\n",
    "import matplotlib.pyplot as plt\n",
    "import seaborn as sns\n",
    "#\n",
    "from GLMRegression_in_Python_like_in_R import GLMsummary, glm_residplot\n",
    "from LinearRegression_in_Python_like_in_R import lm, summary, vif"
   ]
  },
  {
   "cell_type": "markdown",
   "metadata": {},
   "source": [
    "## Préparation\n",
    "\n",
    "Consulter la description et la syntaxe de la fonction GLM de statsmodels à cette adresse : https://www.statsmodels.org/stable/glm.html\n",
    "Avec les méthodes et attributs associés au modèle : https://www.statsmodels.org/stable/generated/statsmodels.genmod.generalized_linear_model.GLMResults.html#statsmodels.genmod.generalized_linear_model.GLMResults\n",
    "\n",
    "Vous pourrez également consulter avec intérêt l'aide du pendant R. : https://www.rdocumentation.org/packages/stats/versions/3.6.2/topics/glm\n",
    "\n",
    "Il est possible d'utiliser l'approche \"formule\" dans glm ou lm (modèle linéaire) : celle-ci consiste à préciser la variable réponse et les variables indépendantes. Prenez le temps de consulter la syntaxe ici : https://www.statsmodels.org/stable/example_formulas.html\n",
    "Vous pourrez effectuer quelque chose comme\n",
    "```\n",
    "glm('response ~ predictor1 + predictor2 + C(predictor3) + predictor4*predictor5 -1', data=DATA)\n",
    "```"
   ]
  },
  {
   "cell_type": "markdown",
   "metadata": {},
   "source": [
    "## Proba de survie sur le Titanic"
   ]
  },
  {
   "cell_type": "markdown",
   "metadata": {},
   "source": [
    "Dans cet exercice, nous allons revoir la régression logistique, sous l'angle d'un GLM, puis transformer le problème pour faire apparaître une véritable régression biomiale, qui sera bien entendu traitée avec un GLM. \n",
    "\n",
    "Cet exercice est inspiré du post suivant :\n",
    "https://towardsdatascience.com/the-binomial-regression-model-everything-you-need-to-know-5216f1a483d3\n",
    "dans lequel il y a des choses intéressantes, mais également d'autres assez discutables.  \n"
   ]
  },
  {
   "cell_type": "markdown",
   "metadata": {},
   "source": [
    "### Lecture et analyse des données"
   ]
  },
  {
   "cell_type": "markdown",
   "metadata": {},
   "source": [
    ">Vous commencerez par charger le fichier de données, `titanic.csv`, afficherez les premères lignes et les infos de type des données. Quelles sont les données quantitatives, catégorielles, ordinales ? "
   ]
  },
  {
   "cell_type": "code",
   "execution_count": 2,
   "metadata": {},
   "outputs": [
    {
     "data": {
      "text/html": [
       "<div>\n",
       "<style scoped>\n",
       "    .dataframe tbody tr th:only-of-type {\n",
       "        vertical-align: middle;\n",
       "    }\n",
       "\n",
       "    .dataframe tbody tr th {\n",
       "        vertical-align: top;\n",
       "    }\n",
       "\n",
       "    .dataframe thead th {\n",
       "        text-align: right;\n",
       "    }\n",
       "</style>\n",
       "<table border=\"1\" class=\"dataframe\">\n",
       "  <thead>\n",
       "    <tr style=\"text-align: right;\">\n",
       "      <th></th>\n",
       "      <th>Survived</th>\n",
       "      <th>Pclass</th>\n",
       "      <th>Name</th>\n",
       "      <th>Sex</th>\n",
       "      <th>Age</th>\n",
       "      <th>Siblings/Spouses Aboard</th>\n",
       "      <th>Parents/Children Aboard</th>\n",
       "      <th>Fare</th>\n",
       "    </tr>\n",
       "  </thead>\n",
       "  <tbody>\n",
       "    <tr>\n",
       "      <td>0</td>\n",
       "      <td>0</td>\n",
       "      <td>3</td>\n",
       "      <td>Mr. Owen Harris Braund</td>\n",
       "      <td>male</td>\n",
       "      <td>22.0</td>\n",
       "      <td>1</td>\n",
       "      <td>0</td>\n",
       "      <td>7.2500</td>\n",
       "    </tr>\n",
       "    <tr>\n",
       "      <td>1</td>\n",
       "      <td>1</td>\n",
       "      <td>1</td>\n",
       "      <td>Mrs. John Bradley (Florence Briggs Thayer) Cum...</td>\n",
       "      <td>female</td>\n",
       "      <td>38.0</td>\n",
       "      <td>1</td>\n",
       "      <td>0</td>\n",
       "      <td>71.2833</td>\n",
       "    </tr>\n",
       "    <tr>\n",
       "      <td>2</td>\n",
       "      <td>1</td>\n",
       "      <td>3</td>\n",
       "      <td>Miss. Laina Heikkinen</td>\n",
       "      <td>female</td>\n",
       "      <td>26.0</td>\n",
       "      <td>0</td>\n",
       "      <td>0</td>\n",
       "      <td>7.9250</td>\n",
       "    </tr>\n",
       "    <tr>\n",
       "      <td>3</td>\n",
       "      <td>1</td>\n",
       "      <td>1</td>\n",
       "      <td>Mrs. Jacques Heath (Lily May Peel) Futrelle</td>\n",
       "      <td>female</td>\n",
       "      <td>35.0</td>\n",
       "      <td>1</td>\n",
       "      <td>0</td>\n",
       "      <td>53.1000</td>\n",
       "    </tr>\n",
       "    <tr>\n",
       "      <td>4</td>\n",
       "      <td>0</td>\n",
       "      <td>3</td>\n",
       "      <td>Mr. William Henry Allen</td>\n",
       "      <td>male</td>\n",
       "      <td>35.0</td>\n",
       "      <td>0</td>\n",
       "      <td>0</td>\n",
       "      <td>8.0500</td>\n",
       "    </tr>\n",
       "  </tbody>\n",
       "</table>\n",
       "</div>"
      ],
      "text/plain": [
       "   Survived  Pclass                                               Name  \\\n",
       "0         0       3                             Mr. Owen Harris Braund   \n",
       "1         1       1  Mrs. John Bradley (Florence Briggs Thayer) Cum...   \n",
       "2         1       3                              Miss. Laina Heikkinen   \n",
       "3         1       1        Mrs. Jacques Heath (Lily May Peel) Futrelle   \n",
       "4         0       3                            Mr. William Henry Allen   \n",
       "\n",
       "      Sex   Age  Siblings/Spouses Aboard  Parents/Children Aboard     Fare  \n",
       "0    male  22.0                        1                        0   7.2500  \n",
       "1  female  38.0                        1                        0  71.2833  \n",
       "2  female  26.0                        0                        0   7.9250  \n",
       "3  female  35.0                        1                        0  53.1000  \n",
       "4    male  35.0                        0                        0   8.0500  "
      ]
     },
     "execution_count": 2,
     "metadata": {},
     "output_type": "execute_result"
    }
   ],
   "source": [
    "csv = pd.read_csv(\"titanic.csv\")\n",
    "csv.head()"
   ]
  },
  {
   "cell_type": "markdown",
   "metadata": {},
   "source": [
    "> Pour des questions pratiques, renommer les colonnes `'Siblings/Spouses Aboard', 'Parents/Children Aboard'` en \n",
    "`'ParentsChildrenAboard', 'SiblingsSpousesAboard'`"
   ]
  },
  {
   "cell_type": "code",
   "execution_count": 5,
   "metadata": {},
   "outputs": [
    {
     "data": {
      "text/html": [
       "<div>\n",
       "<style scoped>\n",
       "    .dataframe tbody tr th:only-of-type {\n",
       "        vertical-align: middle;\n",
       "    }\n",
       "\n",
       "    .dataframe tbody tr th {\n",
       "        vertical-align: top;\n",
       "    }\n",
       "\n",
       "    .dataframe thead th {\n",
       "        text-align: right;\n",
       "    }\n",
       "</style>\n",
       "<table border=\"1\" class=\"dataframe\">\n",
       "  <thead>\n",
       "    <tr style=\"text-align: right;\">\n",
       "      <th></th>\n",
       "      <th>Survived</th>\n",
       "      <th>Pclass</th>\n",
       "      <th>Name</th>\n",
       "      <th>Sex</th>\n",
       "      <th>Age</th>\n",
       "      <th>SiblingsSpousesAboard</th>\n",
       "      <th>ParentsChildrenAboard</th>\n",
       "      <th>Fare</th>\n",
       "    </tr>\n",
       "  </thead>\n",
       "  <tbody>\n",
       "    <tr>\n",
       "      <td>0</td>\n",
       "      <td>0</td>\n",
       "      <td>3</td>\n",
       "      <td>Mr. Owen Harris Braund</td>\n",
       "      <td>male</td>\n",
       "      <td>22.0</td>\n",
       "      <td>1</td>\n",
       "      <td>0</td>\n",
       "      <td>7.2500</td>\n",
       "    </tr>\n",
       "    <tr>\n",
       "      <td>1</td>\n",
       "      <td>1</td>\n",
       "      <td>1</td>\n",
       "      <td>Mrs. John Bradley (Florence Briggs Thayer) Cum...</td>\n",
       "      <td>female</td>\n",
       "      <td>38.0</td>\n",
       "      <td>1</td>\n",
       "      <td>0</td>\n",
       "      <td>71.2833</td>\n",
       "    </tr>\n",
       "    <tr>\n",
       "      <td>2</td>\n",
       "      <td>1</td>\n",
       "      <td>3</td>\n",
       "      <td>Miss. Laina Heikkinen</td>\n",
       "      <td>female</td>\n",
       "      <td>26.0</td>\n",
       "      <td>0</td>\n",
       "      <td>0</td>\n",
       "      <td>7.9250</td>\n",
       "    </tr>\n",
       "    <tr>\n",
       "      <td>3</td>\n",
       "      <td>1</td>\n",
       "      <td>1</td>\n",
       "      <td>Mrs. Jacques Heath (Lily May Peel) Futrelle</td>\n",
       "      <td>female</td>\n",
       "      <td>35.0</td>\n",
       "      <td>1</td>\n",
       "      <td>0</td>\n",
       "      <td>53.1000</td>\n",
       "    </tr>\n",
       "    <tr>\n",
       "      <td>4</td>\n",
       "      <td>0</td>\n",
       "      <td>3</td>\n",
       "      <td>Mr. William Henry Allen</td>\n",
       "      <td>male</td>\n",
       "      <td>35.0</td>\n",
       "      <td>0</td>\n",
       "      <td>0</td>\n",
       "      <td>8.0500</td>\n",
       "    </tr>\n",
       "    <tr>\n",
       "      <td>...</td>\n",
       "      <td>...</td>\n",
       "      <td>...</td>\n",
       "      <td>...</td>\n",
       "      <td>...</td>\n",
       "      <td>...</td>\n",
       "      <td>...</td>\n",
       "      <td>...</td>\n",
       "      <td>...</td>\n",
       "    </tr>\n",
       "    <tr>\n",
       "      <td>882</td>\n",
       "      <td>0</td>\n",
       "      <td>2</td>\n",
       "      <td>Rev. Juozas Montvila</td>\n",
       "      <td>male</td>\n",
       "      <td>27.0</td>\n",
       "      <td>0</td>\n",
       "      <td>0</td>\n",
       "      <td>13.0000</td>\n",
       "    </tr>\n",
       "    <tr>\n",
       "      <td>883</td>\n",
       "      <td>1</td>\n",
       "      <td>1</td>\n",
       "      <td>Miss. Margaret Edith Graham</td>\n",
       "      <td>female</td>\n",
       "      <td>19.0</td>\n",
       "      <td>0</td>\n",
       "      <td>0</td>\n",
       "      <td>30.0000</td>\n",
       "    </tr>\n",
       "    <tr>\n",
       "      <td>884</td>\n",
       "      <td>0</td>\n",
       "      <td>3</td>\n",
       "      <td>Miss. Catherine Helen Johnston</td>\n",
       "      <td>female</td>\n",
       "      <td>7.0</td>\n",
       "      <td>1</td>\n",
       "      <td>2</td>\n",
       "      <td>23.4500</td>\n",
       "    </tr>\n",
       "    <tr>\n",
       "      <td>885</td>\n",
       "      <td>1</td>\n",
       "      <td>1</td>\n",
       "      <td>Mr. Karl Howell Behr</td>\n",
       "      <td>male</td>\n",
       "      <td>26.0</td>\n",
       "      <td>0</td>\n",
       "      <td>0</td>\n",
       "      <td>30.0000</td>\n",
       "    </tr>\n",
       "    <tr>\n",
       "      <td>886</td>\n",
       "      <td>0</td>\n",
       "      <td>3</td>\n",
       "      <td>Mr. Patrick Dooley</td>\n",
       "      <td>male</td>\n",
       "      <td>32.0</td>\n",
       "      <td>0</td>\n",
       "      <td>0</td>\n",
       "      <td>7.7500</td>\n",
       "    </tr>\n",
       "  </tbody>\n",
       "</table>\n",
       "<p>887 rows × 8 columns</p>\n",
       "</div>"
      ],
      "text/plain": [
       "     Survived  Pclass                                               Name  \\\n",
       "0           0       3                             Mr. Owen Harris Braund   \n",
       "1           1       1  Mrs. John Bradley (Florence Briggs Thayer) Cum...   \n",
       "2           1       3                              Miss. Laina Heikkinen   \n",
       "3           1       1        Mrs. Jacques Heath (Lily May Peel) Futrelle   \n",
       "4           0       3                            Mr. William Henry Allen   \n",
       "..        ...     ...                                                ...   \n",
       "882         0       2                               Rev. Juozas Montvila   \n",
       "883         1       1                        Miss. Margaret Edith Graham   \n",
       "884         0       3                     Miss. Catherine Helen Johnston   \n",
       "885         1       1                               Mr. Karl Howell Behr   \n",
       "886         0       3                                 Mr. Patrick Dooley   \n",
       "\n",
       "        Sex   Age  SiblingsSpousesAboard  ParentsChildrenAboard     Fare  \n",
       "0      male  22.0                      1                      0   7.2500  \n",
       "1    female  38.0                      1                      0  71.2833  \n",
       "2    female  26.0                      0                      0   7.9250  \n",
       "3    female  35.0                      1                      0  53.1000  \n",
       "4      male  35.0                      0                      0   8.0500  \n",
       "..      ...   ...                    ...                    ...      ...  \n",
       "882    male  27.0                      0                      0  13.0000  \n",
       "883  female  19.0                      0                      0  30.0000  \n",
       "884  female   7.0                      1                      2  23.4500  \n",
       "885    male  26.0                      0                      0  30.0000  \n",
       "886    male  32.0                      0                      0   7.7500  \n",
       "\n",
       "[887 rows x 8 columns]"
      ]
     },
     "execution_count": 5,
     "metadata": {},
     "output_type": "execute_result"
    }
   ],
   "source": [
    "csv = csv.rename(columns={\"Siblings/Spouses Aboard\":\"SiblingsSpousesAboard\",\"Parents/Children Aboard\":\"ParentsChildrenAboard\"})\n",
    "csv"
   ]
  },
  {
   "cell_type": "code",
   "execution_count": null,
   "metadata": {},
   "outputs": [],
   "source": []
  },
  {
   "cell_type": "markdown",
   "metadata": {},
   "source": [
    "### Modèle de régression logistique"
   ]
  },
  {
   "cell_type": "markdown",
   "metadata": {},
   "source": [
    ">On s'intéresse évidemment à la survie en fonction des autres paramètres. La variable `Survived` est une variable binaire (de Bernouilli) ; et on va mettree n oeuvre une régressoin logistique comme on l'a vu lors du TP précédent. \n",
    ">\n",
    ">Simplement, plutôt que de construire les matrices endog et exog, nous allons utiliser la version \"formule\" en utilisant la méthode `smf.glm(..)`. \n",
    ">\n",
    ">  -  a) Utiliser cette fonction pour définir le modèle puis l'apprendre.\n",
    ">  -  b) Vous pourrez ensuite afficher les caractéristiques  avec la méthode `.summary()` ou utiliser la fonction fournie `GLMsummary`. "
   ]
  },
  {
   "cell_type": "code",
   "execution_count": 6,
   "metadata": {},
   "outputs": [
    {
     "data": {
      "text/html": [
       "<table class=\"simpletable\">\n",
       "<caption>Generalized Linear Model Regression Results</caption>\n",
       "<tr>\n",
       "  <th>Dep. Variable:</th>       <td>Survived</td>     <th>  No. Observations:  </th>  <td>   887</td> \n",
       "</tr>\n",
       "<tr>\n",
       "  <th>Model:</th>                  <td>GLM</td>       <th>  Df Residuals:      </th>  <td>   880</td> \n",
       "</tr>\n",
       "<tr>\n",
       "  <th>Model Family:</th>        <td>Binomial</td>     <th>  Df Model:          </th>  <td>     6</td> \n",
       "</tr>\n",
       "<tr>\n",
       "  <th>Link Function:</th>         <td>logit</td>      <th>  Scale:             </th> <td>  1.0000</td>\n",
       "</tr>\n",
       "<tr>\n",
       "  <th>Method:</th>                <td>IRLS</td>       <th>  Log-Likelihood:    </th> <td> -390.47</td>\n",
       "</tr>\n",
       "<tr>\n",
       "  <th>Date:</th>            <td>Wed, 24 Nov 2021</td> <th>  Deviance:          </th> <td>  780.93</td>\n",
       "</tr>\n",
       "<tr>\n",
       "  <th>Time:</th>                <td>09:21:35</td>     <th>  Pearson chi2:      </th>  <td>  913.</td> \n",
       "</tr>\n",
       "<tr>\n",
       "  <th>No. Iterations:</th>          <td>5</td>        <th>                     </th>     <td> </td>   \n",
       "</tr>\n",
       "<tr>\n",
       "  <th>Covariance Type:</th>     <td>nonrobust</td>    <th>                     </th>     <td> </td>   \n",
       "</tr>\n",
       "</table>"
      ],
      "text/plain": [
       "<class 'statsmodels.iolib.table.SimpleTable'>"
      ]
     },
     "metadata": {},
     "output_type": "display_data"
    },
    {
     "data": {
      "text/html": [
       "<div>\n",
       "<style scoped>\n",
       "    .dataframe tbody tr th:only-of-type {\n",
       "        vertical-align: middle;\n",
       "    }\n",
       "\n",
       "    .dataframe tbody tr th {\n",
       "        vertical-align: top;\n",
       "    }\n",
       "\n",
       "    .dataframe thead th {\n",
       "        text-align: right;\n",
       "    }\n",
       "</style>\n",
       "<table border=\"1\" class=\"dataframe\">\n",
       "  <thead>\n",
       "    <tr style=\"text-align: right;\">\n",
       "      <th></th>\n",
       "      <th>coef</th>\n",
       "      <th>std err</th>\n",
       "      <th>z</th>\n",
       "      <th>P&gt;|z|</th>\n",
       "      <th>[0.025</th>\n",
       "      <th>0.975]</th>\n",
       "      <th>p-value</th>\n",
       "      <th>Code</th>\n",
       "    </tr>\n",
       "  </thead>\n",
       "  <tbody>\n",
       "    <tr>\n",
       "      <td>Intercept</td>\n",
       "      <td>5.2973</td>\n",
       "      <td>0.557</td>\n",
       "      <td>9.503</td>\n",
       "      <td>0.000</td>\n",
       "      <td>4.205</td>\n",
       "      <td>6.390</td>\n",
       "      <td>2.032620e-21</td>\n",
       "      <td>***</td>\n",
       "    </tr>\n",
       "    <tr>\n",
       "      <td>Sex[T.male]</td>\n",
       "      <td>-2.7573</td>\n",
       "      <td>0.200</td>\n",
       "      <td>-13.758</td>\n",
       "      <td>0.000</td>\n",
       "      <td>-3.150</td>\n",
       "      <td>-2.364</td>\n",
       "      <td>4.573323e-43</td>\n",
       "      <td>***</td>\n",
       "    </tr>\n",
       "    <tr>\n",
       "      <td>Pclass</td>\n",
       "      <td>-1.1777</td>\n",
       "      <td>0.146</td>\n",
       "      <td>-8.062</td>\n",
       "      <td>0.000</td>\n",
       "      <td>-1.464</td>\n",
       "      <td>-0.891</td>\n",
       "      <td>7.519353e-16</td>\n",
       "      <td>***</td>\n",
       "    </tr>\n",
       "    <tr>\n",
       "      <td>Age</td>\n",
       "      <td>-0.0435</td>\n",
       "      <td>0.008</td>\n",
       "      <td>-5.629</td>\n",
       "      <td>0.000</td>\n",
       "      <td>-0.059</td>\n",
       "      <td>-0.028</td>\n",
       "      <td>1.808900e-08</td>\n",
       "      <td>***</td>\n",
       "    </tr>\n",
       "    <tr>\n",
       "      <td>SiblingsSpousesAboard</td>\n",
       "      <td>-0.4018</td>\n",
       "      <td>0.111</td>\n",
       "      <td>-3.630</td>\n",
       "      <td>0.000</td>\n",
       "      <td>-0.619</td>\n",
       "      <td>-0.185</td>\n",
       "      <td>2.839472e-04</td>\n",
       "      <td>***</td>\n",
       "    </tr>\n",
       "    <tr>\n",
       "      <td>ParentsChildrenAboard</td>\n",
       "      <td>-0.1065</td>\n",
       "      <td>0.119</td>\n",
       "      <td>-0.898</td>\n",
       "      <td>0.369</td>\n",
       "      <td>-0.339</td>\n",
       "      <td>0.126</td>\n",
       "      <td>3.691266e-01</td>\n",
       "      <td></td>\n",
       "    </tr>\n",
       "    <tr>\n",
       "      <td>Fare</td>\n",
       "      <td>0.0028</td>\n",
       "      <td>0.002</td>\n",
       "      <td>1.166</td>\n",
       "      <td>0.244</td>\n",
       "      <td>-0.002</td>\n",
       "      <td>0.007</td>\n",
       "      <td>2.436801e-01</td>\n",
       "      <td></td>\n",
       "    </tr>\n",
       "  </tbody>\n",
       "</table>\n",
       "</div>"
      ],
      "text/plain": [
       "                             coef    std err          z   P>|z|     [0.025  \\\n",
       "Intercept                  5.2973      0.557      9.503   0.000      4.205   \n",
       "Sex[T.male]               -2.7573      0.200    -13.758   0.000     -3.150   \n",
       "Pclass                    -1.1777      0.146     -8.062   0.000     -1.464   \n",
       "Age                       -0.0435      0.008     -5.629   0.000     -0.059   \n",
       "SiblingsSpousesAboard     -0.4018      0.111     -3.630   0.000     -0.619   \n",
       "ParentsChildrenAboard     -0.1065      0.119     -0.898   0.369     -0.339   \n",
       "Fare                       0.0028      0.002      1.166   0.244     -0.002   \n",
       "\n",
       "                          0.975]       p-value Code  \n",
       "Intercept                  6.390  2.032620e-21  ***  \n",
       "Sex[T.male]               -2.364  4.573323e-43  ***  \n",
       "Pclass                    -0.891  7.519353e-16  ***  \n",
       "Age                       -0.028  1.808900e-08  ***  \n",
       "SiblingsSpousesAboard     -0.185  2.839472e-04  ***  \n",
       "ParentsChildrenAboard      0.126  3.691266e-01       \n",
       "Fare                       0.007  2.436801e-01       "
      ]
     },
     "metadata": {},
     "output_type": "display_data"
    },
    {
     "data": {
      "text/html": [
       "Signif. codes:  0 '***' 0.001 '**' 0.01 '*' 0.05 '.' 0.1 ' ' 1"
      ],
      "text/plain": [
       "<IPython.core.display.HTML object>"
      ]
     },
     "metadata": {},
     "output_type": "display_data"
    },
    {
     "data": {
      "text/html": [
       "AIC with 7 ddl = 794.93"
      ],
      "text/plain": [
       "<IPython.core.display.HTML object>"
      ]
     },
     "metadata": {},
     "output_type": "display_data"
    }
   ],
   "source": [
    "sm_titanic = smf.glm(formula=\"Survived ~ Sex + Pclass + Age + SiblingsSpousesAboard + ParentsChildrenAboard + Fare\",data = csv,family=sm.families.Binomial())\n",
    "result = sm_titanic.fit()\n",
    "GLMsummary(result)"
   ]
  },
  {
   "cell_type": "markdown",
   "metadata": {},
   "source": [
    "> Quelles sont les variables qui ne semblent pas significatives ? Supprimez les du modèle et réitérez. "
   ]
  },
  {
   "cell_type": "code",
   "execution_count": 8,
   "metadata": {},
   "outputs": [
    {
     "data": {
      "text/html": [
       "<table class=\"simpletable\">\n",
       "<caption>Generalized Linear Model Regression Results</caption>\n",
       "<tr>\n",
       "  <th>Dep. Variable:</th>       <td>Survived</td>     <th>  No. Observations:  </th>  <td>   887</td> \n",
       "</tr>\n",
       "<tr>\n",
       "  <th>Model:</th>                  <td>GLM</td>       <th>  Df Residuals:      </th>  <td>   882</td> \n",
       "</tr>\n",
       "<tr>\n",
       "  <th>Model Family:</th>        <td>Binomial</td>     <th>  Df Model:          </th>  <td>     4</td> \n",
       "</tr>\n",
       "<tr>\n",
       "  <th>Link Function:</th>         <td>logit</td>      <th>  Scale:             </th> <td>  1.0000</td>\n",
       "</tr>\n",
       "<tr>\n",
       "  <th>Method:</th>                <td>IRLS</td>       <th>  Log-Likelihood:    </th> <td> -391.44</td>\n",
       "</tr>\n",
       "<tr>\n",
       "  <th>Date:</th>            <td>Wed, 24 Nov 2021</td> <th>  Deviance:          </th> <td>  782.88</td>\n",
       "</tr>\n",
       "<tr>\n",
       "  <th>Time:</th>                <td>09:25:26</td>     <th>  Pearson chi2:      </th>  <td>  922.</td> \n",
       "</tr>\n",
       "<tr>\n",
       "  <th>No. Iterations:</th>          <td>5</td>        <th>                     </th>     <td> </td>   \n",
       "</tr>\n",
       "<tr>\n",
       "  <th>Covariance Type:</th>     <td>nonrobust</td>    <th>                     </th>     <td> </td>   \n",
       "</tr>\n",
       "</table>"
      ],
      "text/plain": [
       "<class 'statsmodels.iolib.table.SimpleTable'>"
      ]
     },
     "metadata": {},
     "output_type": "display_data"
    },
    {
     "data": {
      "text/html": [
       "<div>\n",
       "<style scoped>\n",
       "    .dataframe tbody tr th:only-of-type {\n",
       "        vertical-align: middle;\n",
       "    }\n",
       "\n",
       "    .dataframe tbody tr th {\n",
       "        vertical-align: top;\n",
       "    }\n",
       "\n",
       "    .dataframe thead th {\n",
       "        text-align: right;\n",
       "    }\n",
       "</style>\n",
       "<table border=\"1\" class=\"dataframe\">\n",
       "  <thead>\n",
       "    <tr style=\"text-align: right;\">\n",
       "      <th></th>\n",
       "      <th>coef</th>\n",
       "      <th>std err</th>\n",
       "      <th>z</th>\n",
       "      <th>P&gt;|z|</th>\n",
       "      <th>[0.025</th>\n",
       "      <th>0.975]</th>\n",
       "      <th>p-value</th>\n",
       "      <th>Code</th>\n",
       "    </tr>\n",
       "  </thead>\n",
       "  <tbody>\n",
       "    <tr>\n",
       "      <td>Intercept</td>\n",
       "      <td>5.5321</td>\n",
       "      <td>0.505</td>\n",
       "      <td>10.960</td>\n",
       "      <td>0.000</td>\n",
       "      <td>4.543</td>\n",
       "      <td>6.521</td>\n",
       "      <td>5.949422e-28</td>\n",
       "      <td>***</td>\n",
       "    </tr>\n",
       "    <tr>\n",
       "      <td>Sex[T.male]</td>\n",
       "      <td>-2.7365</td>\n",
       "      <td>0.196</td>\n",
       "      <td>-13.981</td>\n",
       "      <td>0.000</td>\n",
       "      <td>-3.120</td>\n",
       "      <td>-2.353</td>\n",
       "      <td>2.037770e-44</td>\n",
       "      <td>***</td>\n",
       "    </tr>\n",
       "    <tr>\n",
       "      <td>Pclass</td>\n",
       "      <td>-1.2651</td>\n",
       "      <td>0.127</td>\n",
       "      <td>-9.960</td>\n",
       "      <td>0.000</td>\n",
       "      <td>-1.514</td>\n",
       "      <td>-1.016</td>\n",
       "      <td>2.281359e-23</td>\n",
       "      <td>***</td>\n",
       "    </tr>\n",
       "    <tr>\n",
       "      <td>Age</td>\n",
       "      <td>-0.0437</td>\n",
       "      <td>0.008</td>\n",
       "      <td>-5.679</td>\n",
       "      <td>0.000</td>\n",
       "      <td>-0.059</td>\n",
       "      <td>-0.029</td>\n",
       "      <td>1.358649e-08</td>\n",
       "      <td>***</td>\n",
       "    </tr>\n",
       "    <tr>\n",
       "      <td>SiblingsSpousesAboard</td>\n",
       "      <td>-0.4078</td>\n",
       "      <td>0.105</td>\n",
       "      <td>-3.876</td>\n",
       "      <td>0.000</td>\n",
       "      <td>-0.614</td>\n",
       "      <td>-0.202</td>\n",
       "      <td>1.060823e-04</td>\n",
       "      <td>***</td>\n",
       "    </tr>\n",
       "  </tbody>\n",
       "</table>\n",
       "</div>"
      ],
      "text/plain": [
       "                             coef    std err          z   P>|z|     [0.025  \\\n",
       "Intercept                  5.5321      0.505     10.960   0.000      4.543   \n",
       "Sex[T.male]               -2.7365      0.196    -13.981   0.000     -3.120   \n",
       "Pclass                    -1.2651      0.127     -9.960   0.000     -1.514   \n",
       "Age                       -0.0437      0.008     -5.679   0.000     -0.059   \n",
       "SiblingsSpousesAboard     -0.4078      0.105     -3.876   0.000     -0.614   \n",
       "\n",
       "                          0.975]       p-value Code  \n",
       "Intercept                  6.521  5.949422e-28  ***  \n",
       "Sex[T.male]               -2.353  2.037770e-44  ***  \n",
       "Pclass                    -1.016  2.281359e-23  ***  \n",
       "Age                       -0.029  1.358649e-08  ***  \n",
       "SiblingsSpousesAboard     -0.202  1.060823e-04  ***  "
      ]
     },
     "metadata": {},
     "output_type": "display_data"
    },
    {
     "data": {
      "text/html": [
       "Signif. codes:  0 '***' 0.001 '**' 0.01 '*' 0.05 '.' 0.1 ' ' 1"
      ],
      "text/plain": [
       "<IPython.core.display.HTML object>"
      ]
     },
     "metadata": {},
     "output_type": "display_data"
    },
    {
     "data": {
      "text/html": [
       "AIC with 5 ddl = 792.88"
      ],
      "text/plain": [
       "<IPython.core.display.HTML object>"
      ]
     },
     "metadata": {},
     "output_type": "display_data"
    }
   ],
   "source": [
    "new_sm_titanic = smf.glm(formula=\"Survived ~ Sex + Pclass + Age + SiblingsSpousesAboard\",data=csv,family=sm.families.Binomial())\n",
    "new_result = new_sm_titanic.fit()\n",
    "GLMsummary(new_result)"
   ]
  },
  {
   "cell_type": "markdown",
   "metadata": {},
   "source": [
    "> Comparez les AIC dans les deux cas. Ceci confirme-t-il l'intérêt de supprimer ces variables ?"
   ]
  },
  {
   "cell_type": "code",
   "execution_count": null,
   "metadata": {},
   "outputs": [],
   "source": [
    "\"Oui, l'AIC a baissé, cela indique un meilleur modèle. Ceci dit, la variation est très faible, ce n'est pas absolument significatif.\" "
   ]
  },
  {
   "cell_type": "markdown",
   "metadata": {},
   "source": [
    "> calculer la table de confusion, avec un seuil à 0.5, et l'*accuracy*"
   ]
  },
  {
   "cell_type": "code",
   "execution_count": 9,
   "metadata": {},
   "outputs": [],
   "source": [
    "prediction = new_result.predict()"
   ]
  },
  {
   "cell_type": "code",
   "execution_count": 13,
   "metadata": {},
   "outputs": [
    {
     "data": {
      "text/html": [
       "<div>\n",
       "<style scoped>\n",
       "    .dataframe tbody tr th:only-of-type {\n",
       "        vertical-align: middle;\n",
       "    }\n",
       "\n",
       "    .dataframe tbody tr th {\n",
       "        vertical-align: top;\n",
       "    }\n",
       "\n",
       "    .dataframe thead th {\n",
       "        text-align: right;\n",
       "    }\n",
       "</style>\n",
       "<table border=\"1\" class=\"dataframe\">\n",
       "  <thead>\n",
       "    <tr style=\"text-align: right;\">\n",
       "      <th>col_0</th>\n",
       "      <th>False</th>\n",
       "      <th>True</th>\n",
       "    </tr>\n",
       "    <tr>\n",
       "      <th>Survived</th>\n",
       "      <th></th>\n",
       "      <th></th>\n",
       "    </tr>\n",
       "  </thead>\n",
       "  <tbody>\n",
       "    <tr>\n",
       "      <td>0</td>\n",
       "      <td>472</td>\n",
       "      <td>73</td>\n",
       "    </tr>\n",
       "    <tr>\n",
       "      <td>1</td>\n",
       "      <td>100</td>\n",
       "      <td>242</td>\n",
       "    </tr>\n",
       "  </tbody>\n",
       "</table>\n",
       "</div>"
      ],
      "text/plain": [
       "col_0     False  True \n",
       "Survived              \n",
       "0           472     73\n",
       "1           100    242"
      ]
     },
     "execution_count": 13,
     "metadata": {},
     "output_type": "execute_result"
    }
   ],
   "source": [
    "tab = pd.crosstab(csv[\"Survived\"] , prediction > 0.5)\n",
    "tab"
   ]
  },
  {
   "cell_type": "code",
   "execution_count": 14,
   "metadata": {},
   "outputs": [
    {
     "data": {
      "text/plain": [
       "0.8049605411499436"
      ]
     },
     "execution_count": 14,
     "metadata": {},
     "output_type": "execute_result"
    }
   ],
   "source": [
    "\n",
    "\n",
    "accuracy = np.sum(np.diag(tab))/np.sum(np.sum(tab))\n",
    "accuracy"
   ]
  },
  {
   "cell_type": "markdown",
   "metadata": {},
   "source": [
    "### Régression binomiale"
   ]
  },
  {
   "cell_type": "markdown",
   "metadata": {},
   "source": [
    "Il y a parfois des observations multiples correspondant à une même situation : par exemples deux hommes de même age, dans la même classe et avec leur épouse à bord. Avec deux résultats de survie différents. A l'intérieur d'une même catégorie, on va donc avoir des survivants et d'autre pas. Il s'agit d'un ensemble de résultats de Bernouilli, et ceci correspond à un loi binomiale, qui mesure le nombre de \"succès\" (ou d'échecs) parmi $n$ essais. "
   ]
  },
  {
   "cell_type": "markdown",
   "metadata": {},
   "source": [
    "Pour être plus proche de cette situation, nous allons transformer les données afin d'obtenir des catégories plus importantes (quantitativement) et peut-être rendre la prédiction plus robuste d'ailleurs. "
   ]
  },
  {
   "cell_type": "markdown",
   "metadata": {},
   "source": [
    "#### Données binomiales\n",
    "> On va créer des catégories d'age de 5 ans (de 0 à5, de 5 à 10, de 10 à 15, etc). Vous utiliserez pour ce faire la fonction `pd.cut(..)` etg ajouterez une colonne `Age_Range`à notre dataframe. "
   ]
  },
  {
   "cell_type": "code",
   "execution_count": 17,
   "metadata": {},
   "outputs": [
    {
     "data": {
      "text/html": [
       "<div>\n",
       "<style scoped>\n",
       "    .dataframe tbody tr th:only-of-type {\n",
       "        vertical-align: middle;\n",
       "    }\n",
       "\n",
       "    .dataframe tbody tr th {\n",
       "        vertical-align: top;\n",
       "    }\n",
       "\n",
       "    .dataframe thead th {\n",
       "        text-align: right;\n",
       "    }\n",
       "</style>\n",
       "<table border=\"1\" class=\"dataframe\">\n",
       "  <thead>\n",
       "    <tr style=\"text-align: right;\">\n",
       "      <th></th>\n",
       "      <th>Survived</th>\n",
       "      <th>Pclass</th>\n",
       "      <th>Name</th>\n",
       "      <th>Sex</th>\n",
       "      <th>Age</th>\n",
       "      <th>SiblingsSpousesAboard</th>\n",
       "      <th>ParentsChildrenAboard</th>\n",
       "      <th>Fare</th>\n",
       "      <th>AgeRange</th>\n",
       "    </tr>\n",
       "  </thead>\n",
       "  <tbody>\n",
       "    <tr>\n",
       "      <td>0</td>\n",
       "      <td>0</td>\n",
       "      <td>3</td>\n",
       "      <td>Mr. Owen Harris Braund</td>\n",
       "      <td>male</td>\n",
       "      <td>22.0</td>\n",
       "      <td>1</td>\n",
       "      <td>0</td>\n",
       "      <td>7.2500</td>\n",
       "      <td>25</td>\n",
       "    </tr>\n",
       "    <tr>\n",
       "      <td>1</td>\n",
       "      <td>1</td>\n",
       "      <td>1</td>\n",
       "      <td>Mrs. John Bradley (Florence Briggs Thayer) Cum...</td>\n",
       "      <td>female</td>\n",
       "      <td>38.0</td>\n",
       "      <td>1</td>\n",
       "      <td>0</td>\n",
       "      <td>71.2833</td>\n",
       "      <td>40</td>\n",
       "    </tr>\n",
       "    <tr>\n",
       "      <td>2</td>\n",
       "      <td>1</td>\n",
       "      <td>3</td>\n",
       "      <td>Miss. Laina Heikkinen</td>\n",
       "      <td>female</td>\n",
       "      <td>26.0</td>\n",
       "      <td>0</td>\n",
       "      <td>0</td>\n",
       "      <td>7.9250</td>\n",
       "      <td>30</td>\n",
       "    </tr>\n",
       "    <tr>\n",
       "      <td>3</td>\n",
       "      <td>1</td>\n",
       "      <td>1</td>\n",
       "      <td>Mrs. Jacques Heath (Lily May Peel) Futrelle</td>\n",
       "      <td>female</td>\n",
       "      <td>35.0</td>\n",
       "      <td>1</td>\n",
       "      <td>0</td>\n",
       "      <td>53.1000</td>\n",
       "      <td>35</td>\n",
       "    </tr>\n",
       "    <tr>\n",
       "      <td>4</td>\n",
       "      <td>0</td>\n",
       "      <td>3</td>\n",
       "      <td>Mr. William Henry Allen</td>\n",
       "      <td>male</td>\n",
       "      <td>35.0</td>\n",
       "      <td>0</td>\n",
       "      <td>0</td>\n",
       "      <td>8.0500</td>\n",
       "      <td>35</td>\n",
       "    </tr>\n",
       "    <tr>\n",
       "      <td>...</td>\n",
       "      <td>...</td>\n",
       "      <td>...</td>\n",
       "      <td>...</td>\n",
       "      <td>...</td>\n",
       "      <td>...</td>\n",
       "      <td>...</td>\n",
       "      <td>...</td>\n",
       "      <td>...</td>\n",
       "      <td>...</td>\n",
       "    </tr>\n",
       "    <tr>\n",
       "      <td>882</td>\n",
       "      <td>0</td>\n",
       "      <td>2</td>\n",
       "      <td>Rev. Juozas Montvila</td>\n",
       "      <td>male</td>\n",
       "      <td>27.0</td>\n",
       "      <td>0</td>\n",
       "      <td>0</td>\n",
       "      <td>13.0000</td>\n",
       "      <td>30</td>\n",
       "    </tr>\n",
       "    <tr>\n",
       "      <td>883</td>\n",
       "      <td>1</td>\n",
       "      <td>1</td>\n",
       "      <td>Miss. Margaret Edith Graham</td>\n",
       "      <td>female</td>\n",
       "      <td>19.0</td>\n",
       "      <td>0</td>\n",
       "      <td>0</td>\n",
       "      <td>30.0000</td>\n",
       "      <td>20</td>\n",
       "    </tr>\n",
       "    <tr>\n",
       "      <td>884</td>\n",
       "      <td>0</td>\n",
       "      <td>3</td>\n",
       "      <td>Miss. Catherine Helen Johnston</td>\n",
       "      <td>female</td>\n",
       "      <td>7.0</td>\n",
       "      <td>1</td>\n",
       "      <td>2</td>\n",
       "      <td>23.4500</td>\n",
       "      <td>10</td>\n",
       "    </tr>\n",
       "    <tr>\n",
       "      <td>885</td>\n",
       "      <td>1</td>\n",
       "      <td>1</td>\n",
       "      <td>Mr. Karl Howell Behr</td>\n",
       "      <td>male</td>\n",
       "      <td>26.0</td>\n",
       "      <td>0</td>\n",
       "      <td>0</td>\n",
       "      <td>30.0000</td>\n",
       "      <td>30</td>\n",
       "    </tr>\n",
       "    <tr>\n",
       "      <td>886</td>\n",
       "      <td>0</td>\n",
       "      <td>3</td>\n",
       "      <td>Mr. Patrick Dooley</td>\n",
       "      <td>male</td>\n",
       "      <td>32.0</td>\n",
       "      <td>0</td>\n",
       "      <td>0</td>\n",
       "      <td>7.7500</td>\n",
       "      <td>35</td>\n",
       "    </tr>\n",
       "  </tbody>\n",
       "</table>\n",
       "<p>887 rows × 9 columns</p>\n",
       "</div>"
      ],
      "text/plain": [
       "     Survived  Pclass                                               Name  \\\n",
       "0           0       3                             Mr. Owen Harris Braund   \n",
       "1           1       1  Mrs. John Bradley (Florence Briggs Thayer) Cum...   \n",
       "2           1       3                              Miss. Laina Heikkinen   \n",
       "3           1       1        Mrs. Jacques Heath (Lily May Peel) Futrelle   \n",
       "4           0       3                            Mr. William Henry Allen   \n",
       "..        ...     ...                                                ...   \n",
       "882         0       2                               Rev. Juozas Montvila   \n",
       "883         1       1                        Miss. Margaret Edith Graham   \n",
       "884         0       3                     Miss. Catherine Helen Johnston   \n",
       "885         1       1                               Mr. Karl Howell Behr   \n",
       "886         0       3                                 Mr. Patrick Dooley   \n",
       "\n",
       "        Sex   Age  SiblingsSpousesAboard  ParentsChildrenAboard     Fare  \\\n",
       "0      male  22.0                      1                      0   7.2500   \n",
       "1    female  38.0                      1                      0  71.2833   \n",
       "2    female  26.0                      0                      0   7.9250   \n",
       "3    female  35.0                      1                      0  53.1000   \n",
       "4      male  35.0                      0                      0   8.0500   \n",
       "..      ...   ...                    ...                    ...      ...   \n",
       "882    male  27.0                      0                      0  13.0000   \n",
       "883  female  19.0                      0                      0  30.0000   \n",
       "884  female   7.0                      1                      2  23.4500   \n",
       "885    male  26.0                      0                      0  30.0000   \n",
       "886    male  32.0                      0                      0   7.7500   \n",
       "\n",
       "    AgeRange  \n",
       "0         25  \n",
       "1         40  \n",
       "2         30  \n",
       "3         35  \n",
       "4         35  \n",
       "..       ...  \n",
       "882       30  \n",
       "883       20  \n",
       "884       10  \n",
       "885       30  \n",
       "886       35  \n",
       "\n",
       "[887 rows x 9 columns]"
      ]
     },
     "execution_count": 17,
     "metadata": {},
     "output_type": "execute_result"
    }
   ],
   "source": [
    "#define the bins\n",
    "age_range_bins=[0,5,10,15,20,25,30,35,40,45,50,55,60,65,70,75,80]\n",
    "#define the label for each bin. Num labels = Num bins - 1\n",
    "age_range_labels=[5,10,15,20,25,30,35,40,45,50,55,60,65,70,75,80]\n",
    "#Cut up the age range into multiple bins and stuff them into a new Age_Range column\n",
    "csv['AgeRange'] = pd.cut(csv[\"Age\"],age_range_bins,labels=age_range_labels)\n",
    "csv\n"
   ]
  },
  {
   "cell_type": "markdown",
   "metadata": {},
   "source": [
    "### Regroupements"
   ]
  },
  {
   "cell_type": "markdown",
   "metadata": {},
   "source": [
    "> On va maintenant regrouper les données par mêmes (Class, Sex, et Age_Range). \n",
    "> Il s'agira de compter a) le nombre d'individus dans chacune de ces catégories, b)le nombre de survivants (et par différence de morts). Il vous faut obtenir un tableau ['Pclass', 'Sex', 'Age_Range', 'Survived', 'Died', 'Total']. On peut s'y prendre avec des groupby, et utiliser les fonctions d'aggrégation 'sum' et 'count'. On peut aussi faire cela avec une table croisée dynamique `pivot_table`"
   ]
  },
  {
   "cell_type": "markdown",
   "metadata": {},
   "source": [
    "> Si vous utilisez la table croisée, les commandes suivantes\n",
    ">```\n",
    "pt.columns = pt.columns.to_flat_index()\n",
    "pt.reset_index(inplace=True)\n",
    ">```\n",
    ">permettent d'applatir les index de colonne et de lignes. "
   ]
  },
  {
   "cell_type": "code",
   "execution_count": 63,
   "metadata": {},
   "outputs": [],
   "source": [
    "pivot_t = csv.pivot_table(index=[\"Pclass\",\"Sex\",\"AgeRange\"],values=[\"Survived\"],aggfunc=['sum','count'])\n"
   ]
  },
  {
   "cell_type": "code",
   "execution_count": 64,
   "metadata": {},
   "outputs": [
    {
     "data": {
      "text/html": [
       "<div>\n",
       "<style scoped>\n",
       "    .dataframe tbody tr th:only-of-type {\n",
       "        vertical-align: middle;\n",
       "    }\n",
       "\n",
       "    .dataframe tbody tr th {\n",
       "        vertical-align: top;\n",
       "    }\n",
       "\n",
       "    .dataframe thead tr th {\n",
       "        text-align: left;\n",
       "    }\n",
       "\n",
       "    .dataframe thead tr:last-of-type th {\n",
       "        text-align: right;\n",
       "    }\n",
       "</style>\n",
       "<table border=\"1\" class=\"dataframe\">\n",
       "  <thead>\n",
       "    <tr>\n",
       "      <th></th>\n",
       "      <th></th>\n",
       "      <th></th>\n",
       "      <th>sum</th>\n",
       "      <th>count</th>\n",
       "    </tr>\n",
       "    <tr>\n",
       "      <th></th>\n",
       "      <th></th>\n",
       "      <th></th>\n",
       "      <th>Survived</th>\n",
       "      <th>Survived</th>\n",
       "    </tr>\n",
       "    <tr>\n",
       "      <th>Pclass</th>\n",
       "      <th>Sex</th>\n",
       "      <th>AgeRange</th>\n",
       "      <th></th>\n",
       "      <th></th>\n",
       "    </tr>\n",
       "  </thead>\n",
       "  <tbody>\n",
       "    <tr>\n",
       "      <td rowspan=\"5\" valign=\"top\">1</td>\n",
       "      <td rowspan=\"5\" valign=\"top\">female</td>\n",
       "      <td>5</td>\n",
       "      <td>0</td>\n",
       "      <td>1</td>\n",
       "    </tr>\n",
       "    <tr>\n",
       "      <td>15</td>\n",
       "      <td>2</td>\n",
       "      <td>2</td>\n",
       "    </tr>\n",
       "    <tr>\n",
       "      <td>20</td>\n",
       "      <td>11</td>\n",
       "      <td>11</td>\n",
       "    </tr>\n",
       "    <tr>\n",
       "      <td>25</td>\n",
       "      <td>14</td>\n",
       "      <td>15</td>\n",
       "    </tr>\n",
       "    <tr>\n",
       "      <td>30</td>\n",
       "      <td>7</td>\n",
       "      <td>7</td>\n",
       "    </tr>\n",
       "    <tr>\n",
       "      <td>...</td>\n",
       "      <td>...</td>\n",
       "      <td>...</td>\n",
       "      <td>...</td>\n",
       "      <td>...</td>\n",
       "    </tr>\n",
       "    <tr>\n",
       "      <td rowspan=\"5\" valign=\"top\">3</td>\n",
       "      <td rowspan=\"5\" valign=\"top\">male</td>\n",
       "      <td>55</td>\n",
       "      <td>0</td>\n",
       "      <td>5</td>\n",
       "    </tr>\n",
       "    <tr>\n",
       "      <td>60</td>\n",
       "      <td>0</td>\n",
       "      <td>2</td>\n",
       "    </tr>\n",
       "    <tr>\n",
       "      <td>65</td>\n",
       "      <td>0</td>\n",
       "      <td>2</td>\n",
       "    </tr>\n",
       "    <tr>\n",
       "      <td>70</td>\n",
       "      <td>0</td>\n",
       "      <td>2</td>\n",
       "    </tr>\n",
       "    <tr>\n",
       "      <td>75</td>\n",
       "      <td>0</td>\n",
       "      <td>2</td>\n",
       "    </tr>\n",
       "  </tbody>\n",
       "</table>\n",
       "<p>78 rows × 2 columns</p>\n",
       "</div>"
      ],
      "text/plain": [
       "                            sum    count\n",
       "                       Survived Survived\n",
       "Pclass Sex    AgeRange                  \n",
       "1      female 5               0        1\n",
       "              15              2        2\n",
       "              20             11       11\n",
       "              25             14       15\n",
       "              30              7        7\n",
       "...                         ...      ...\n",
       "3      male   55              0        5\n",
       "              60              0        2\n",
       "              65              0        2\n",
       "              70              0        2\n",
       "              75              0        2\n",
       "\n",
       "[78 rows x 2 columns]"
      ]
     },
     "execution_count": 64,
     "metadata": {},
     "output_type": "execute_result"
    }
   ],
   "source": [
    "pivot_t"
   ]
  },
  {
   "cell_type": "code",
   "execution_count": 65,
   "metadata": {},
   "outputs": [
    {
     "data": {
      "text/html": [
       "<div>\n",
       "<style scoped>\n",
       "    .dataframe tbody tr th:only-of-type {\n",
       "        vertical-align: middle;\n",
       "    }\n",
       "\n",
       "    .dataframe tbody tr th {\n",
       "        vertical-align: top;\n",
       "    }\n",
       "\n",
       "    .dataframe thead th {\n",
       "        text-align: right;\n",
       "    }\n",
       "</style>\n",
       "<table border=\"1\" class=\"dataframe\">\n",
       "  <thead>\n",
       "    <tr style=\"text-align: right;\">\n",
       "      <th></th>\n",
       "      <th>Pclass</th>\n",
       "      <th>Sex</th>\n",
       "      <th>AgeRange</th>\n",
       "      <th>(sum, Survived)</th>\n",
       "      <th>(count, Survived)</th>\n",
       "    </tr>\n",
       "  </thead>\n",
       "  <tbody>\n",
       "    <tr>\n",
       "      <td>0</td>\n",
       "      <td>1</td>\n",
       "      <td>female</td>\n",
       "      <td>5</td>\n",
       "      <td>0</td>\n",
       "      <td>1</td>\n",
       "    </tr>\n",
       "    <tr>\n",
       "      <td>1</td>\n",
       "      <td>1</td>\n",
       "      <td>female</td>\n",
       "      <td>15</td>\n",
       "      <td>2</td>\n",
       "      <td>2</td>\n",
       "    </tr>\n",
       "    <tr>\n",
       "      <td>2</td>\n",
       "      <td>1</td>\n",
       "      <td>female</td>\n",
       "      <td>20</td>\n",
       "      <td>11</td>\n",
       "      <td>11</td>\n",
       "    </tr>\n",
       "    <tr>\n",
       "      <td>3</td>\n",
       "      <td>1</td>\n",
       "      <td>female</td>\n",
       "      <td>25</td>\n",
       "      <td>14</td>\n",
       "      <td>15</td>\n",
       "    </tr>\n",
       "    <tr>\n",
       "      <td>4</td>\n",
       "      <td>1</td>\n",
       "      <td>female</td>\n",
       "      <td>30</td>\n",
       "      <td>7</td>\n",
       "      <td>7</td>\n",
       "    </tr>\n",
       "    <tr>\n",
       "      <td>...</td>\n",
       "      <td>...</td>\n",
       "      <td>...</td>\n",
       "      <td>...</td>\n",
       "      <td>...</td>\n",
       "      <td>...</td>\n",
       "    </tr>\n",
       "    <tr>\n",
       "      <td>73</td>\n",
       "      <td>3</td>\n",
       "      <td>male</td>\n",
       "      <td>55</td>\n",
       "      <td>0</td>\n",
       "      <td>5</td>\n",
       "    </tr>\n",
       "    <tr>\n",
       "      <td>74</td>\n",
       "      <td>3</td>\n",
       "      <td>male</td>\n",
       "      <td>60</td>\n",
       "      <td>0</td>\n",
       "      <td>2</td>\n",
       "    </tr>\n",
       "    <tr>\n",
       "      <td>75</td>\n",
       "      <td>3</td>\n",
       "      <td>male</td>\n",
       "      <td>65</td>\n",
       "      <td>0</td>\n",
       "      <td>2</td>\n",
       "    </tr>\n",
       "    <tr>\n",
       "      <td>76</td>\n",
       "      <td>3</td>\n",
       "      <td>male</td>\n",
       "      <td>70</td>\n",
       "      <td>0</td>\n",
       "      <td>2</td>\n",
       "    </tr>\n",
       "    <tr>\n",
       "      <td>77</td>\n",
       "      <td>3</td>\n",
       "      <td>male</td>\n",
       "      <td>75</td>\n",
       "      <td>0</td>\n",
       "      <td>2</td>\n",
       "    </tr>\n",
       "  </tbody>\n",
       "</table>\n",
       "<p>78 rows × 5 columns</p>\n",
       "</div>"
      ],
      "text/plain": [
       "    Pclass     Sex AgeRange  (sum, Survived)  (count, Survived)\n",
       "0        1  female        5                0                  1\n",
       "1        1  female       15                2                  2\n",
       "2        1  female       20               11                 11\n",
       "3        1  female       25               14                 15\n",
       "4        1  female       30                7                  7\n",
       "..     ...     ...      ...              ...                ...\n",
       "73       3    male       55                0                  5\n",
       "74       3    male       60                0                  2\n",
       "75       3    male       65                0                  2\n",
       "76       3    male       70                0                  2\n",
       "77       3    male       75                0                  2\n",
       "\n",
       "[78 rows x 5 columns]"
      ]
     },
     "execution_count": 65,
     "metadata": {},
     "output_type": "execute_result"
    }
   ],
   "source": [
    "pivot_t.columns = pivot_t.columns.to_flat_index()\n",
    "pivot_t.reset_index(inplace=True)\n",
    "pivot_t"
   ]
  },
  {
   "cell_type": "code",
   "execution_count": 66,
   "metadata": {},
   "outputs": [
    {
     "data": {
      "text/html": [
       "<div>\n",
       "<style scoped>\n",
       "    .dataframe tbody tr th:only-of-type {\n",
       "        vertical-align: middle;\n",
       "    }\n",
       "\n",
       "    .dataframe tbody tr th {\n",
       "        vertical-align: top;\n",
       "    }\n",
       "\n",
       "    .dataframe thead th {\n",
       "        text-align: right;\n",
       "    }\n",
       "</style>\n",
       "<table border=\"1\" class=\"dataframe\">\n",
       "  <thead>\n",
       "    <tr style=\"text-align: right;\">\n",
       "      <th></th>\n",
       "      <th>Pclass</th>\n",
       "      <th>Sex</th>\n",
       "      <th>AgeRange</th>\n",
       "      <th>Survived</th>\n",
       "      <th>Total</th>\n",
       "      <th>Died</th>\n",
       "    </tr>\n",
       "  </thead>\n",
       "  <tbody>\n",
       "    <tr>\n",
       "      <td>0</td>\n",
       "      <td>1</td>\n",
       "      <td>female</td>\n",
       "      <td>5</td>\n",
       "      <td>0</td>\n",
       "      <td>1</td>\n",
       "      <td>1</td>\n",
       "    </tr>\n",
       "    <tr>\n",
       "      <td>1</td>\n",
       "      <td>1</td>\n",
       "      <td>female</td>\n",
       "      <td>15</td>\n",
       "      <td>2</td>\n",
       "      <td>2</td>\n",
       "      <td>0</td>\n",
       "    </tr>\n",
       "    <tr>\n",
       "      <td>2</td>\n",
       "      <td>1</td>\n",
       "      <td>female</td>\n",
       "      <td>20</td>\n",
       "      <td>11</td>\n",
       "      <td>11</td>\n",
       "      <td>0</td>\n",
       "    </tr>\n",
       "    <tr>\n",
       "      <td>3</td>\n",
       "      <td>1</td>\n",
       "      <td>female</td>\n",
       "      <td>25</td>\n",
       "      <td>14</td>\n",
       "      <td>15</td>\n",
       "      <td>1</td>\n",
       "    </tr>\n",
       "    <tr>\n",
       "      <td>4</td>\n",
       "      <td>1</td>\n",
       "      <td>female</td>\n",
       "      <td>30</td>\n",
       "      <td>7</td>\n",
       "      <td>7</td>\n",
       "      <td>0</td>\n",
       "    </tr>\n",
       "    <tr>\n",
       "      <td>...</td>\n",
       "      <td>...</td>\n",
       "      <td>...</td>\n",
       "      <td>...</td>\n",
       "      <td>...</td>\n",
       "      <td>...</td>\n",
       "      <td>...</td>\n",
       "    </tr>\n",
       "    <tr>\n",
       "      <td>73</td>\n",
       "      <td>3</td>\n",
       "      <td>male</td>\n",
       "      <td>55</td>\n",
       "      <td>0</td>\n",
       "      <td>5</td>\n",
       "      <td>5</td>\n",
       "    </tr>\n",
       "    <tr>\n",
       "      <td>74</td>\n",
       "      <td>3</td>\n",
       "      <td>male</td>\n",
       "      <td>60</td>\n",
       "      <td>0</td>\n",
       "      <td>2</td>\n",
       "      <td>2</td>\n",
       "    </tr>\n",
       "    <tr>\n",
       "      <td>75</td>\n",
       "      <td>3</td>\n",
       "      <td>male</td>\n",
       "      <td>65</td>\n",
       "      <td>0</td>\n",
       "      <td>2</td>\n",
       "      <td>2</td>\n",
       "    </tr>\n",
       "    <tr>\n",
       "      <td>76</td>\n",
       "      <td>3</td>\n",
       "      <td>male</td>\n",
       "      <td>70</td>\n",
       "      <td>0</td>\n",
       "      <td>2</td>\n",
       "      <td>2</td>\n",
       "    </tr>\n",
       "    <tr>\n",
       "      <td>77</td>\n",
       "      <td>3</td>\n",
       "      <td>male</td>\n",
       "      <td>75</td>\n",
       "      <td>0</td>\n",
       "      <td>2</td>\n",
       "      <td>2</td>\n",
       "    </tr>\n",
       "  </tbody>\n",
       "</table>\n",
       "<p>78 rows × 6 columns</p>\n",
       "</div>"
      ],
      "text/plain": [
       "    Pclass     Sex AgeRange  Survived  Total  Died\n",
       "0        1  female        5         0      1     1\n",
       "1        1  female       15         2      2     0\n",
       "2        1  female       20        11     11     0\n",
       "3        1  female       25        14     15     1\n",
       "4        1  female       30         7      7     0\n",
       "..     ...     ...      ...       ...    ...   ...\n",
       "73       3    male       55         0      5     5\n",
       "74       3    male       60         0      2     2\n",
       "75       3    male       65         0      2     2\n",
       "76       3    male       70         0      2     2\n",
       "77       3    male       75         0      2     2\n",
       "\n",
       "[78 rows x 6 columns]"
      ]
     },
     "execution_count": 66,
     "metadata": {},
     "output_type": "execute_result"
    }
   ],
   "source": [
    "pivot_t.columns = [\"Pclass\",\"Sex\",\"AgeRange\",\"Survived\",\"Total\"]\n",
    "pivot_t[\"Died\"] = pivot_t[\"Total\"] - pivot_t[\"Survived\"]\n",
    "pivot_t"
   ]
  },
  {
   "cell_type": "markdown",
   "metadata": {},
   "source": [
    "> Lorsque votre table a été créée, contrôler quels sont le stypes de vos différentes colonnes. Age_range et Sex devraient être des catégories"
   ]
  },
  {
   "cell_type": "code",
   "execution_count": 67,
   "metadata": {},
   "outputs": [
    {
     "name": "stdout",
     "output_type": "stream",
     "text": [
      "<class 'pandas.core.frame.DataFrame'>\n",
      "RangeIndex: 78 entries, 0 to 77\n",
      "Data columns (total 6 columns):\n",
      "Pclass      78 non-null int64\n",
      "Sex         78 non-null object\n",
      "AgeRange    78 non-null category\n",
      "Survived    78 non-null int64\n",
      "Total       78 non-null int64\n",
      "Died        78 non-null int64\n",
      "dtypes: category(1), int64(4), object(1)\n",
      "memory usage: 4.0+ KB\n"
     ]
    }
   ],
   "source": [
    "pivot_t.info()"
   ]
  },
  {
   "cell_type": "code",
   "execution_count": 68,
   "metadata": {},
   "outputs": [],
   "source": [
    "pivot_t.Sex = pivot_t.Sex.astype(\"category\")\n",
    "pivot_t.Pclass = pivot_t.Pclass.astype('category')"
   ]
  },
  {
   "cell_type": "code",
   "execution_count": 69,
   "metadata": {},
   "outputs": [
    {
     "name": "stdout",
     "output_type": "stream",
     "text": [
      "<class 'pandas.core.frame.DataFrame'>\n",
      "RangeIndex: 78 entries, 0 to 77\n",
      "Data columns (total 6 columns):\n",
      "Pclass      78 non-null category\n",
      "Sex         78 non-null category\n",
      "AgeRange    78 non-null category\n",
      "Survived    78 non-null int64\n",
      "Total       78 non-null int64\n",
      "Died        78 non-null int64\n",
      "dtypes: category(3), int64(3)\n",
      "memory usage: 3.1 KB\n"
     ]
    }
   ],
   "source": [
    "pivot_t.info()"
   ]
  },
  {
   "cell_type": "markdown",
   "metadata": {},
   "source": [
    "### Régressions binomiales"
   ]
  },
  {
   "cell_type": "markdown",
   "metadata": {},
   "source": [
    "> Mettre en oeuvre une régression binomiale en cherchant à modéliser le couple (Survie, Décès). Ceci conduit le glm à modéliser la proportion des Survies. Pour utiliser le glm, il faut spécifier `Survived + Died ~ ` dans la formule. "
   ]
  },
  {
   "cell_type": "code",
   "execution_count": 70,
   "metadata": {},
   "outputs": [],
   "source": [
    "model = smf.glm(formula=\"Survived + Died ~ Pclass + AgeRange + Sex\", data = pivot_t,family=sm.families.Binomial())\n",
    "model_res = model.fit()"
   ]
  },
  {
   "cell_type": "markdown",
   "metadata": {},
   "source": [
    "> Afficher les résumés des résulats avec `GLMsummary`"
   ]
  },
  {
   "cell_type": "code",
   "execution_count": 71,
   "metadata": {},
   "outputs": [
    {
     "data": {
      "text/html": [
       "<table class=\"simpletable\">\n",
       "<caption>Generalized Linear Model Regression Results</caption>\n",
       "<tr>\n",
       "  <th>Dep. Variable:</th>   <td>['Survived', 'Died']</td> <th>  No. Observations:  </th>  <td>    78</td> \n",
       "</tr>\n",
       "<tr>\n",
       "  <th>Model:</th>                    <td>GLM</td>         <th>  Df Residuals:      </th>  <td>    59</td> \n",
       "</tr>\n",
       "<tr>\n",
       "  <th>Model Family:</th>          <td>Binomial</td>       <th>  Df Model:          </th>  <td>    18</td> \n",
       "</tr>\n",
       "<tr>\n",
       "  <th>Link Function:</th>           <td>logit</td>        <th>  Scale:             </th> <td>  1.0000</td>\n",
       "</tr>\n",
       "<tr>\n",
       "  <th>Method:</th>                  <td>IRLS</td>         <th>  Log-Likelihood:    </th> <td> -113.95</td>\n",
       "</tr>\n",
       "<tr>\n",
       "  <th>Date:</th>              <td>Wed, 24 Nov 2021</td>   <th>  Deviance:          </th> <td>  129.58</td>\n",
       "</tr>\n",
       "<tr>\n",
       "  <th>Time:</th>                  <td>10:01:43</td>       <th>  Pearson chi2:      </th>  <td>  200.</td> \n",
       "</tr>\n",
       "<tr>\n",
       "  <th>No. Iterations:</th>           <td>21</td>          <th>                     </th>     <td> </td>   \n",
       "</tr>\n",
       "<tr>\n",
       "  <th>Covariance Type:</th>       <td>nonrobust</td>      <th>                     </th>     <td> </td>   \n",
       "</tr>\n",
       "</table>"
      ],
      "text/plain": [
       "<class 'statsmodels.iolib.table.SimpleTable'>"
      ]
     },
     "metadata": {},
     "output_type": "display_data"
    },
    {
     "data": {
      "text/html": [
       "<div>\n",
       "<style scoped>\n",
       "    .dataframe tbody tr th:only-of-type {\n",
       "        vertical-align: middle;\n",
       "    }\n",
       "\n",
       "    .dataframe tbody tr th {\n",
       "        vertical-align: top;\n",
       "    }\n",
       "\n",
       "    .dataframe thead th {\n",
       "        text-align: right;\n",
       "    }\n",
       "</style>\n",
       "<table border=\"1\" class=\"dataframe\">\n",
       "  <thead>\n",
       "    <tr style=\"text-align: right;\">\n",
       "      <th></th>\n",
       "      <th>coef</th>\n",
       "      <th>std err</th>\n",
       "      <th>z</th>\n",
       "      <th>P&gt;|z|</th>\n",
       "      <th>[0.025</th>\n",
       "      <th>0.975]</th>\n",
       "      <th>p-value</th>\n",
       "      <th>Code</th>\n",
       "    </tr>\n",
       "  </thead>\n",
       "  <tbody>\n",
       "    <tr>\n",
       "      <td>Intercept</td>\n",
       "      <td>4.4720</td>\n",
       "      <td>0.475</td>\n",
       "      <td>9.422</td>\n",
       "      <td>0.000</td>\n",
       "      <td>3.542</td>\n",
       "      <td>5.402</td>\n",
       "      <td>4.443562e-21</td>\n",
       "      <td>***</td>\n",
       "    </tr>\n",
       "    <tr>\n",
       "      <td>Pclass[T.2]</td>\n",
       "      <td>-1.2785</td>\n",
       "      <td>0.274</td>\n",
       "      <td>-4.670</td>\n",
       "      <td>0.000</td>\n",
       "      <td>-1.815</td>\n",
       "      <td>-0.742</td>\n",
       "      <td>3.008150e-06</td>\n",
       "      <td>***</td>\n",
       "    </tr>\n",
       "    <tr>\n",
       "      <td>Pclass[T.3]</td>\n",
       "      <td>-2.4451</td>\n",
       "      <td>0.263</td>\n",
       "      <td>-9.285</td>\n",
       "      <td>0.000</td>\n",
       "      <td>-2.961</td>\n",
       "      <td>-1.929</td>\n",
       "      <td>1.610693e-20</td>\n",
       "      <td>***</td>\n",
       "    </tr>\n",
       "    <tr>\n",
       "      <td>AgeRange[T.10]</td>\n",
       "      <td>-2.0555</td>\n",
       "      <td>0.637</td>\n",
       "      <td>-3.225</td>\n",
       "      <td>0.001</td>\n",
       "      <td>-3.305</td>\n",
       "      <td>-0.806</td>\n",
       "      <td>1.259550e-03</td>\n",
       "      <td>**</td>\n",
       "    </tr>\n",
       "    <tr>\n",
       "      <td>AgeRange[T.15]</td>\n",
       "      <td>-1.5214</td>\n",
       "      <td>0.654</td>\n",
       "      <td>-2.326</td>\n",
       "      <td>0.020</td>\n",
       "      <td>-2.803</td>\n",
       "      <td>-0.239</td>\n",
       "      <td>2.001744e-02</td>\n",
       "      <td>*</td>\n",
       "    </tr>\n",
       "    <tr>\n",
       "      <td>AgeRange[T.20]</td>\n",
       "      <td>-1.6749</td>\n",
       "      <td>0.441</td>\n",
       "      <td>-3.801</td>\n",
       "      <td>0.000</td>\n",
       "      <td>-2.539</td>\n",
       "      <td>-0.811</td>\n",
       "      <td>1.440349e-04</td>\n",
       "      <td>***</td>\n",
       "    </tr>\n",
       "    <tr>\n",
       "      <td>AgeRange[T.25]</td>\n",
       "      <td>-1.8930</td>\n",
       "      <td>0.427</td>\n",
       "      <td>-4.428</td>\n",
       "      <td>0.000</td>\n",
       "      <td>-2.731</td>\n",
       "      <td>-1.055</td>\n",
       "      <td>9.504195e-06</td>\n",
       "      <td>***</td>\n",
       "    </tr>\n",
       "    <tr>\n",
       "      <td>AgeRange[T.30]</td>\n",
       "      <td>-1.5897</td>\n",
       "      <td>0.427</td>\n",
       "      <td>-3.721</td>\n",
       "      <td>0.000</td>\n",
       "      <td>-2.427</td>\n",
       "      <td>-0.752</td>\n",
       "      <td>1.981227e-04</td>\n",
       "      <td>***</td>\n",
       "    </tr>\n",
       "    <tr>\n",
       "      <td>AgeRange[T.35]</td>\n",
       "      <td>-1.1639</td>\n",
       "      <td>0.447</td>\n",
       "      <td>-2.601</td>\n",
       "      <td>0.009</td>\n",
       "      <td>-2.041</td>\n",
       "      <td>-0.287</td>\n",
       "      <td>9.297435e-03</td>\n",
       "      <td>**</td>\n",
       "    </tr>\n",
       "    <tr>\n",
       "      <td>AgeRange[T.40]</td>\n",
       "      <td>-2.2660</td>\n",
       "      <td>0.480</td>\n",
       "      <td>-4.721</td>\n",
       "      <td>0.000</td>\n",
       "      <td>-3.207</td>\n",
       "      <td>-1.325</td>\n",
       "      <td>2.352508e-06</td>\n",
       "      <td>***</td>\n",
       "    </tr>\n",
       "    <tr>\n",
       "      <td>AgeRange[T.45]</td>\n",
       "      <td>-2.3689</td>\n",
       "      <td>0.520</td>\n",
       "      <td>-4.552</td>\n",
       "      <td>0.000</td>\n",
       "      <td>-3.389</td>\n",
       "      <td>-1.349</td>\n",
       "      <td>5.310501e-06</td>\n",
       "      <td>***</td>\n",
       "    </tr>\n",
       "    <tr>\n",
       "      <td>AgeRange[T.50]</td>\n",
       "      <td>-2.2768</td>\n",
       "      <td>0.535</td>\n",
       "      <td>-4.258</td>\n",
       "      <td>0.000</td>\n",
       "      <td>-3.325</td>\n",
       "      <td>-1.229</td>\n",
       "      <td>2.066154e-05</td>\n",
       "      <td>***</td>\n",
       "    </tr>\n",
       "    <tr>\n",
       "      <td>AgeRange[T.55]</td>\n",
       "      <td>-2.4528</td>\n",
       "      <td>0.666</td>\n",
       "      <td>-3.683</td>\n",
       "      <td>0.000</td>\n",
       "      <td>-3.758</td>\n",
       "      <td>-1.148</td>\n",
       "      <td>2.301687e-04</td>\n",
       "      <td>***</td>\n",
       "    </tr>\n",
       "    <tr>\n",
       "      <td>AgeRange[T.60]</td>\n",
       "      <td>-2.9873</td>\n",
       "      <td>0.722</td>\n",
       "      <td>-4.139</td>\n",
       "      <td>0.000</td>\n",
       "      <td>-4.402</td>\n",
       "      <td>-1.573</td>\n",
       "      <td>3.483500e-05</td>\n",
       "      <td>***</td>\n",
       "    </tr>\n",
       "    <tr>\n",
       "      <td>AgeRange[T.65]</td>\n",
       "      <td>-3.1584</td>\n",
       "      <td>0.779</td>\n",
       "      <td>-4.052</td>\n",
       "      <td>0.000</td>\n",
       "      <td>-4.686</td>\n",
       "      <td>-1.631</td>\n",
       "      <td>5.079994e-05</td>\n",
       "      <td>***</td>\n",
       "    </tr>\n",
       "    <tr>\n",
       "      <td>AgeRange[T.70]</td>\n",
       "      <td>-23.1383</td>\n",
       "      <td>1.99e+04</td>\n",
       "      <td>-0.001</td>\n",
       "      <td>0.999</td>\n",
       "      <td>-3.91e+04</td>\n",
       "      <td>3.9e+04</td>\n",
       "      <td>9.990734e-01</td>\n",
       "      <td></td>\n",
       "    </tr>\n",
       "    <tr>\n",
       "      <td>AgeRange[T.75]</td>\n",
       "      <td>-23.5027</td>\n",
       "      <td>2.13e+04</td>\n",
       "      <td>-0.001</td>\n",
       "      <td>0.999</td>\n",
       "      <td>-4.18e+04</td>\n",
       "      <td>4.18e+04</td>\n",
       "      <td>9.991209e-01</td>\n",
       "      <td></td>\n",
       "    </tr>\n",
       "    <tr>\n",
       "      <td>AgeRange[T.80]</td>\n",
       "      <td>20.7756</td>\n",
       "      <td>4.82e+04</td>\n",
       "      <td>0.000</td>\n",
       "      <td>1.000</td>\n",
       "      <td>-9.44e+04</td>\n",
       "      <td>9.45e+04</td>\n",
       "      <td>9.996561e-01</td>\n",
       "      <td></td>\n",
       "    </tr>\n",
       "    <tr>\n",
       "      <td>Sex[T.male]</td>\n",
       "      <td>-2.6814</td>\n",
       "      <td>0.196</td>\n",
       "      <td>-13.710</td>\n",
       "      <td>0.000</td>\n",
       "      <td>-3.065</td>\n",
       "      <td>-2.298</td>\n",
       "      <td>8.814593e-43</td>\n",
       "      <td>***</td>\n",
       "    </tr>\n",
       "  </tbody>\n",
       "</table>\n",
       "</div>"
      ],
      "text/plain": [
       "                      coef    std err          z   P>|z|     [0.025  \\\n",
       "Intercept           4.4720      0.475      9.422   0.000      3.542   \n",
       "Pclass[T.2]        -1.2785      0.274     -4.670   0.000     -1.815   \n",
       "Pclass[T.3]        -2.4451      0.263     -9.285   0.000     -2.961   \n",
       "AgeRange[T.10]     -2.0555      0.637     -3.225   0.001     -3.305   \n",
       "AgeRange[T.15]     -1.5214      0.654     -2.326   0.020     -2.803   \n",
       "AgeRange[T.20]     -1.6749      0.441     -3.801   0.000     -2.539   \n",
       "AgeRange[T.25]     -1.8930      0.427     -4.428   0.000     -2.731   \n",
       "AgeRange[T.30]     -1.5897      0.427     -3.721   0.000     -2.427   \n",
       "AgeRange[T.35]     -1.1639      0.447     -2.601   0.009     -2.041   \n",
       "AgeRange[T.40]     -2.2660      0.480     -4.721   0.000     -3.207   \n",
       "AgeRange[T.45]     -2.3689      0.520     -4.552   0.000     -3.389   \n",
       "AgeRange[T.50]     -2.2768      0.535     -4.258   0.000     -3.325   \n",
       "AgeRange[T.55]     -2.4528      0.666     -3.683   0.000     -3.758   \n",
       "AgeRange[T.60]     -2.9873      0.722     -4.139   0.000     -4.402   \n",
       "AgeRange[T.65]     -3.1584      0.779     -4.052   0.000     -4.686   \n",
       "AgeRange[T.70]    -23.1383   1.99e+04     -0.001   0.999  -3.91e+04   \n",
       "AgeRange[T.75]    -23.5027   2.13e+04     -0.001   0.999  -4.18e+04   \n",
       "AgeRange[T.80]     20.7756   4.82e+04      0.000   1.000  -9.44e+04   \n",
       "Sex[T.male]        -2.6814      0.196    -13.710   0.000     -3.065   \n",
       "\n",
       "                   0.975]       p-value Code  \n",
       "Intercept           5.402  4.443562e-21  ***  \n",
       "Pclass[T.2]        -0.742  3.008150e-06  ***  \n",
       "Pclass[T.3]        -1.929  1.610693e-20  ***  \n",
       "AgeRange[T.10]     -0.806  1.259550e-03   **  \n",
       "AgeRange[T.15]     -0.239  2.001744e-02    *  \n",
       "AgeRange[T.20]     -0.811  1.440349e-04  ***  \n",
       "AgeRange[T.25]     -1.055  9.504195e-06  ***  \n",
       "AgeRange[T.30]     -0.752  1.981227e-04  ***  \n",
       "AgeRange[T.35]     -0.287  9.297435e-03   **  \n",
       "AgeRange[T.40]     -1.325  2.352508e-06  ***  \n",
       "AgeRange[T.45]     -1.349  5.310501e-06  ***  \n",
       "AgeRange[T.50]     -1.229  2.066154e-05  ***  \n",
       "AgeRange[T.55]     -1.148  2.301687e-04  ***  \n",
       "AgeRange[T.60]     -1.573  3.483500e-05  ***  \n",
       "AgeRange[T.65]     -1.631  5.079994e-05  ***  \n",
       "AgeRange[T.70]    3.9e+04  9.990734e-01       \n",
       "AgeRange[T.75]   4.18e+04  9.991209e-01       \n",
       "AgeRange[T.80]   9.45e+04  9.996561e-01       \n",
       "Sex[T.male]        -2.298  8.814593e-43  ***  "
      ]
     },
     "metadata": {},
     "output_type": "display_data"
    },
    {
     "data": {
      "text/html": [
       "Signif. codes:  0 '***' 0.001 '**' 0.01 '*' 0.05 '.' 0.1 ' ' 1"
      ],
      "text/plain": [
       "<IPython.core.display.HTML object>"
      ]
     },
     "metadata": {},
     "output_type": "display_data"
    },
    {
     "data": {
      "text/html": [
       "AIC with 19 ddl = 265.90"
      ],
      "text/plain": [
       "<IPython.core.display.HTML object>"
      ]
     },
     "metadata": {},
     "output_type": "display_data"
    }
   ],
   "source": [
    "GLMsummary(model_res)"
   ]
  },
  {
   "cell_type": "code",
   "execution_count": 72,
   "metadata": {},
   "outputs": [],
   "source": [
    "prediction = model_res.predict()"
   ]
  },
  {
   "cell_type": "code",
   "execution_count": 73,
   "metadata": {},
   "outputs": [
    {
     "data": {
      "text/html": [
       "<div>\n",
       "<style scoped>\n",
       "    .dataframe tbody tr th:only-of-type {\n",
       "        vertical-align: middle;\n",
       "    }\n",
       "\n",
       "    .dataframe tbody tr th {\n",
       "        vertical-align: top;\n",
       "    }\n",
       "\n",
       "    .dataframe thead th {\n",
       "        text-align: right;\n",
       "    }\n",
       "</style>\n",
       "<table border=\"1\" class=\"dataframe\">\n",
       "  <thead>\n",
       "    <tr style=\"text-align: right;\">\n",
       "      <th>col_0</th>\n",
       "      <th>False</th>\n",
       "      <th>True</th>\n",
       "    </tr>\n",
       "    <tr>\n",
       "      <th>Survived</th>\n",
       "      <th></th>\n",
       "      <th></th>\n",
       "    </tr>\n",
       "  </thead>\n",
       "  <tbody>\n",
       "    <tr>\n",
       "      <td>0</td>\n",
       "      <td>17</td>\n",
       "      <td>2</td>\n",
       "    </tr>\n",
       "    <tr>\n",
       "      <td>1</td>\n",
       "      <td>8</td>\n",
       "      <td>3</td>\n",
       "    </tr>\n",
       "    <tr>\n",
       "      <td>2</td>\n",
       "      <td>5</td>\n",
       "      <td>5</td>\n",
       "    </tr>\n",
       "    <tr>\n",
       "      <td>3</td>\n",
       "      <td>2</td>\n",
       "      <td>1</td>\n",
       "    </tr>\n",
       "    <tr>\n",
       "      <td>4</td>\n",
       "      <td>2</td>\n",
       "      <td>0</td>\n",
       "    </tr>\n",
       "    <tr>\n",
       "      <td>5</td>\n",
       "      <td>0</td>\n",
       "      <td>5</td>\n",
       "    </tr>\n",
       "    <tr>\n",
       "      <td>6</td>\n",
       "      <td>2</td>\n",
       "      <td>4</td>\n",
       "    </tr>\n",
       "    <tr>\n",
       "      <td>7</td>\n",
       "      <td>1</td>\n",
       "      <td>2</td>\n",
       "    </tr>\n",
       "    <tr>\n",
       "      <td>8</td>\n",
       "      <td>3</td>\n",
       "      <td>1</td>\n",
       "    </tr>\n",
       "    <tr>\n",
       "      <td>9</td>\n",
       "      <td>0</td>\n",
       "      <td>3</td>\n",
       "    </tr>\n",
       "    <tr>\n",
       "      <td>11</td>\n",
       "      <td>1</td>\n",
       "      <td>2</td>\n",
       "    </tr>\n",
       "    <tr>\n",
       "      <td>12</td>\n",
       "      <td>0</td>\n",
       "      <td>4</td>\n",
       "    </tr>\n",
       "    <tr>\n",
       "      <td>13</td>\n",
       "      <td>0</td>\n",
       "      <td>1</td>\n",
       "    </tr>\n",
       "    <tr>\n",
       "      <td>14</td>\n",
       "      <td>0</td>\n",
       "      <td>3</td>\n",
       "    </tr>\n",
       "    <tr>\n",
       "      <td>17</td>\n",
       "      <td>0</td>\n",
       "      <td>1</td>\n",
       "    </tr>\n",
       "  </tbody>\n",
       "</table>\n",
       "</div>"
      ],
      "text/plain": [
       "col_0     False  True \n",
       "Survived              \n",
       "0            17      2\n",
       "1             8      3\n",
       "2             5      5\n",
       "3             2      1\n",
       "4             2      0\n",
       "5             0      5\n",
       "6             2      4\n",
       "7             1      2\n",
       "8             3      1\n",
       "9             0      3\n",
       "11            1      2\n",
       "12            0      4\n",
       "13            0      1\n",
       "14            0      3\n",
       "17            0      1"
      ]
     },
     "execution_count": 73,
     "metadata": {},
     "output_type": "execute_result"
    }
   ],
   "source": [
    "tab = pd.crosstab(pivot_t[\"Survived\"] , prediction > 0.5)\n",
    "tab"
   ]
  },
  {
   "cell_type": "code",
   "execution_count": 74,
   "metadata": {},
   "outputs": [
    {
     "data": {
      "text/plain": [
       "0.2564102564102564"
      ]
     },
     "execution_count": 74,
     "metadata": {},
     "output_type": "execute_result"
    }
   ],
   "source": [
    "\n",
    "accuracy = np.sum(np.diag(tab))/np.sum(np.sum(tab))\n",
    "accuracy"
   ]
  },
  {
   "cell_type": "markdown",
   "metadata": {},
   "source": [
    "> Que pensez vous du nbombre de coefficients obtenus. Sont-ils significatifs ? Quel est l'AIC du modèle ? Comparer le (et donc la vraisemblence) à celui obtenu sans regrouper les données. Etait-ce une idée raisonnable ? "
   ]
  },
  {
   "cell_type": "markdown",
   "metadata": {},
   "source": [
    "Afin de réduire  le nombre de coefficients, et peut-être d'améliorer les performances du modèle, on va quand même encoder nos variables ordinales `Age_range` et `Pclass` (cela se discute plus) avec des entiers. "
   ]
  },
  {
   "cell_type": "markdown",
   "metadata": {},
   "source": [
    "> Si ce n'est pas déjà le cas, encoder chacune des classes d'âge par un entier correspondant à la borne sup (ou inf si vous le souhaitez) de la classe. De même pour les classes. Assurez vous que les types correspondants dans le dataframe soeint bien entiers. `.replace({dictionnaire de corerspondances})` et `.astype(int)` "
   ]
  },
  {
   "cell_type": "code",
   "execution_count": 75,
   "metadata": {},
   "outputs": [
    {
     "name": "stdout",
     "output_type": "stream",
     "text": [
      "<class 'pandas.core.frame.DataFrame'>\n",
      "RangeIndex: 78 entries, 0 to 77\n",
      "Data columns (total 6 columns):\n",
      "Pclass      78 non-null int64\n",
      "Sex         78 non-null category\n",
      "AgeRange    78 non-null int64\n",
      "Survived    78 non-null int64\n",
      "Total       78 non-null int64\n",
      "Died        78 non-null int64\n",
      "dtypes: category(1), int64(5)\n",
      "memory usage: 3.3 KB\n"
     ]
    }
   ],
   "source": [
    "pivot_t.Pclass = pivot_t.Pclass.astype(\"int64\")\n",
    "pivot_t.AgeRange = pivot_t.AgeRange.astype(\"int64\")\n",
    "pivot_t.info()"
   ]
  },
  {
   "cell_type": "markdown",
   "metadata": {},
   "source": [
    "> Mettre en oeuvre un glm sur ces nouvelles données. Affichier les résultats et comparer les AIC. "
   ]
  },
  {
   "cell_type": "code",
   "execution_count": 76,
   "metadata": {},
   "outputs": [
    {
     "data": {
      "text/html": [
       "<table class=\"simpletable\">\n",
       "<caption>Generalized Linear Model Regression Results</caption>\n",
       "<tr>\n",
       "  <th>Dep. Variable:</th>   <td>['Survived', 'Died']</td> <th>  No. Observations:  </th>  <td>    78</td> \n",
       "</tr>\n",
       "<tr>\n",
       "  <th>Model:</th>                    <td>GLM</td>         <th>  Df Residuals:      </th>  <td>    74</td> \n",
       "</tr>\n",
       "<tr>\n",
       "  <th>Model Family:</th>          <td>Binomial</td>       <th>  Df Model:          </th>  <td>     3</td> \n",
       "</tr>\n",
       "<tr>\n",
       "  <th>Link Function:</th>           <td>logit</td>        <th>  Scale:             </th> <td>  1.0000</td>\n",
       "</tr>\n",
       "<tr>\n",
       "  <th>Method:</th>                  <td>IRLS</td>         <th>  Log-Likelihood:    </th> <td> -128.08</td>\n",
       "</tr>\n",
       "<tr>\n",
       "  <th>Date:</th>              <td>Wed, 24 Nov 2021</td>   <th>  Deviance:          </th> <td>  157.85</td>\n",
       "</tr>\n",
       "<tr>\n",
       "  <th>Time:</th>                  <td>10:01:55</td>       <th>  Pearson chi2:      </th>  <td>  166.</td> \n",
       "</tr>\n",
       "<tr>\n",
       "  <th>No. Iterations:</th>            <td>5</td>          <th>                     </th>     <td> </td>   \n",
       "</tr>\n",
       "<tr>\n",
       "  <th>Covariance Type:</th>       <td>nonrobust</td>      <th>                     </th>     <td> </td>   \n",
       "</tr>\n",
       "</table>"
      ],
      "text/plain": [
       "<class 'statsmodels.iolib.table.SimpleTable'>"
      ]
     },
     "metadata": {},
     "output_type": "display_data"
    },
    {
     "data": {
      "text/html": [
       "<div>\n",
       "<style scoped>\n",
       "    .dataframe tbody tr th:only-of-type {\n",
       "        vertical-align: middle;\n",
       "    }\n",
       "\n",
       "    .dataframe tbody tr th {\n",
       "        vertical-align: top;\n",
       "    }\n",
       "\n",
       "    .dataframe thead th {\n",
       "        text-align: right;\n",
       "    }\n",
       "</style>\n",
       "<table border=\"1\" class=\"dataframe\">\n",
       "  <thead>\n",
       "    <tr style=\"text-align: right;\">\n",
       "      <th></th>\n",
       "      <th>coef</th>\n",
       "      <th>std err</th>\n",
       "      <th>z</th>\n",
       "      <th>P&gt;|z|</th>\n",
       "      <th>[0.025</th>\n",
       "      <th>0.975]</th>\n",
       "      <th>p-value</th>\n",
       "      <th>Code</th>\n",
       "    </tr>\n",
       "  </thead>\n",
       "  <tbody>\n",
       "    <tr>\n",
       "      <td>Intercept</td>\n",
       "      <td>4.9231</td>\n",
       "      <td>0.474</td>\n",
       "      <td>10.379</td>\n",
       "      <td>0.000</td>\n",
       "      <td>3.993</td>\n",
       "      <td>5.853</td>\n",
       "      <td>3.081016e-25</td>\n",
       "      <td>***</td>\n",
       "    </tr>\n",
       "    <tr>\n",
       "      <td>Sex[T.male]</td>\n",
       "      <td>-2.5855</td>\n",
       "      <td>0.187</td>\n",
       "      <td>-13.838</td>\n",
       "      <td>0.000</td>\n",
       "      <td>-2.952</td>\n",
       "      <td>-2.219</td>\n",
       "      <td>1.495428e-43</td>\n",
       "      <td>***</td>\n",
       "    </tr>\n",
       "    <tr>\n",
       "      <td>Pclass</td>\n",
       "      <td>-1.2250</td>\n",
       "      <td>0.125</td>\n",
       "      <td>-9.822</td>\n",
       "      <td>0.000</td>\n",
       "      <td>-1.469</td>\n",
       "      <td>-0.981</td>\n",
       "      <td>9.087793e-23</td>\n",
       "      <td>***</td>\n",
       "    </tr>\n",
       "    <tr>\n",
       "      <td>AgeRange</td>\n",
       "      <td>-0.0340</td>\n",
       "      <td>0.007</td>\n",
       "      <td>-4.745</td>\n",
       "      <td>0.000</td>\n",
       "      <td>-0.048</td>\n",
       "      <td>-0.020</td>\n",
       "      <td>2.089135e-06</td>\n",
       "      <td>***</td>\n",
       "    </tr>\n",
       "  </tbody>\n",
       "</table>\n",
       "</div>"
      ],
      "text/plain": [
       "                   coef    std err          z   P>|z|     [0.025     0.975]  \\\n",
       "Intercept        4.9231      0.474     10.379   0.000      3.993      5.853   \n",
       "Sex[T.male]     -2.5855      0.187    -13.838   0.000     -2.952     -2.219   \n",
       "Pclass          -1.2250      0.125     -9.822   0.000     -1.469     -0.981   \n",
       "AgeRange        -0.0340      0.007     -4.745   0.000     -0.048     -0.020   \n",
       "\n",
       "                  p-value Code  \n",
       "Intercept    3.081016e-25  ***  \n",
       "Sex[T.male]  1.495428e-43  ***  \n",
       "Pclass       9.087793e-23  ***  \n",
       "AgeRange     2.089135e-06  ***  "
      ]
     },
     "metadata": {},
     "output_type": "display_data"
    },
    {
     "data": {
      "text/html": [
       "Signif. codes:  0 '***' 0.001 '**' 0.01 '*' 0.05 '.' 0.1 ' ' 1"
      ],
      "text/plain": [
       "<IPython.core.display.HTML object>"
      ]
     },
     "metadata": {},
     "output_type": "display_data"
    },
    {
     "data": {
      "text/html": [
       "AIC with 4 ddl = 264.17"
      ],
      "text/plain": [
       "<IPython.core.display.HTML object>"
      ]
     },
     "metadata": {},
     "output_type": "display_data"
    }
   ],
   "source": [
    "new_model = smf.glm(formula=\"Survived + Died ~ Pclass + AgeRange + Sex\", data = pivot_t,family=sm.families.Binomial())\n",
    "new_model_res = new_model.fit()\n",
    "GLMsummary(new_model_res)\n",
    "\n"
   ]
  },
  {
   "cell_type": "code",
   "execution_count": 77,
   "metadata": {},
   "outputs": [
    {
     "name": "stdout",
     "output_type": "stream",
     "text": [
      "col_0     False  True \n",
      "Survived              \n",
      "0            16      3\n",
      "1             9      2\n",
      "2             5      5\n",
      "3             1      2\n",
      "4             2      0\n",
      "5             0      5\n",
      "6             3      3\n",
      "7             1      2\n",
      "8             4      0\n",
      "9             0      3\n",
      "11            1      2\n",
      "12            0      4\n",
      "13            0      1\n",
      "14            0      3\n",
      "17            0      1\n"
     ]
    },
    {
     "data": {
      "text/plain": [
       "0.23076923076923078"
      ]
     },
     "execution_count": 77,
     "metadata": {},
     "output_type": "execute_result"
    }
   ],
   "source": [
    "prediction = new_model_res.predict()\n",
    "tab = pd.crosstab(pivot_t[\"Survived\"] , prediction > 0.5)\n",
    "print(tab)\n",
    "accuracy = np.sum(np.diag(tab))/np.sum(np.sum(tab))\n",
    "accuracy\n"
   ]
  },
  {
   "cell_type": "code",
   "execution_count": 85,
   "metadata": {},
   "outputs": [],
   "source": [
    "model = smf.glm(formula=\"Survived + Died ~ Pclass + AgeRange + Sex\", data = pivot_t,family=sm.families.Binomial())\n",
    "model_res = model.fit()"
   ]
  },
  {
   "cell_type": "code",
   "execution_count": 86,
   "metadata": {},
   "outputs": [
    {
     "name": "stdout",
     "output_type": "stream",
     "text": [
      "col_0     False  True \n",
      "Survived              \n",
      "0            16      3\n",
      "1             9      2\n",
      "2             5      5\n",
      "3             1      2\n",
      "4             2      0\n",
      "5             0      5\n",
      "6             3      3\n",
      "7             1      2\n",
      "8             4      0\n",
      "9             0      3\n",
      "11            1      2\n",
      "12            0      4\n",
      "13            0      1\n",
      "14            0      3\n",
      "17            0      1\n"
     ]
    },
    {
     "data": {
      "text/plain": [
       "0.23076923076923078"
      ]
     },
     "execution_count": 86,
     "metadata": {},
     "output_type": "execute_result"
    }
   ],
   "source": [
    "prediction = model_res.predict()\n",
    "tab = pd.crosstab(pivot_t[\"Survived\"] , prediction > 0.5)\n",
    "print(tab)\n",
    "accuracy = np.sum(np.diag(tab))/np.sum(np.sum(tab))\n",
    "accuracy"
   ]
  },
  {
   "cell_type": "markdown",
   "metadata": {},
   "source": [
    "> Afficher les figures de diagnostic, via `glm_residplot`. Cela confirme t-il qu'on peut utilise ce modèle ?   "
   ]
  },
  {
   "cell_type": "code",
   "execution_count": 88,
   "metadata": {},
   "outputs": [
    {
     "data": {
      "image/png": "[encoded data removed]",
      "text/plain": [
       "<Figure size 576x360 with 1 Axes>"
      ]
     },
     "metadata": {
      "needs_background": "light"
     },
     "output_type": "display_data"
    },
    {
     "data": {
      "image/png": "[encoded data removed]",
      "text/plain": [
       "<Figure size 576x360 with 1 Axes>"
      ]
     },
     "metadata": {
      "needs_background": "light"
     },
     "output_type": "display_data"
    },
    {
     "data": {
      "image/png": "[encoded data removed]",
      "text/plain": [
       "<Figure size 576x360 with 1 Axes>"
      ]
     },
     "metadata": {
      "needs_background": "light"
     },
     "output_type": "display_data"
    },
    {
     "data": {
      "image/png": "[encoded data removed]",
      "text/plain": [
       "<Figure size 576x360 with 1 Axes>"
      ]
     },
     "metadata": {
      "needs_background": "light"
     },
     "output_type": "display_data"
    },
    {
     "data": {
      "image/png": "[encoded data removed]",
      "text/plain": [
       "<Figure size 576x360 with 1 Axes>"
      ]
     },
     "metadata": {
      "needs_background": "light"
     },
     "output_type": "display_data"
    }
   ],
   "source": [
    "fig = glm_residplot(model_res)"
   ]
  },
  {
   "cell_type": "code",
   "execution_count": 82,
   "metadata": {},
   "outputs": [
    {
     "data": {
      "text/plain": [
       "'Réponse : oui'"
      ]
     },
     "execution_count": 82,
     "metadata": {},
     "output_type": "execute_result"
    }
   ],
   "source": [
    "\"Réponse : oui\""
   ]
  },
  {
   "cell_type": "markdown",
   "metadata": {},
   "source": [
    "> Enfin, on va définir un modèle agissant sur le s*proportions*. Pour cela, défiir une nouvelle colonne `PropSurvived` contenant les rapports Survived/Total, et effectuer la régression binomiale sur cette nouvelle variable. Comment se compare ce résultat aux précédents ? "
   ]
  },
  {
   "cell_type": "code",
   "execution_count": 83,
   "metadata": {},
   "outputs": [
    {
     "data": {
      "text/html": [
       "<div>\n",
       "<style scoped>\n",
       "    .dataframe tbody tr th:only-of-type {\n",
       "        vertical-align: middle;\n",
       "    }\n",
       "\n",
       "    .dataframe tbody tr th {\n",
       "        vertical-align: top;\n",
       "    }\n",
       "\n",
       "    .dataframe thead th {\n",
       "        text-align: right;\n",
       "    }\n",
       "</style>\n",
       "<table border=\"1\" class=\"dataframe\">\n",
       "  <thead>\n",
       "    <tr style=\"text-align: right;\">\n",
       "      <th></th>\n",
       "      <th>Pclass</th>\n",
       "      <th>Sex</th>\n",
       "      <th>AgeRange</th>\n",
       "      <th>Survived</th>\n",
       "      <th>Total</th>\n",
       "      <th>Died</th>\n",
       "      <th>PropSurvived</th>\n",
       "    </tr>\n",
       "  </thead>\n",
       "  <tbody>\n",
       "    <tr>\n",
       "      <td>0</td>\n",
       "      <td>1</td>\n",
       "      <td>female</td>\n",
       "      <td>5</td>\n",
       "      <td>0</td>\n",
       "      <td>1</td>\n",
       "      <td>1</td>\n",
       "      <td>0.000000</td>\n",
       "    </tr>\n",
       "    <tr>\n",
       "      <td>1</td>\n",
       "      <td>1</td>\n",
       "      <td>female</td>\n",
       "      <td>15</td>\n",
       "      <td>2</td>\n",
       "      <td>2</td>\n",
       "      <td>0</td>\n",
       "      <td>1.000000</td>\n",
       "    </tr>\n",
       "    <tr>\n",
       "      <td>2</td>\n",
       "      <td>1</td>\n",
       "      <td>female</td>\n",
       "      <td>20</td>\n",
       "      <td>11</td>\n",
       "      <td>11</td>\n",
       "      <td>0</td>\n",
       "      <td>1.000000</td>\n",
       "    </tr>\n",
       "    <tr>\n",
       "      <td>3</td>\n",
       "      <td>1</td>\n",
       "      <td>female</td>\n",
       "      <td>25</td>\n",
       "      <td>14</td>\n",
       "      <td>15</td>\n",
       "      <td>1</td>\n",
       "      <td>0.933333</td>\n",
       "    </tr>\n",
       "    <tr>\n",
       "      <td>4</td>\n",
       "      <td>1</td>\n",
       "      <td>female</td>\n",
       "      <td>30</td>\n",
       "      <td>7</td>\n",
       "      <td>7</td>\n",
       "      <td>0</td>\n",
       "      <td>1.000000</td>\n",
       "    </tr>\n",
       "    <tr>\n",
       "      <td>...</td>\n",
       "      <td>...</td>\n",
       "      <td>...</td>\n",
       "      <td>...</td>\n",
       "      <td>...</td>\n",
       "      <td>...</td>\n",
       "      <td>...</td>\n",
       "      <td>...</td>\n",
       "    </tr>\n",
       "    <tr>\n",
       "      <td>73</td>\n",
       "      <td>3</td>\n",
       "      <td>male</td>\n",
       "      <td>55</td>\n",
       "      <td>0</td>\n",
       "      <td>5</td>\n",
       "      <td>5</td>\n",
       "      <td>0.000000</td>\n",
       "    </tr>\n",
       "    <tr>\n",
       "      <td>74</td>\n",
       "      <td>3</td>\n",
       "      <td>male</td>\n",
       "      <td>60</td>\n",
       "      <td>0</td>\n",
       "      <td>2</td>\n",
       "      <td>2</td>\n",
       "      <td>0.000000</td>\n",
       "    </tr>\n",
       "    <tr>\n",
       "      <td>75</td>\n",
       "      <td>3</td>\n",
       "      <td>male</td>\n",
       "      <td>65</td>\n",
       "      <td>0</td>\n",
       "      <td>2</td>\n",
       "      <td>2</td>\n",
       "      <td>0.000000</td>\n",
       "    </tr>\n",
       "    <tr>\n",
       "      <td>76</td>\n",
       "      <td>3</td>\n",
       "      <td>male</td>\n",
       "      <td>70</td>\n",
       "      <td>0</td>\n",
       "      <td>2</td>\n",
       "      <td>2</td>\n",
       "      <td>0.000000</td>\n",
       "    </tr>\n",
       "    <tr>\n",
       "      <td>77</td>\n",
       "      <td>3</td>\n",
       "      <td>male</td>\n",
       "      <td>75</td>\n",
       "      <td>0</td>\n",
       "      <td>2</td>\n",
       "      <td>2</td>\n",
       "      <td>0.000000</td>\n",
       "    </tr>\n",
       "  </tbody>\n",
       "</table>\n",
       "<p>78 rows × 7 columns</p>\n",
       "</div>"
      ],
      "text/plain": [
       "    Pclass     Sex  AgeRange  Survived  Total  Died  PropSurvived\n",
       "0        1  female         5         0      1     1      0.000000\n",
       "1        1  female        15         2      2     0      1.000000\n",
       "2        1  female        20        11     11     0      1.000000\n",
       "3        1  female        25        14     15     1      0.933333\n",
       "4        1  female        30         7      7     0      1.000000\n",
       "..     ...     ...       ...       ...    ...   ...           ...\n",
       "73       3    male        55         0      5     5      0.000000\n",
       "74       3    male        60         0      2     2      0.000000\n",
       "75       3    male        65         0      2     2      0.000000\n",
       "76       3    male        70         0      2     2      0.000000\n",
       "77       3    male        75         0      2     2      0.000000\n",
       "\n",
       "[78 rows x 7 columns]"
      ]
     },
     "execution_count": 83,
     "metadata": {},
     "output_type": "execute_result"
    }
   ],
   "source": [
    "pivot_t[\"PropSurvived\"] = pivot_t[\"Survived\"]/(pivot_t[\"Total\"])\n",
    "pivot_t"
   ]
  },
  {
   "cell_type": "code",
   "execution_count": 84,
   "metadata": {},
   "outputs": [
    {
     "data": {
      "text/html": [
       "<table class=\"simpletable\">\n",
       "<caption>Generalized Linear Model Regression Results</caption>\n",
       "<tr>\n",
       "  <th>Dep. Variable:</th>     <td>PropSurvived</td>   <th>  No. Observations:  </th>  <td>    78</td> \n",
       "</tr>\n",
       "<tr>\n",
       "  <th>Model:</th>                  <td>GLM</td>       <th>  Df Residuals:      </th>  <td>    74</td> \n",
       "</tr>\n",
       "<tr>\n",
       "  <th>Model Family:</th>        <td>Binomial</td>     <th>  Df Model:          </th>  <td>     3</td> \n",
       "</tr>\n",
       "<tr>\n",
       "  <th>Link Function:</th>         <td>logit</td>      <th>  Scale:             </th> <td>  1.0000</td>\n",
       "</tr>\n",
       "<tr>\n",
       "  <th>Method:</th>                <td>IRLS</td>       <th>  Log-Likelihood:    </th> <td> -31.763</td>\n",
       "</tr>\n",
       "<tr>\n",
       "  <th>Date:</th>            <td>Wed, 24 Nov 2021</td> <th>  Deviance:          </th> <td>  38.251</td>\n",
       "</tr>\n",
       "<tr>\n",
       "  <th>Time:</th>                <td>10:02:35</td>     <th>  Pearson chi2:      </th>  <td>  56.7</td> \n",
       "</tr>\n",
       "<tr>\n",
       "  <th>No. Iterations:</th>          <td>5</td>        <th>                     </th>     <td> </td>   \n",
       "</tr>\n",
       "<tr>\n",
       "  <th>Covariance Type:</th>     <td>nonrobust</td>    <th>                     </th>     <td> </td>   \n",
       "</tr>\n",
       "</table>"
      ],
      "text/plain": [
       "<class 'statsmodels.iolib.table.SimpleTable'>"
      ]
     },
     "metadata": {},
     "output_type": "display_data"
    },
    {
     "data": {
      "text/html": [
       "<div>\n",
       "<style scoped>\n",
       "    .dataframe tbody tr th:only-of-type {\n",
       "        vertical-align: middle;\n",
       "    }\n",
       "\n",
       "    .dataframe tbody tr th {\n",
       "        vertical-align: top;\n",
       "    }\n",
       "\n",
       "    .dataframe thead th {\n",
       "        text-align: right;\n",
       "    }\n",
       "</style>\n",
       "<table border=\"1\" class=\"dataframe\">\n",
       "  <thead>\n",
       "    <tr style=\"text-align: right;\">\n",
       "      <th></th>\n",
       "      <th>coef</th>\n",
       "      <th>std err</th>\n",
       "      <th>z</th>\n",
       "      <th>P&gt;|z|</th>\n",
       "      <th>[0.025</th>\n",
       "      <th>0.975]</th>\n",
       "      <th>p-value</th>\n",
       "      <th>Code</th>\n",
       "    </tr>\n",
       "  </thead>\n",
       "  <tbody>\n",
       "    <tr>\n",
       "      <td>Intercept</td>\n",
       "      <td>4.7848</td>\n",
       "      <td>1.251</td>\n",
       "      <td>3.824</td>\n",
       "      <td>0.000</td>\n",
       "      <td>2.332</td>\n",
       "      <td>7.237</td>\n",
       "      <td>0.000131</td>\n",
       "      <td>***</td>\n",
       "    </tr>\n",
       "    <tr>\n",
       "      <td>Sex[T.male]</td>\n",
       "      <td>-2.2762</td>\n",
       "      <td>0.617</td>\n",
       "      <td>-3.686</td>\n",
       "      <td>0.000</td>\n",
       "      <td>-3.486</td>\n",
       "      <td>-1.066</td>\n",
       "      <td>0.000227</td>\n",
       "      <td>***</td>\n",
       "    </tr>\n",
       "    <tr>\n",
       "      <td>Pclass</td>\n",
       "      <td>-1.2832</td>\n",
       "      <td>0.397</td>\n",
       "      <td>-3.230</td>\n",
       "      <td>0.001</td>\n",
       "      <td>-2.062</td>\n",
       "      <td>-0.504</td>\n",
       "      <td>0.001240</td>\n",
       "      <td>**</td>\n",
       "    </tr>\n",
       "    <tr>\n",
       "      <td>AgeRange</td>\n",
       "      <td>-0.0297</td>\n",
       "      <td>0.015</td>\n",
       "      <td>-1.964</td>\n",
       "      <td>0.049</td>\n",
       "      <td>-0.059</td>\n",
       "      <td>-6.5e-05</td>\n",
       "      <td>0.049500</td>\n",
       "      <td>*</td>\n",
       "    </tr>\n",
       "  </tbody>\n",
       "</table>\n",
       "</div>"
      ],
      "text/plain": [
       "                   coef    std err          z   P>|z|     [0.025     0.975]  \\\n",
       "Intercept        4.7848      1.251      3.824   0.000      2.332      7.237   \n",
       "Sex[T.male]     -2.2762      0.617     -3.686   0.000     -3.486     -1.066   \n",
       "Pclass          -1.2832      0.397     -3.230   0.001     -2.062     -0.504   \n",
       "AgeRange        -0.0297      0.015     -1.964   0.049     -0.059   -6.5e-05   \n",
       "\n",
       "              p-value Code  \n",
       "Intercept    0.000131  ***  \n",
       "Sex[T.male]  0.000227  ***  \n",
       "Pclass       0.001240   **  \n",
       "AgeRange     0.049500    *  "
      ]
     },
     "metadata": {},
     "output_type": "display_data"
    },
    {
     "data": {
      "text/html": [
       "Signif. codes:  0 '***' 0.001 '**' 0.01 '*' 0.05 '.' 0.1 ' ' 1"
      ],
      "text/plain": [
       "<IPython.core.display.HTML object>"
      ]
     },
     "metadata": {},
     "output_type": "display_data"
    },
    {
     "data": {
      "text/html": [
       "AIC with 4 ddl = 71.53"
      ],
      "text/plain": [
       "<IPython.core.display.HTML object>"
      ]
     },
     "metadata": {},
     "output_type": "display_data"
    }
   ],
   "source": [
    "prop_model = smf.glm(formula= \"PropSurvived ~ Pclass + Sex + AgeRange\",data=pivot_t,family = sm.families.Binomial())\n",
    "prop_model_result = prop_model.fit()\n",
    "GLMsummary(prop_model_result)"
   ]
  },
  {
   "cell_type": "code",
   "execution_count": 89,
   "metadata": {},
   "outputs": [
    {
     "name": "stdout",
     "output_type": "stream",
     "text": [
      "col_0         False  True \n",
      "PropSurvived              \n",
      "0.000000         16      3\n",
      "0.047619          1      0\n",
      "0.058824          1      0\n",
      "0.082192          1      0\n",
      "0.086957          1      0\n",
      "0.090909          1      0\n",
      "0.111111          1      0\n",
      "0.112676          1      0\n",
      "0.159420          1      0\n",
      "0.166667          2      0\n",
      "0.176471          1      0\n",
      "0.189189          1      0\n",
      "0.222222          1      0\n",
      "0.250000          1      1\n",
      "0.285714          1      0\n",
      "0.307692          1      0\n",
      "0.375000          1      0\n",
      "0.380952          0      1\n",
      "0.400000          2      0\n",
      "0.428571          0      1\n",
      "0.437500          0      1\n",
      "0.500000          1      1\n",
      "0.560000          0      1\n",
      "0.566667          0      1\n",
      "0.600000          0      1\n",
      "0.642857          1      0\n",
      "0.666667          0      1\n",
      "0.705882          0      1\n",
      "0.833333          0      1\n",
      "0.857143          0      1\n",
      "0.866667          0      1\n",
      "0.900000          0      1\n",
      "0.923077          0      1\n",
      "0.933333          0      1\n",
      "1.000000          4     18\n"
     ]
    },
    {
     "data": {
      "text/plain": [
       "0.20512820512820512"
      ]
     },
     "execution_count": 89,
     "metadata": {},
     "output_type": "execute_result"
    }
   ],
   "source": [
    "prediction = prop_model_result.predict()\n",
    "tab = pd.crosstab(pivot_t[\"PropSurvived\"] , prediction > 0.5)\n",
    "print(tab)\n",
    "accuracy = np.sum(np.diag(tab))/np.sum(np.sum(tab))\n",
    "accuracy"
   ]
  },
  {
   "cell_type": "code",
   "execution_count": 90,
   "metadata": {},
   "outputs": [
    {
     "data": {
      "image/png": "[encoded data removed]",
      "text/plain": [
       "<Figure size 576x360 with 1 Axes>"
      ]
     },
     "metadata": {
      "needs_background": "light"
     },
     "output_type": "display_data"
    },
    {
     "data": {
      "image/png": "[encoded data removed]",
      "text/plain": [
       "<Figure size 576x360 with 1 Axes>"
      ]
     },
     "metadata": {
      "needs_background": "light"
     },
     "output_type": "display_data"
    },
    {
     "data": {
      "image/png": "[encoded data removed]",
      "text/plain": [
       "<Figure size 576x360 with 1 Axes>"
      ]
     },
     "metadata": {
      "needs_background": "light"
     },
     "output_type": "display_data"
    },
    {
     "data": {
      "image/png": "[encoded data removed]",
      "text/plain": [
       "<Figure size 576x360 with 1 Axes>"
      ]
     },
     "metadata": {
      "needs_background": "light"
     },
     "output_type": "display_data"
    },
    {
     "data": {
      "image/png": "[encoded data removed]",
      "text/plain": [
       "<Figure size 576x360 with 1 Axes>"
      ]
     },
     "metadata": {
      "needs_background": "light"
     },
     "output_type": "display_data"
    }
   ],
   "source": [
    "fig2 = glm_residplot(prop_model_result)"
   ]
  },
  {
   "cell_type": "code",
   "execution_count": null,
   "metadata": {},
   "outputs": [],
   "source": []
  },
  {
   "cell_type": "markdown",
   "metadata": {},
   "source": [
    "## Crimes sur les campus"
   ]
  },
  {
   "cell_type": "markdown",
   "metadata": {},
   "source": [
    "Cet exercice va nous permettre d'aborder la régression de Poisson. \n",
    "\n",
    "Aux US, les étudiants veulent se sentir en sécurité lorsqu'ils fréquentent un collège ou une université. En réponse à la législation, le ministère américain de l'éducation cherche à fournir des données et à rassurer les étudiants et les parents. Tous les établissements d'enseignement supérieur qui participent aux programmes fédéraux d'aide aux étudiants sont tenus, en vertu de la Jeanne Clery Disclosure of Campus Security Policy and Campus Crime Statistics Act et de la Higher Education Opportunity Act, de recueillir et de communiquer au ministère de l'éducation des données sur les délits commis sur les campus. Ces données sont ensuite mises à la disposition du public sur le site web du Bureau de l'éducation postsecondaire. Nous cherchons à savoir s'il existe des différences régionales en matière de criminalité violente sur les campus, en tenant compte des différences de type d'école."
   ]
  },
  {
   "cell_type": "markdown",
   "metadata": {},
   "source": [
    "Chaque ligne du site c_data.csv contient des informations sur la criminalité provenant d'un établissement d'enseignement supérieur, que ce soit un collège ou une université. Les variables comprennent :\n",
    "\n",
    "\n",
    "- Enrollment = enrollment at the school\n",
    "- type = college (C) or university (U)\n",
    "- nv = the number of violent crimes for that institution for the given year\n",
    "- nvrate = number of violent crimes per 1000 students\n",
    "- enroll1000 = enrollment at the school, in thousands\n",
    "- region = region of the country (C = Central, MW = Midwest, NE = Northeast, SE = Southeast, SW = Southwest, and W = West)"
   ]
  },
  {
   "cell_type": "markdown",
   "metadata": {},
   "source": [
    "### Lecture et analyse"
   ]
  },
  {
   "cell_type": "markdown",
   "metadata": {},
   "source": [
    ">Vous commencerez par charger le fichier de données, `c_data.csv`, afficherez les premières lignes et les infos de type des données. Quelles sont les données quantitatives, catégorielles, ordinales ? "
   ]
  },
  {
   "cell_type": "code",
   "execution_count": 92,
   "metadata": {},
   "outputs": [
    {
     "name": "stdout",
     "output_type": "stream",
     "text": [
      "   Enrollment type  nv    nvrate  enroll1000 region\n",
      "0        5590    U  30  5.366726       5.590     SE\n",
      "1         540    C   0  0.000000       0.540     SE\n",
      "2       35747    U  23  0.643411      35.747      W\n",
      "3       28176    C   1  0.035491      28.176      W\n",
      "4       10568    U   1  0.094625      10.568     SW\n",
      "<class 'pandas.core.frame.DataFrame'>\n",
      "RangeIndex: 81 entries, 0 to 80\n",
      "Data columns (total 6 columns):\n",
      "Enrollment    81 non-null int64\n",
      "type          81 non-null object\n",
      "nv            81 non-null int64\n",
      "nvrate        81 non-null float64\n",
      "enroll1000    81 non-null float64\n",
      "region        81 non-null object\n",
      "dtypes: float64(2), int64(2), object(2)\n",
      "memory usage: 3.9+ KB\n"
     ]
    }
   ],
   "source": [
    "data = pd.read_csv(\"c_data.csv\")\n",
    "print(data.head())\n",
    "data.info()"
   ]
  },
  {
   "cell_type": "code",
   "execution_count": null,
   "metadata": {},
   "outputs": [],
   "source": []
  },
  {
   "cell_type": "markdown",
   "metadata": {},
   "source": [
    "> Considérez la variable `nv`. Quelle devrait être la nature et la distribution de cette variable ? Tracer son histogramme pour vous faire ou confimer une idée. "
   ]
  },
  {
   "cell_type": "code",
   "execution_count": 93,
   "metadata": {},
   "outputs": [
    {
     "data": {
      "text/plain": [
       "<matplotlib.axes._subplots.AxesSubplot at 0x27cdb5a3988>"
      ]
     },
     "execution_count": 93,
     "metadata": {},
     "output_type": "execute_result"
    },
    {
     "data": {
      "image/png": "[encoded data removed]",
      "text/plain": [
       "<Figure size 432x288 with 1 Axes>"
      ]
     },
     "metadata": {
      "needs_background": "light"
     },
     "output_type": "display_data"
    }
   ],
   "source": [
    "sns.distplot(data.nv,kde=False)"
   ]
  },
  {
   "cell_type": "markdown",
   "metadata": {},
   "source": [
    "> Examiner quelles sont les proportions des collèges et universités dans chaque région. Vous devriez pouvoir afficher cela avec pd.crosstab et le paramètre normalize='columns'"
   ]
  },
  {
   "cell_type": "code",
   "execution_count": 95,
   "metadata": {},
   "outputs": [
    {
     "data": {
      "text/html": [
       "<div>\n",
       "<style scoped>\n",
       "    .dataframe tbody tr th:only-of-type {\n",
       "        vertical-align: middle;\n",
       "    }\n",
       "\n",
       "    .dataframe tbody tr th {\n",
       "        vertical-align: top;\n",
       "    }\n",
       "\n",
       "    .dataframe thead th {\n",
       "        text-align: right;\n",
       "    }\n",
       "</style>\n",
       "<table border=\"1\" class=\"dataframe\">\n",
       "  <thead>\n",
       "    <tr style=\"text-align: right;\">\n",
       "      <th>region</th>\n",
       "      <th>C</th>\n",
       "      <th>MW</th>\n",
       "      <th>NE</th>\n",
       "      <th>SE</th>\n",
       "      <th>SW</th>\n",
       "      <th>W</th>\n",
       "    </tr>\n",
       "    <tr>\n",
       "      <th>type</th>\n",
       "      <th></th>\n",
       "      <th></th>\n",
       "      <th></th>\n",
       "      <th></th>\n",
       "      <th></th>\n",
       "      <th></th>\n",
       "    </tr>\n",
       "  </thead>\n",
       "  <tbody>\n",
       "    <tr>\n",
       "      <td>C</td>\n",
       "      <td>0.294118</td>\n",
       "      <td>0.3</td>\n",
       "      <td>0.380952</td>\n",
       "      <td>0.4</td>\n",
       "      <td>0.2</td>\n",
       "      <td>0.5</td>\n",
       "    </tr>\n",
       "    <tr>\n",
       "      <td>U</td>\n",
       "      <td>0.705882</td>\n",
       "      <td>0.7</td>\n",
       "      <td>0.619048</td>\n",
       "      <td>0.6</td>\n",
       "      <td>0.8</td>\n",
       "      <td>0.5</td>\n",
       "    </tr>\n",
       "  </tbody>\n",
       "</table>\n",
       "</div>"
      ],
      "text/plain": [
       "region         C   MW        NE   SE   SW    W\n",
       "type                                          \n",
       "C       0.294118  0.3  0.380952  0.4  0.2  0.5\n",
       "U       0.705882  0.7  0.619048  0.6  0.8  0.5"
      ]
     },
     "execution_count": 95,
     "metadata": {},
     "output_type": "execute_result"
    }
   ],
   "source": [
    "tab = pd.crosstab(index=data.type,columns=data.region,normalize='columns')\n",
    "tab"
   ]
  },
  {
   "cell_type": "markdown",
   "metadata": {},
   "source": [
    "> Pour poursuivre l'exploration, définir une table affichant les moyennes, écrat-type ou variance pour les variables `nv`et `nvrate`. Typiquement, vous pourrez utiliser une table croisée `pivot_table`, avec comme paramètre d'aggrégation `aggfunc=['count', 'mean', 'std']`"
   ]
  },
  {
   "cell_type": "code",
   "execution_count": 96,
   "metadata": {},
   "outputs": [],
   "source": [
    "pivot_t = pd.pivot_table(data,index=[\"region\",\"type\"],values=[\"nv\",\"nvrate\"],aggfunc=['count','mean','std'])\n"
   ]
  },
  {
   "cell_type": "code",
   "execution_count": 97,
   "metadata": {},
   "outputs": [
    {
     "data": {
      "text/html": [
       "<div>\n",
       "<style scoped>\n",
       "    .dataframe tbody tr th:only-of-type {\n",
       "        vertical-align: middle;\n",
       "    }\n",
       "\n",
       "    .dataframe tbody tr th {\n",
       "        vertical-align: top;\n",
       "    }\n",
       "\n",
       "    .dataframe thead tr th {\n",
       "        text-align: left;\n",
       "    }\n",
       "\n",
       "    .dataframe thead tr:last-of-type th {\n",
       "        text-align: right;\n",
       "    }\n",
       "</style>\n",
       "<table border=\"1\" class=\"dataframe\">\n",
       "  <thead>\n",
       "    <tr>\n",
       "      <th></th>\n",
       "      <th></th>\n",
       "      <th colspan=\"2\" halign=\"left\">count</th>\n",
       "      <th colspan=\"2\" halign=\"left\">mean</th>\n",
       "      <th colspan=\"2\" halign=\"left\">std</th>\n",
       "    </tr>\n",
       "    <tr>\n",
       "      <th></th>\n",
       "      <th></th>\n",
       "      <th>nv</th>\n",
       "      <th>nvrate</th>\n",
       "      <th>nv</th>\n",
       "      <th>nvrate</th>\n",
       "      <th>nv</th>\n",
       "      <th>nvrate</th>\n",
       "    </tr>\n",
       "    <tr>\n",
       "      <th>region</th>\n",
       "      <th>type</th>\n",
       "      <th></th>\n",
       "      <th></th>\n",
       "      <th></th>\n",
       "      <th></th>\n",
       "      <th></th>\n",
       "      <th></th>\n",
       "    </tr>\n",
       "  </thead>\n",
       "  <tbody>\n",
       "    <tr>\n",
       "      <td rowspan=\"2\" valign=\"top\">C</td>\n",
       "      <td>C</td>\n",
       "      <td>5</td>\n",
       "      <td>5</td>\n",
       "      <td>1.600000</td>\n",
       "      <td>0.397952</td>\n",
       "      <td>1.816590</td>\n",
       "      <td>0.527344</td>\n",
       "    </tr>\n",
       "    <tr>\n",
       "      <td>U</td>\n",
       "      <td>12</td>\n",
       "      <td>12</td>\n",
       "      <td>4.750000</td>\n",
       "      <td>0.221944</td>\n",
       "      <td>5.561638</td>\n",
       "      <td>0.186887</td>\n",
       "    </tr>\n",
       "    <tr>\n",
       "      <td rowspan=\"2\" valign=\"top\">MW</td>\n",
       "      <td>C</td>\n",
       "      <td>3</td>\n",
       "      <td>3</td>\n",
       "      <td>0.333333</td>\n",
       "      <td>0.016263</td>\n",
       "      <td>0.577350</td>\n",
       "      <td>0.028169</td>\n",
       "    </tr>\n",
       "    <tr>\n",
       "      <td>U</td>\n",
       "      <td>7</td>\n",
       "      <td>7</td>\n",
       "      <td>8.714286</td>\n",
       "      <td>0.401900</td>\n",
       "      <td>5.559205</td>\n",
       "      <td>0.249148</td>\n",
       "    </tr>\n",
       "    <tr>\n",
       "      <td rowspan=\"2\" valign=\"top\">NE</td>\n",
       "      <td>C</td>\n",
       "      <td>8</td>\n",
       "      <td>8</td>\n",
       "      <td>6.000000</td>\n",
       "      <td>1.124988</td>\n",
       "      <td>5.732115</td>\n",
       "      <td>1.087244</td>\n",
       "    </tr>\n",
       "    <tr>\n",
       "      <td>U</td>\n",
       "      <td>13</td>\n",
       "      <td>13</td>\n",
       "      <td>5.923077</td>\n",
       "      <td>0.435927</td>\n",
       "      <td>8.901887</td>\n",
       "      <td>0.620511</td>\n",
       "    </tr>\n",
       "    <tr>\n",
       "      <td rowspan=\"2\" valign=\"top\">SE</td>\n",
       "      <td>C</td>\n",
       "      <td>6</td>\n",
       "      <td>6</td>\n",
       "      <td>1.500000</td>\n",
       "      <td>0.248799</td>\n",
       "      <td>2.738613</td>\n",
       "      <td>0.357819</td>\n",
       "    </tr>\n",
       "    <tr>\n",
       "      <td>U</td>\n",
       "      <td>9</td>\n",
       "      <td>9</td>\n",
       "      <td>12.777778</td>\n",
       "      <td>1.233761</td>\n",
       "      <td>9.257129</td>\n",
       "      <td>1.645933</td>\n",
       "    </tr>\n",
       "    <tr>\n",
       "      <td rowspan=\"2\" valign=\"top\">SW</td>\n",
       "      <td>C</td>\n",
       "      <td>2</td>\n",
       "      <td>2</td>\n",
       "      <td>0.000000</td>\n",
       "      <td>0.000000</td>\n",
       "      <td>0.000000</td>\n",
       "      <td>0.000000</td>\n",
       "    </tr>\n",
       "    <tr>\n",
       "      <td>U</td>\n",
       "      <td>8</td>\n",
       "      <td>8</td>\n",
       "      <td>6.625000</td>\n",
       "      <td>0.425491</td>\n",
       "      <td>9.318760</td>\n",
       "      <td>0.442505</td>\n",
       "    </tr>\n",
       "    <tr>\n",
       "      <td rowspan=\"2\" valign=\"top\">W</td>\n",
       "      <td>C</td>\n",
       "      <td>4</td>\n",
       "      <td>4</td>\n",
       "      <td>0.500000</td>\n",
       "      <td>0.068016</td>\n",
       "      <td>0.577350</td>\n",
       "      <td>0.113611</td>\n",
       "    </tr>\n",
       "    <tr>\n",
       "      <td>U</td>\n",
       "      <td>4</td>\n",
       "      <td>4</td>\n",
       "      <td>12.500000</td>\n",
       "      <td>0.467948</td>\n",
       "      <td>7.549834</td>\n",
       "      <td>0.157057</td>\n",
       "    </tr>\n",
       "  </tbody>\n",
       "</table>\n",
       "</div>"
      ],
      "text/plain": [
       "            count              mean                 std          \n",
       "               nv nvrate         nv    nvrate        nv    nvrate\n",
       "region type                                                      \n",
       "C      C        5      5   1.600000  0.397952  1.816590  0.527344\n",
       "       U       12     12   4.750000  0.221944  5.561638  0.186887\n",
       "MW     C        3      3   0.333333  0.016263  0.577350  0.028169\n",
       "       U        7      7   8.714286  0.401900  5.559205  0.249148\n",
       "NE     C        8      8   6.000000  1.124988  5.732115  1.087244\n",
       "       U       13     13   5.923077  0.435927  8.901887  0.620511\n",
       "SE     C        6      6   1.500000  0.248799  2.738613  0.357819\n",
       "       U        9      9  12.777778  1.233761  9.257129  1.645933\n",
       "SW     C        2      2   0.000000  0.000000  0.000000  0.000000\n",
       "       U        8      8   6.625000  0.425491  9.318760  0.442505\n",
       "W      C        4      4   0.500000  0.068016  0.577350  0.113611\n",
       "       U        4      4  12.500000  0.467948  7.549834  0.157057"
      ]
     },
     "execution_count": 97,
     "metadata": {},
     "output_type": "execute_result"
    }
   ],
   "source": [
    "pivot_t"
   ]
  },
  {
   "cell_type": "code",
   "execution_count": 98,
   "metadata": {},
   "outputs": [
    {
     "data": {
      "text/plain": [
       "\"Ce tableau montre que les variances sont beaucoup plus élevées que les moyeness dans presque tous les groupes. Nous avons donc des raisons de remettre en question l'hypothèse de régression de Poisson selon laquelle la variabilité est égale à la moyenne. Cela devra éventuelelemnt être pris en compte ensuite\""
      ]
     },
     "execution_count": 98,
     "metadata": {},
     "output_type": "execute_result"
    }
   ],
   "source": [
    "\"\"\"Ce tableau montre que les variances sont beaucoup plus élevées que les moyeness dans presque tous les groupes. Nous avons donc des raisons de remettre en question l'hypothèse de régression de Poisson selon laquelle la variabilité est égale à la moyenne. Cela devra éventuelelemnt être pris en compte ensuite\"\"\""
   ]
  },
  {
   "cell_type": "markdown",
   "metadata": {},
   "source": [
    "> Tracer les boxplot de nvrate dans les différentes régions, et en fonction de la nature (type) d'établissement. Vous pouvez utiliser `sns.boxplot`, avec un paramètre `hue` qui serait le type. "
   ]
  },
  {
   "cell_type": "code",
   "execution_count": 99,
   "metadata": {},
   "outputs": [],
   "source": [
    "sns.set(\n",
    "    context='paper',\n",
    "    style='darkgrid',\n",
    "    palette='deep',\n",
    "    font='sans-serif',\n",
    "    font_scale=1,\n",
    "    color_codes=True,\n",
    "    rc=None,\n",
    ")"
   ]
  },
  {
   "cell_type": "code",
   "execution_count": 100,
   "metadata": {},
   "outputs": [
    {
     "data": {
      "text/plain": [
       "<matplotlib.axes._subplots.AxesSubplot at 0x27cd9d6cdc8>"
      ]
     },
     "execution_count": 100,
     "metadata": {},
     "output_type": "execute_result"
    },
    {
     "data": {
      "image/png": "[encoded data removed]",
      "text/plain": [
       "<Figure size 864x432 with 1 Axes>"
      ]
     },
     "metadata": {},
     "output_type": "display_data"
    }
   ],
   "source": [
    "plt.figure(figsize=(12,6))\n",
    "sns.boxplot(x='region', y='nvrate', hue='type', data=data)"
   ]
  },
  {
   "cell_type": "markdown",
   "metadata": {},
   "source": [
    "> Il y a un outlier dans la région \"SE\" et un taux de 0 pour les collèges de SW. Il est alors décidé de 1) retirer l'outlier, 2) de fusionner les régions SE et SW en une seule région S. Faites-le ! (vous pourrez utiliser un drop et .replace)"
   ]
  },
  {
   "cell_type": "code",
   "execution_count": 101,
   "metadata": {},
   "outputs": [],
   "source": [
    "data.region = data.region.replace(\"SE\",\"S\").replace(\"SW\",\"S\")\n",
    "data = data.drop(data[data.nvrate>5].index)"
   ]
  },
  {
   "cell_type": "markdown",
   "metadata": {},
   "source": [
    "> Retracer les boxplots après cette correction. "
   ]
  },
  {
   "cell_type": "code",
   "execution_count": 102,
   "metadata": {},
   "outputs": [
    {
     "data": {
      "text/plain": [
       "<matplotlib.axes._subplots.AxesSubplot at 0x27cdb488108>"
      ]
     },
     "execution_count": 102,
     "metadata": {},
     "output_type": "execute_result"
    },
    {
     "data": {
      "image/png": "[encoded data removed]",
      "text/plain": [
       "<Figure size 864x432 with 1 Axes>"
      ]
     },
     "metadata": {},
     "output_type": "display_data"
    }
   ],
   "source": [
    "plt.figure(figsize=(12,6))\n",
    "sns.boxplot(x='region', y='nvrate', hue='type', data=data)"
   ]
  },
  {
   "cell_type": "markdown",
   "metadata": {},
   "source": [
    "### Modèle de Poisson"
   ]
  },
  {
   "cell_type": "markdown",
   "metadata": {},
   "source": [
    "####  Notion de  modèle de Poisson et d'offset"
   ]
  },
  {
   "cell_type": "markdown",
   "metadata": {},
   "source": [
    "Lorsqu'on a affaire à des problèmes de comptages, on fait souvent appel à une loi de Poisson ; et la moyenne de ces comptes, $\\lambda$ est le paramètre d'une loi de Poisson. Cependant, les nombres de violences sont évidemment liées au nombre d'étudiants, et comme les universités et collèges ont un nombre d'étudiants différents, il y a un problème d'échantillonnage statitique. Il faut tenir compte des différences de populations, et par exemple travailler avec des taux. On normalise chaque \"catégorie\" par le nombre d'étudiants et on obtient des  proportions. Ceci fait apparaître dans le modèle un terme d'`offset`, dont le coefficient est fixé à 1. "
   ]
  },
  {
   "cell_type": "markdown",
   "metadata": {},
   "source": [
    "$$\\log(\\frac{\\lambda}{enrollment}) = \\beta_0 + \\beta_1 type$$\n",
    "\n",
    "$$\\log(\\lambda) = \\beta_0 + \\beta_1 type - \\log(enrollment)$$"
   ]
  },
  {
   "cell_type": "markdown",
   "metadata": {},
   "source": [
    "#### Régression de Poisson\n",
    "\n",
    "Mettons donc en oeuvre une régressiond e Poisson pour prédire le nobre de vilences, avec un offset qui corrige pour les effectifs, et en fonction des variables type et region"
   ]
  },
  {
   "cell_type": "code",
   "execution_count": 103,
   "metadata": {},
   "outputs": [
    {
     "data": {
      "text/html": [
       "<table class=\"simpletable\">\n",
       "<caption>Generalized Linear Model Regression Results</caption>\n",
       "<tr>\n",
       "  <th>Dep. Variable:</th>          <td>nv</td>        <th>  No. Observations:  </th>  <td>    80</td> \n",
       "</tr>\n",
       "<tr>\n",
       "  <th>Model:</th>                  <td>GLM</td>       <th>  Df Residuals:      </th>  <td>    74</td> \n",
       "</tr>\n",
       "<tr>\n",
       "  <th>Model Family:</th>         <td>Poisson</td>     <th>  Df Model:          </th>  <td>     5</td> \n",
       "</tr>\n",
       "<tr>\n",
       "  <th>Link Function:</th>          <td>log</td>       <th>  Scale:             </th> <td>  1.0000</td>\n",
       "</tr>\n",
       "<tr>\n",
       "  <th>Method:</th>                <td>IRLS</td>       <th>  Log-Likelihood:    </th> <td> -280.66</td>\n",
       "</tr>\n",
       "<tr>\n",
       "  <th>Date:</th>            <td>Wed, 24 Nov 2021</td> <th>  Deviance:          </th> <td>  348.68</td>\n",
       "</tr>\n",
       "<tr>\n",
       "  <th>Time:</th>                <td>10:28:20</td>     <th>  Pearson chi2:      </th>  <td>  409.</td> \n",
       "</tr>\n",
       "<tr>\n",
       "  <th>No. Iterations:</th>          <td>5</td>        <th>                     </th>     <td> </td>   \n",
       "</tr>\n",
       "<tr>\n",
       "  <th>Covariance Type:</th>     <td>nonrobust</td>    <th>                     </th>     <td> </td>   \n",
       "</tr>\n",
       "</table>"
      ],
      "text/plain": [
       "<class 'statsmodels.iolib.table.SimpleTable'>"
      ]
     },
     "metadata": {},
     "output_type": "display_data"
    },
    {
     "data": {
      "text/html": [
       "<div>\n",
       "<style scoped>\n",
       "    .dataframe tbody tr th:only-of-type {\n",
       "        vertical-align: middle;\n",
       "    }\n",
       "\n",
       "    .dataframe tbody tr th {\n",
       "        vertical-align: top;\n",
       "    }\n",
       "\n",
       "    .dataframe thead th {\n",
       "        text-align: right;\n",
       "    }\n",
       "</style>\n",
       "<table border=\"1\" class=\"dataframe\">\n",
       "  <thead>\n",
       "    <tr style=\"text-align: right;\">\n",
       "      <th></th>\n",
       "      <th>coef</th>\n",
       "      <th>std err</th>\n",
       "      <th>z</th>\n",
       "      <th>P&gt;|z|</th>\n",
       "      <th>[0.025</th>\n",
       "      <th>0.975]</th>\n",
       "      <th>p-value</th>\n",
       "      <th>Code</th>\n",
       "    </tr>\n",
       "  </thead>\n",
       "  <tbody>\n",
       "    <tr>\n",
       "      <td>Intercept</td>\n",
       "      <td>-1.5478</td>\n",
       "      <td>0.171</td>\n",
       "      <td>-9.044</td>\n",
       "      <td>0.000</td>\n",
       "      <td>-1.883</td>\n",
       "      <td>-1.212</td>\n",
       "      <td>1.511819e-19</td>\n",
       "      <td>***</td>\n",
       "    </tr>\n",
       "    <tr>\n",
       "      <td>type[T.U]</td>\n",
       "      <td>0.2796</td>\n",
       "      <td>0.133</td>\n",
       "      <td>2.100</td>\n",
       "      <td>0.036</td>\n",
       "      <td>0.019</td>\n",
       "      <td>0.541</td>\n",
       "      <td>3.575764e-02</td>\n",
       "      <td>*</td>\n",
       "    </tr>\n",
       "    <tr>\n",
       "      <td>region[T.MW]</td>\n",
       "      <td>0.0991</td>\n",
       "      <td>0.178</td>\n",
       "      <td>0.558</td>\n",
       "      <td>0.577</td>\n",
       "      <td>-0.249</td>\n",
       "      <td>0.447</td>\n",
       "      <td>5.766213e-01</td>\n",
       "      <td></td>\n",
       "    </tr>\n",
       "    <tr>\n",
       "      <td>region[T.NE]</td>\n",
       "      <td>0.7781</td>\n",
       "      <td>0.153</td>\n",
       "      <td>5.084</td>\n",
       "      <td>0.000</td>\n",
       "      <td>0.478</td>\n",
       "      <td>1.078</td>\n",
       "      <td>3.702808e-07</td>\n",
       "      <td>***</td>\n",
       "    </tr>\n",
       "    <tr>\n",
       "      <td>region[T.S]</td>\n",
       "      <td>0.5824</td>\n",
       "      <td>0.149</td>\n",
       "      <td>3.910</td>\n",
       "      <td>0.000</td>\n",
       "      <td>0.290</td>\n",
       "      <td>0.874</td>\n",
       "      <td>9.237789e-05</td>\n",
       "      <td>***</td>\n",
       "    </tr>\n",
       "    <tr>\n",
       "      <td>region[T.W]</td>\n",
       "      <td>0.2628</td>\n",
       "      <td>0.188</td>\n",
       "      <td>1.401</td>\n",
       "      <td>0.161</td>\n",
       "      <td>-0.105</td>\n",
       "      <td>0.630</td>\n",
       "      <td>1.611722e-01</td>\n",
       "      <td></td>\n",
       "    </tr>\n",
       "  </tbody>\n",
       "</table>\n",
       "</div>"
      ],
      "text/plain": [
       "                    coef    std err          z   P>|z|     [0.025     0.975]  \\\n",
       "Intercept        -1.5478      0.171     -9.044   0.000     -1.883     -1.212   \n",
       "type[T.U]         0.2796      0.133      2.100   0.036      0.019      0.541   \n",
       "region[T.MW]      0.0991      0.178      0.558   0.577     -0.249      0.447   \n",
       "region[T.NE]      0.7781      0.153      5.084   0.000      0.478      1.078   \n",
       "region[T.S]       0.5824      0.149      3.910   0.000      0.290      0.874   \n",
       "region[T.W]       0.2628      0.188      1.401   0.161     -0.105      0.630   \n",
       "\n",
       "                   p-value Code  \n",
       "Intercept     1.511819e-19  ***  \n",
       "type[T.U]     3.575764e-02    *  \n",
       "region[T.MW]  5.766213e-01       \n",
       "region[T.NE]  3.702808e-07  ***  \n",
       "region[T.S]   9.237789e-05  ***  \n",
       "region[T.W]   1.611722e-01       "
      ]
     },
     "metadata": {},
     "output_type": "display_data"
    },
    {
     "data": {
      "text/html": [
       "Signif. codes:  0 '***' 0.001 '**' 0.01 '*' 0.05 '.' 0.1 ' ' 1"
      ],
      "text/plain": [
       "<IPython.core.display.HTML object>"
      ]
     },
     "metadata": {},
     "output_type": "display_data"
    },
    {
     "data": {
      "text/html": [
       "AIC with 6 ddl = 573.32"
      ],
      "text/plain": [
       "<IPython.core.display.HTML object>"
      ]
     },
     "metadata": {},
     "output_type": "display_data"
    }
   ],
   "source": [
    "model = smf.glm(formula=\"nv ~ type + region\",data=data,family=sm.families.Poisson(),offset = np.log(data.enroll1000))\n",
    "result = model.fit()\n",
    "GLMsummary(result)"
   ]
  },
  {
   "cell_type": "markdown",
   "metadata": {},
   "source": [
    "> Ecrire (\"sur le papier\", pas de calculs), quel est le modèle pour le taux de crime, pour la région NE et pour la région centre. Vous devez obtenir un modèle multiplicatif. Que peut on dire sur le rapport entre ces taux ? Quel est, suivant la même démarche, entre les taux de crime entre univésités et collèges. "
   ]
  },
  {
   "cell_type": "markdown",
   "metadata": {},
   "source": [
    "Le coefficient estimé à 0,778 signifie que le taux de crimes violents pour 1 000 dans le Nord-Est est près de 2,2 (e^0,778) fois celui de la région centrale en tenant compte du type d'école.\n",
    "\n",
    "De même, il apparaît que le taux de crimes est plus important de e^0.28 = 1.32 (32%) dans les universités par comparaison aux collèges..."
   ]
  },
  {
   "cell_type": "markdown",
   "metadata": {},
   "source": [
    "L'analyse exploratoire suggère que l'effet du type d'institution puise varier suivant les régions. On peut essayer de modéliser cette variation par un terme d'interaction. \n",
    "\n",
    "> Introduire dans le modèle un terme d'interaction entre type et région. Afficher les résultats. En considérant les p-values, ce terme est-il utile ? le modèle s'est-il amélioré ?  "
   ]
  },
  {
   "cell_type": "code",
   "execution_count": 104,
   "metadata": {},
   "outputs": [
    {
     "data": {
      "text/html": [
       "<table class=\"simpletable\">\n",
       "<caption>Generalized Linear Model Regression Results</caption>\n",
       "<tr>\n",
       "  <th>Dep. Variable:</th>          <td>nv</td>        <th>  No. Observations:  </th>  <td>    80</td> \n",
       "</tr>\n",
       "<tr>\n",
       "  <th>Model:</th>                  <td>GLM</td>       <th>  Df Residuals:      </th>  <td>    70</td> \n",
       "</tr>\n",
       "<tr>\n",
       "  <th>Model Family:</th>         <td>Poisson</td>     <th>  Df Model:          </th>  <td>     9</td> \n",
       "</tr>\n",
       "<tr>\n",
       "  <th>Link Function:</th>          <td>log</td>       <th>  Scale:             </th> <td>  1.0000</td>\n",
       "</tr>\n",
       "<tr>\n",
       "  <th>Method:</th>                <td>IRLS</td>       <th>  Log-Likelihood:    </th> <td> -244.67</td>\n",
       "</tr>\n",
       "<tr>\n",
       "  <th>Date:</th>            <td>Wed, 24 Nov 2021</td> <th>  Deviance:          </th> <td>  276.70</td>\n",
       "</tr>\n",
       "<tr>\n",
       "  <th>Time:</th>                <td>10:35:26</td>     <th>  Pearson chi2:      </th>  <td>  311.</td> \n",
       "</tr>\n",
       "<tr>\n",
       "  <th>No. Iterations:</th>          <td>7</td>        <th>                     </th>     <td> </td>   \n",
       "</tr>\n",
       "<tr>\n",
       "  <th>Covariance Type:</th>     <td>nonrobust</td>    <th>                     </th>     <td> </td>   \n",
       "</tr>\n",
       "</table>"
      ],
      "text/plain": [
       "<class 'statsmodels.iolib.table.SimpleTable'>"
      ]
     },
     "metadata": {},
     "output_type": "display_data"
    },
    {
     "data": {
      "text/html": [
       "<div>\n",
       "<style scoped>\n",
       "    .dataframe tbody tr th:only-of-type {\n",
       "        vertical-align: middle;\n",
       "    }\n",
       "\n",
       "    .dataframe tbody tr th {\n",
       "        vertical-align: top;\n",
       "    }\n",
       "\n",
       "    .dataframe thead th {\n",
       "        text-align: right;\n",
       "    }\n",
       "</style>\n",
       "<table border=\"1\" class=\"dataframe\">\n",
       "  <thead>\n",
       "    <tr style=\"text-align: right;\">\n",
       "      <th></th>\n",
       "      <th>coef</th>\n",
       "      <th>std err</th>\n",
       "      <th>z</th>\n",
       "      <th>P&gt;|z|</th>\n",
       "      <th>[0.025</th>\n",
       "      <th>0.975]</th>\n",
       "      <th>p-value</th>\n",
       "      <th>Code</th>\n",
       "    </tr>\n",
       "  </thead>\n",
       "  <tbody>\n",
       "    <tr>\n",
       "      <td>Intercept</td>\n",
       "      <td>-1.4741</td>\n",
       "      <td>0.354</td>\n",
       "      <td>-4.169</td>\n",
       "      <td>0.000</td>\n",
       "      <td>-2.167</td>\n",
       "      <td>-0.781</td>\n",
       "      <td>0.000031</td>\n",
       "      <td>***</td>\n",
       "    </tr>\n",
       "    <tr>\n",
       "      <td>type[T.U]</td>\n",
       "      <td>0.1959</td>\n",
       "      <td>0.378</td>\n",
       "      <td>0.519</td>\n",
       "      <td>0.604</td>\n",
       "      <td>-0.544</td>\n",
       "      <td>0.936</td>\n",
       "      <td>0.603771</td>\n",
       "      <td></td>\n",
       "    </tr>\n",
       "    <tr>\n",
       "      <td>region[T.MW]</td>\n",
       "      <td>-1.9765</td>\n",
       "      <td>1.061</td>\n",
       "      <td>-1.863</td>\n",
       "      <td>0.062</td>\n",
       "      <td>-4.055</td>\n",
       "      <td>0.102</td>\n",
       "      <td>0.062395</td>\n",
       "      <td>.</td>\n",
       "    </tr>\n",
       "    <tr>\n",
       "      <td>region[T.NE]</td>\n",
       "      <td>1.5529</td>\n",
       "      <td>0.382</td>\n",
       "      <td>4.066</td>\n",
       "      <td>0.000</td>\n",
       "      <td>0.804</td>\n",
       "      <td>2.301</td>\n",
       "      <td>0.000048</td>\n",
       "      <td>***</td>\n",
       "    </tr>\n",
       "    <tr>\n",
       "      <td>region[T.S]</td>\n",
       "      <td>-0.1562</td>\n",
       "      <td>0.486</td>\n",
       "      <td>-0.322</td>\n",
       "      <td>0.748</td>\n",
       "      <td>-1.109</td>\n",
       "      <td>0.796</td>\n",
       "      <td>0.747792</td>\n",
       "      <td></td>\n",
       "    </tr>\n",
       "    <tr>\n",
       "      <td>region[T.W]</td>\n",
       "      <td>-1.8337</td>\n",
       "      <td>0.791</td>\n",
       "      <td>-2.319</td>\n",
       "      <td>0.020</td>\n",
       "      <td>-3.383</td>\n",
       "      <td>-0.284</td>\n",
       "      <td>0.020372</td>\n",
       "      <td>*</td>\n",
       "    </tr>\n",
       "    <tr>\n",
       "      <td>type[T.U]:region[T.MW]</td>\n",
       "      <td>2.1965</td>\n",
       "      <td>1.077</td>\n",
       "      <td>2.040</td>\n",
       "      <td>0.041</td>\n",
       "      <td>0.086</td>\n",
       "      <td>4.306</td>\n",
       "      <td>0.041321</td>\n",
       "      <td>*</td>\n",
       "    </tr>\n",
       "    <tr>\n",
       "      <td>type[T.U]:region[T.NE]</td>\n",
       "      <td>-1.0698</td>\n",
       "      <td>0.420</td>\n",
       "      <td>-2.547</td>\n",
       "      <td>0.011</td>\n",
       "      <td>-1.893</td>\n",
       "      <td>-0.247</td>\n",
       "      <td>0.010856</td>\n",
       "      <td>*</td>\n",
       "    </tr>\n",
       "    <tr>\n",
       "      <td>type[T.U]:region[T.S]</td>\n",
       "      <td>0.8121</td>\n",
       "      <td>0.511</td>\n",
       "      <td>1.590</td>\n",
       "      <td>0.112</td>\n",
       "      <td>-0.189</td>\n",
       "      <td>1.813</td>\n",
       "      <td>0.111848</td>\n",
       "      <td></td>\n",
       "    </tr>\n",
       "    <tr>\n",
       "      <td>type[T.U]:region[T.W]</td>\n",
       "      <td>2.4106</td>\n",
       "      <td>0.814</td>\n",
       "      <td>2.962</td>\n",
       "      <td>0.003</td>\n",
       "      <td>0.815</td>\n",
       "      <td>4.006</td>\n",
       "      <td>0.003061</td>\n",
       "      <td>**</td>\n",
       "    </tr>\n",
       "  </tbody>\n",
       "</table>\n",
       "</div>"
      ],
      "text/plain": [
       "                              coef    std err          z   P>|z|     [0.025  \\\n",
       "Intercept                  -1.4741      0.354     -4.169   0.000     -2.167   \n",
       "type[T.U]                   0.1959      0.378      0.519   0.604     -0.544   \n",
       "region[T.MW]               -1.9765      1.061     -1.863   0.062     -4.055   \n",
       "region[T.NE]                1.5529      0.382      4.066   0.000      0.804   \n",
       "region[T.S]                -0.1562      0.486     -0.322   0.748     -1.109   \n",
       "region[T.W]                -1.8337      0.791     -2.319   0.020     -3.383   \n",
       "type[T.U]:region[T.MW]      2.1965      1.077      2.040   0.041      0.086   \n",
       "type[T.U]:region[T.NE]     -1.0698      0.420     -2.547   0.011     -1.893   \n",
       "type[T.U]:region[T.S]       0.8121      0.511      1.590   0.112     -0.189   \n",
       "type[T.U]:region[T.W]       2.4106      0.814      2.962   0.003      0.815   \n",
       "\n",
       "                           0.975]   p-value Code  \n",
       "Intercept                  -0.781  0.000031  ***  \n",
       "type[T.U]                   0.936  0.603771       \n",
       "region[T.MW]                0.102  0.062395    .  \n",
       "region[T.NE]                2.301  0.000048  ***  \n",
       "region[T.S]                 0.796  0.747792       \n",
       "region[T.W]                -0.284  0.020372    *  \n",
       "type[T.U]:region[T.MW]      4.306  0.041321    *  \n",
       "type[T.U]:region[T.NE]     -0.247  0.010856    *  \n",
       "type[T.U]:region[T.S]       1.813  0.111848       \n",
       "type[T.U]:region[T.W]       4.006  0.003061   **  "
      ]
     },
     "metadata": {},
     "output_type": "display_data"
    },
    {
     "data": {
      "text/html": [
       "Signif. codes:  0 '***' 0.001 '**' 0.01 '*' 0.05 '.' 0.1 ' ' 1"
      ],
      "text/plain": [
       "<IPython.core.display.HTML object>"
      ]
     },
     "metadata": {},
     "output_type": "display_data"
    },
    {
     "data": {
      "text/html": [
       "AIC with 10 ddl = 509.33"
      ],
      "text/plain": [
       "<IPython.core.display.HTML object>"
      ]
     },
     "metadata": {},
     "output_type": "display_data"
    }
   ],
   "source": [
    "int_model = smf.glm(formula=\"nv ~ type + region+type:region\",data=data,family=sm.families.Poisson(),offset = np.log(data.enroll1000))\n",
    "int_result = int_model.fit()\n",
    "GLMsummary(int_result)"
   ]
  },
  {
   "cell_type": "markdown",
   "metadata": {},
   "source": [
    "Les p-values sur les termes d'interaction montrent que ceux-ci sont significatifs. Par ailleurs l'évolution de l'AIC confirme que le modèle s'est amélioré. "
   ]
  },
  {
   "cell_type": "markdown",
   "metadata": {},
   "source": [
    "> Tracer les graphes de diagnostic"
   ]
  },
  {
   "cell_type": "code",
   "execution_count": 105,
   "metadata": {},
   "outputs": [
    {
     "data": {
      "image/png": "[encoded data removed]",
      "text/plain": [
       "<Figure size 576x360 with 1 Axes>"
      ]
     },
     "metadata": {},
     "output_type": "display_data"
    },
    {
     "data": {
      "image/png": "[encoded data removed]",
      "text/plain": [
       "<Figure size 576x360 with 1 Axes>"
      ]
     },
     "metadata": {},
     "output_type": "display_data"
    },
    {
     "data": {
      "image/png": "[encoded data removed]",
      "text/plain": [
       "<Figure size 576x360 with 1 Axes>"
      ]
     },
     "metadata": {},
     "output_type": "display_data"
    },
    {
     "data": {
      "image/png": "[encoded data removed]",
      "text/plain": [
       "<Figure size 576x360 with 1 Axes>"
      ]
     },
     "metadata": {},
     "output_type": "display_data"
    },
    {
     "data": {
      "image/png": "[encoded data removed]",
      "text/plain": [
       "<Figure size 576x360 with 1 Axes>"
      ]
     },
     "metadata": {},
     "output_type": "display_data"
    }
   ],
   "source": [
    "glm_residplot(int_result)"
   ]
  },
  {
   "cell_type": "markdown",
   "metadata": {},
   "source": [
    "#### Régression avec une binomiale négative\n",
    "\n",
    "Cependant deux choses restent ennuyeuses : (a) la déviance reste importante (b) les observations ne semblent pas vraiment Poisson, car la variance devrait être égale à la moyenne et est bien plus importante. Une manière de traiter cela est (éventuellement) d'utiliser un autre modèle statistique et la binomiale négative  est une bon candidat. Rappelons que la binomiale négative apparaît lorsque le paramètre d'une lio de Poisson est lui-même aléatoire et suit une loi Gamma. On a deux niveaux d'aléatoire qui se traduisent par une augmentation dela variance. "
   ]
  },
  {
   "cell_type": "markdown",
   "metadata": {},
   "source": [
    "> Mettre en oeuvre ! (la lien canonique est toujours un log ; on pourra donc conserver l'offset). La famille est `sm.families.NegativeBinomial()` "
   ]
  },
  {
   "cell_type": "code",
   "execution_count": 109,
   "metadata": {},
   "outputs": [
    {
     "data": {
      "text/html": [
       "<table class=\"simpletable\">\n",
       "<caption>Generalized Linear Model Regression Results</caption>\n",
       "<tr>\n",
       "  <th>Dep. Variable:</th>          <td>nv</td>        <th>  No. Observations:  </th>  <td>    80</td> \n",
       "</tr>\n",
       "<tr>\n",
       "  <th>Model:</th>                  <td>GLM</td>       <th>  Df Residuals:      </th>  <td>    70</td> \n",
       "</tr>\n",
       "<tr>\n",
       "  <th>Model Family:</th>    <td>NegativeBinomial</td> <th>  Df Model:          </th>  <td>     9</td> \n",
       "</tr>\n",
       "<tr>\n",
       "  <th>Link Function:</th>          <td>log</td>       <th>  Scale:             </th> <td>  1.0000</td>\n",
       "</tr>\n",
       "<tr>\n",
       "  <th>Method:</th>                <td>IRLS</td>       <th>  Log-Likelihood:    </th> <td> -195.05</td>\n",
       "</tr>\n",
       "<tr>\n",
       "  <th>Date:</th>            <td>Wed, 24 Nov 2021</td> <th>  Deviance:          </th> <td>  59.103</td>\n",
       "</tr>\n",
       "<tr>\n",
       "  <th>Time:</th>                <td>10:41:31</td>     <th>  Pearson chi2:      </th>  <td>  58.5</td> \n",
       "</tr>\n",
       "<tr>\n",
       "  <th>No. Iterations:</th>          <td>8</td>        <th>                     </th>     <td> </td>   \n",
       "</tr>\n",
       "<tr>\n",
       "  <th>Covariance Type:</th>     <td>nonrobust</td>    <th>                     </th>     <td> </td>   \n",
       "</tr>\n",
       "</table>"
      ],
      "text/plain": [
       "<class 'statsmodels.iolib.table.SimpleTable'>"
      ]
     },
     "metadata": {},
     "output_type": "display_data"
    },
    {
     "data": {
      "text/html": [
       "<div>\n",
       "<style scoped>\n",
       "    .dataframe tbody tr th:only-of-type {\n",
       "        vertical-align: middle;\n",
       "    }\n",
       "\n",
       "    .dataframe tbody tr th {\n",
       "        vertical-align: top;\n",
       "    }\n",
       "\n",
       "    .dataframe thead th {\n",
       "        text-align: right;\n",
       "    }\n",
       "</style>\n",
       "<table border=\"1\" class=\"dataframe\">\n",
       "  <thead>\n",
       "    <tr style=\"text-align: right;\">\n",
       "      <th></th>\n",
       "      <th>coef</th>\n",
       "      <th>std err</th>\n",
       "      <th>z</th>\n",
       "      <th>P&gt;|z|</th>\n",
       "      <th>[0.025</th>\n",
       "      <th>0.975]</th>\n",
       "      <th>p-value</th>\n",
       "      <th>Code</th>\n",
       "    </tr>\n",
       "  </thead>\n",
       "  <tbody>\n",
       "    <tr>\n",
       "      <td>Intercept</td>\n",
       "      <td>-0.9648</td>\n",
       "      <td>0.575</td>\n",
       "      <td>-1.677</td>\n",
       "      <td>0.093</td>\n",
       "      <td>-2.092</td>\n",
       "      <td>0.163</td>\n",
       "      <td>0.093460</td>\n",
       "      <td>.</td>\n",
       "    </tr>\n",
       "    <tr>\n",
       "      <td>type[T.U]</td>\n",
       "      <td>-0.4844</td>\n",
       "      <td>0.663</td>\n",
       "      <td>-0.731</td>\n",
       "      <td>0.465</td>\n",
       "      <td>-1.784</td>\n",
       "      <td>0.815</td>\n",
       "      <td>0.465005</td>\n",
       "      <td></td>\n",
       "    </tr>\n",
       "    <tr>\n",
       "      <td>region[T.MW]</td>\n",
       "      <td>-2.5780</td>\n",
       "      <td>1.387</td>\n",
       "      <td>-1.859</td>\n",
       "      <td>0.063</td>\n",
       "      <td>-5.296</td>\n",
       "      <td>0.141</td>\n",
       "      <td>0.063082</td>\n",
       "      <td>.</td>\n",
       "    </tr>\n",
       "    <tr>\n",
       "      <td>region[T.NE]</td>\n",
       "      <td>1.0917</td>\n",
       "      <td>0.693</td>\n",
       "      <td>1.575</td>\n",
       "      <td>0.115</td>\n",
       "      <td>-0.267</td>\n",
       "      <td>2.450</td>\n",
       "      <td>0.115271</td>\n",
       "      <td></td>\n",
       "    </tr>\n",
       "    <tr>\n",
       "      <td>region[T.S]</td>\n",
       "      <td>-0.6687</td>\n",
       "      <td>0.793</td>\n",
       "      <td>-0.843</td>\n",
       "      <td>0.399</td>\n",
       "      <td>-2.223</td>\n",
       "      <td>0.886</td>\n",
       "      <td>0.399216</td>\n",
       "      <td></td>\n",
       "    </tr>\n",
       "    <tr>\n",
       "      <td>region[T.W]</td>\n",
       "      <td>-2.2223</td>\n",
       "      <td>1.045</td>\n",
       "      <td>-2.127</td>\n",
       "      <td>0.033</td>\n",
       "      <td>-4.270</td>\n",
       "      <td>-0.174</td>\n",
       "      <td>0.033455</td>\n",
       "      <td>*</td>\n",
       "    </tr>\n",
       "    <tr>\n",
       "      <td>type[T.U]:region[T.MW]</td>\n",
       "      <td>3.0983</td>\n",
       "      <td>1.482</td>\n",
       "      <td>2.091</td>\n",
       "      <td>0.037</td>\n",
       "      <td>0.194</td>\n",
       "      <td>6.003</td>\n",
       "      <td>0.036551</td>\n",
       "      <td>*</td>\n",
       "    </tr>\n",
       "    <tr>\n",
       "      <td>type[T.U]:region[T.NE]</td>\n",
       "      <td>-0.4883</td>\n",
       "      <td>0.828</td>\n",
       "      <td>-0.590</td>\n",
       "      <td>0.555</td>\n",
       "      <td>-2.111</td>\n",
       "      <td>1.134</td>\n",
       "      <td>0.555326</td>\n",
       "      <td></td>\n",
       "    </tr>\n",
       "    <tr>\n",
       "      <td>type[T.U]:region[T.S]</td>\n",
       "      <td>1.5260</td>\n",
       "      <td>0.901</td>\n",
       "      <td>1.693</td>\n",
       "      <td>0.090</td>\n",
       "      <td>-0.240</td>\n",
       "      <td>3.292</td>\n",
       "      <td>0.090408</td>\n",
       "      <td>.</td>\n",
       "    </tr>\n",
       "    <tr>\n",
       "      <td>type[T.U]:region[T.W]</td>\n",
       "      <td>2.9162</td>\n",
       "      <td>1.214</td>\n",
       "      <td>2.403</td>\n",
       "      <td>0.016</td>\n",
       "      <td>0.538</td>\n",
       "      <td>5.295</td>\n",
       "      <td>0.016266</td>\n",
       "      <td>*</td>\n",
       "    </tr>\n",
       "  </tbody>\n",
       "</table>\n",
       "</div>"
      ],
      "text/plain": [
       "                              coef    std err          z   P>|z|     [0.025  \\\n",
       "Intercept                  -0.9648      0.575     -1.677   0.093     -2.092   \n",
       "type[T.U]                  -0.4844      0.663     -0.731   0.465     -1.784   \n",
       "region[T.MW]               -2.5780      1.387     -1.859   0.063     -5.296   \n",
       "region[T.NE]                1.0917      0.693      1.575   0.115     -0.267   \n",
       "region[T.S]                -0.6687      0.793     -0.843   0.399     -2.223   \n",
       "region[T.W]                -2.2223      1.045     -2.127   0.033     -4.270   \n",
       "type[T.U]:region[T.MW]      3.0983      1.482      2.091   0.037      0.194   \n",
       "type[T.U]:region[T.NE]     -0.4883      0.828     -0.590   0.555     -2.111   \n",
       "type[T.U]:region[T.S]       1.5260      0.901      1.693   0.090     -0.240   \n",
       "type[T.U]:region[T.W]       2.9162      1.214      2.403   0.016      0.538   \n",
       "\n",
       "                           0.975]   p-value Code  \n",
       "Intercept                   0.163  0.093460    .  \n",
       "type[T.U]                   0.815  0.465005       \n",
       "region[T.MW]                0.141  0.063082    .  \n",
       "region[T.NE]                2.450  0.115271       \n",
       "region[T.S]                 0.886  0.399216       \n",
       "region[T.W]                -0.174  0.033455    *  \n",
       "type[T.U]:region[T.MW]      6.003  0.036551    *  \n",
       "type[T.U]:region[T.NE]      1.134  0.555326       \n",
       "type[T.U]:region[T.S]       3.292  0.090408    .  \n",
       "type[T.U]:region[T.W]       5.295  0.016266    *  "
      ]
     },
     "metadata": {},
     "output_type": "display_data"
    },
    {
     "data": {
      "text/html": [
       "Signif. codes:  0 '***' 0.001 '**' 0.01 '*' 0.05 '.' 0.1 ' ' 1"
      ],
      "text/plain": [
       "<IPython.core.display.HTML object>"
      ]
     },
     "metadata": {},
     "output_type": "display_data"
    },
    {
     "data": {
      "text/html": [
       "AIC with 10 ddl = 410.10"
      ],
      "text/plain": [
       "<IPython.core.display.HTML object>"
      ]
     },
     "metadata": {},
     "output_type": "display_data"
    }
   ],
   "source": [
    "bin_model = smf.glm(data=data,formula=\"nv ~ type + region + type:region\",offset=np.log(data.enroll1000),family=sm.families.NegativeBinomial())\n",
    "bin_result = bin_model.fit()\n",
    "GLMsummary(bin_result)"
   ]
  },
  {
   "cell_type": "code",
   "execution_count": 110,
   "metadata": {},
   "outputs": [
    {
     "data": {
      "image/png": "[encoded data removed]",
      "text/plain": [
       "<Figure size 576x360 with 1 Axes>"
      ]
     },
     "metadata": {},
     "output_type": "display_data"
    },
    {
     "data": {
      "image/png": "[encoded data removed]",
      "text/plain": [
       "<Figure size 576x360 with 1 Axes>"
      ]
     },
     "metadata": {},
     "output_type": "display_data"
    },
    {
     "data": {
      "image/png": "[encoded data removed]",
      "text/plain": [
       "<Figure size 576x360 with 1 Axes>"
      ]
     },
     "metadata": {},
     "output_type": "display_data"
    },
    {
     "data": {
      "image/png": "[encoded data removed]",
      "text/plain": [
       "<Figure size 576x360 with 1 Axes>"
      ]
     },
     "metadata": {},
     "output_type": "display_data"
    },
    {
     "data": {
      "image/png": "[encoded data removed]",
      "text/plain": [
       "<Figure size 576x360 with 1 Axes>"
      ]
     },
     "metadata": {},
     "output_type": "display_data"
    }
   ],
   "source": [
    "glm_residplot(bin_result)"
   ]
  },
  {
   "cell_type": "markdown",
   "metadata": {},
   "source": [
    "Les graphes de diagnostic ne sont pas sensiblement différents, et il manque de la normalité dans les résidus. L'AIC s'est amélioré ce qui indique que le modèle est mieux adapté. Cependant les résidus reste relativement importants avec des pattern visibles. Il peut y avoir encore du travail. De plus, il est fort possible qu'il y ait d'autres variables explicatives à prendre en compte qui complèteraient utilement les qualques variables présentes. S'il y a de l'info manquante dans les données, on ne peut pas faire de miracle ! \n"
   ]
  },
  {
   "cell_type": "markdown",
   "metadata": {},
   "source": [
    "## Réussite en maths"
   ]
  },
  {
   "cell_type": "markdown",
   "metadata": {},
   "source": [
    "Il s'agit d'un autre exercice sur la régression binomiale, que vous pourriez passer dans un premier temps. "
   ]
  },
  {
   "cell_type": "markdown",
   "metadata": {},
   "source": [
    "Le jeu de données rapporte des taux de réussiteen mathématiques,e n fonction de différents paramètres. On est donc dans une situation Succès/échecs modélisés par une loi binomiale.\n",
    "\n",
    "### Lecture et analyse\n",
    "\n",
    ">- Vous lirez les données via `sm.datasets.star98.load_pandas().data`\n",
    ">- et vous pourrez consulter la description par `print(sm.datasets.star98.NOTE)`"
   ]
  },
  {
   "cell_type": "code",
   "execution_count": 116,
   "metadata": {},
   "outputs": [
    {
     "data": {
      "text/html": [
       "<div>\n",
       "<style scoped>\n",
       "    .dataframe tbody tr th:only-of-type {\n",
       "        vertical-align: middle;\n",
       "    }\n",
       "\n",
       "    .dataframe tbody tr th {\n",
       "        vertical-align: top;\n",
       "    }\n",
       "\n",
       "    .dataframe thead th {\n",
       "        text-align: right;\n",
       "    }\n",
       "</style>\n",
       "<table border=\"1\" class=\"dataframe\">\n",
       "  <thead>\n",
       "    <tr style=\"text-align: right;\">\n",
       "      <th></th>\n",
       "      <th>NABOVE</th>\n",
       "      <th>NBELOW</th>\n",
       "      <th>LOWINC</th>\n",
       "      <th>PERASIAN</th>\n",
       "      <th>PERBLACK</th>\n",
       "      <th>PERHISP</th>\n",
       "      <th>PERMINTE</th>\n",
       "      <th>AVYRSEXP</th>\n",
       "      <th>AVSALK</th>\n",
       "      <th>PERSPENK</th>\n",
       "      <th>...</th>\n",
       "      <th>PCTCHRT</th>\n",
       "      <th>PCTYRRND</th>\n",
       "      <th>PERMINTE_AVYRSEXP</th>\n",
       "      <th>PERMINTE_AVSAL</th>\n",
       "      <th>AVYRSEXP_AVSAL</th>\n",
       "      <th>PERSPEN_PTRATIO</th>\n",
       "      <th>PERSPEN_PCTAF</th>\n",
       "      <th>PTRATIO_PCTAF</th>\n",
       "      <th>PERMINTE_AVYRSEXP_AVSAL</th>\n",
       "      <th>PERSPEN_PTRATIO_PCTAF</th>\n",
       "    </tr>\n",
       "  </thead>\n",
       "  <tbody>\n",
       "    <tr>\n",
       "      <td>0</td>\n",
       "      <td>452.0</td>\n",
       "      <td>355.0</td>\n",
       "      <td>34.39730</td>\n",
       "      <td>23.299300</td>\n",
       "      <td>14.235280</td>\n",
       "      <td>11.411120</td>\n",
       "      <td>15.918370</td>\n",
       "      <td>14.70646</td>\n",
       "      <td>59.15732</td>\n",
       "      <td>4.445207</td>\n",
       "      <td>...</td>\n",
       "      <td>0.0</td>\n",
       "      <td>22.222220</td>\n",
       "      <td>234.102872</td>\n",
       "      <td>941.68811</td>\n",
       "      <td>869.9948</td>\n",
       "      <td>96.50656</td>\n",
       "      <td>253.52242</td>\n",
       "      <td>1238.1955</td>\n",
       "      <td>13848.8985</td>\n",
       "      <td>5504.0352</td>\n",
       "    </tr>\n",
       "    <tr>\n",
       "      <td>1</td>\n",
       "      <td>144.0</td>\n",
       "      <td>40.0</td>\n",
       "      <td>17.36507</td>\n",
       "      <td>29.328380</td>\n",
       "      <td>8.234897</td>\n",
       "      <td>9.314884</td>\n",
       "      <td>13.636360</td>\n",
       "      <td>16.08324</td>\n",
       "      <td>59.50397</td>\n",
       "      <td>5.267598</td>\n",
       "      <td>...</td>\n",
       "      <td>0.0</td>\n",
       "      <td>0.000000</td>\n",
       "      <td>219.316851</td>\n",
       "      <td>811.41756</td>\n",
       "      <td>957.0166</td>\n",
       "      <td>107.68435</td>\n",
       "      <td>340.40609</td>\n",
       "      <td>1321.0664</td>\n",
       "      <td>13050.2233</td>\n",
       "      <td>6958.8468</td>\n",
       "    </tr>\n",
       "    <tr>\n",
       "      <td>2</td>\n",
       "      <td>337.0</td>\n",
       "      <td>234.0</td>\n",
       "      <td>32.64324</td>\n",
       "      <td>9.226386</td>\n",
       "      <td>42.406310</td>\n",
       "      <td>13.543720</td>\n",
       "      <td>28.834360</td>\n",
       "      <td>14.59559</td>\n",
       "      <td>60.56992</td>\n",
       "      <td>5.482922</td>\n",
       "      <td>...</td>\n",
       "      <td>0.0</td>\n",
       "      <td>0.000000</td>\n",
       "      <td>420.854496</td>\n",
       "      <td>1746.49488</td>\n",
       "      <td>884.0537</td>\n",
       "      <td>103.92435</td>\n",
       "      <td>295.75929</td>\n",
       "      <td>1022.4252</td>\n",
       "      <td>25491.1232</td>\n",
       "      <td>5605.8777</td>\n",
       "    </tr>\n",
       "    <tr>\n",
       "      <td>3</td>\n",
       "      <td>395.0</td>\n",
       "      <td>178.0</td>\n",
       "      <td>11.90953</td>\n",
       "      <td>13.883090</td>\n",
       "      <td>3.796973</td>\n",
       "      <td>11.443110</td>\n",
       "      <td>11.111110</td>\n",
       "      <td>14.38939</td>\n",
       "      <td>58.33411</td>\n",
       "      <td>4.165093</td>\n",
       "      <td>...</td>\n",
       "      <td>0.0</td>\n",
       "      <td>7.142857</td>\n",
       "      <td>159.882095</td>\n",
       "      <td>648.15671</td>\n",
       "      <td>839.3923</td>\n",
       "      <td>90.11341</td>\n",
       "      <td>204.34375</td>\n",
       "      <td>1061.4545</td>\n",
       "      <td>9326.5797</td>\n",
       "      <td>4421.0568</td>\n",
       "    </tr>\n",
       "    <tr>\n",
       "      <td>4</td>\n",
       "      <td>8.0</td>\n",
       "      <td>57.0</td>\n",
       "      <td>36.88889</td>\n",
       "      <td>12.187500</td>\n",
       "      <td>76.875000</td>\n",
       "      <td>7.604167</td>\n",
       "      <td>43.589740</td>\n",
       "      <td>13.90568</td>\n",
       "      <td>63.15364</td>\n",
       "      <td>4.324902</td>\n",
       "      <td>...</td>\n",
       "      <td>0.0</td>\n",
       "      <td>0.000000</td>\n",
       "      <td>606.144976</td>\n",
       "      <td>2752.85075</td>\n",
       "      <td>878.1943</td>\n",
       "      <td>81.22097</td>\n",
       "      <td>226.54248</td>\n",
       "      <td>983.7059</td>\n",
       "      <td>38280.2616</td>\n",
       "      <td>4254.4314</td>\n",
       "    </tr>\n",
       "    <tr>\n",
       "      <td>...</td>\n",
       "      <td>...</td>\n",
       "      <td>...</td>\n",
       "      <td>...</td>\n",
       "      <td>...</td>\n",
       "      <td>...</td>\n",
       "      <td>...</td>\n",
       "      <td>...</td>\n",
       "      <td>...</td>\n",
       "      <td>...</td>\n",
       "      <td>...</td>\n",
       "      <td>...</td>\n",
       "      <td>...</td>\n",
       "      <td>...</td>\n",
       "      <td>...</td>\n",
       "      <td>...</td>\n",
       "      <td>...</td>\n",
       "      <td>...</td>\n",
       "      <td>...</td>\n",
       "      <td>...</td>\n",
       "      <td>...</td>\n",
       "      <td>...</td>\n",
       "    </tr>\n",
       "    <tr>\n",
       "      <td>298</td>\n",
       "      <td>96.0</td>\n",
       "      <td>246.0</td>\n",
       "      <td>62.23968</td>\n",
       "      <td>13.820860</td>\n",
       "      <td>3.956157</td>\n",
       "      <td>32.128790</td>\n",
       "      <td>15.884480</td>\n",
       "      <td>13.27089</td>\n",
       "      <td>52.88133</td>\n",
       "      <td>4.324174</td>\n",
       "      <td>...</td>\n",
       "      <td>0.0</td>\n",
       "      <td>18.181820</td>\n",
       "      <td>210.801187</td>\n",
       "      <td>839.99243</td>\n",
       "      <td>701.7823</td>\n",
       "      <td>90.75192</td>\n",
       "      <td>34.59339</td>\n",
       "      <td>167.8969</td>\n",
       "      <td>11147.4471</td>\n",
       "      <td>726.0153</td>\n",
       "    </tr>\n",
       "    <tr>\n",
       "      <td>299</td>\n",
       "      <td>37.0</td>\n",
       "      <td>117.0</td>\n",
       "      <td>46.16188</td>\n",
       "      <td>1.150575</td>\n",
       "      <td>0.800400</td>\n",
       "      <td>45.622810</td>\n",
       "      <td>13.333330</td>\n",
       "      <td>11.80714</td>\n",
       "      <td>48.42615</td>\n",
       "      <td>3.945069</td>\n",
       "      <td>...</td>\n",
       "      <td>0.0</td>\n",
       "      <td>0.000000</td>\n",
       "      <td>157.428494</td>\n",
       "      <td>645.68184</td>\n",
       "      <td>571.7743</td>\n",
       "      <td>78.34236</td>\n",
       "      <td>212.14048</td>\n",
       "      <td>1067.8519</td>\n",
       "      <td>7623.6559</td>\n",
       "      <td>4212.7494</td>\n",
       "    </tr>\n",
       "    <tr>\n",
       "      <td>300</td>\n",
       "      <td>208.0</td>\n",
       "      <td>387.0</td>\n",
       "      <td>43.41431</td>\n",
       "      <td>3.648564</td>\n",
       "      <td>1.541204</td>\n",
       "      <td>46.319980</td>\n",
       "      <td>21.377670</td>\n",
       "      <td>14.40468</td>\n",
       "      <td>53.79616</td>\n",
       "      <td>3.845481</td>\n",
       "      <td>...</td>\n",
       "      <td>0.0</td>\n",
       "      <td>6.666667</td>\n",
       "      <td>307.938495</td>\n",
       "      <td>1150.03656</td>\n",
       "      <td>774.9165</td>\n",
       "      <td>87.32641</td>\n",
       "      <td>114.95093</td>\n",
       "      <td>678.8233</td>\n",
       "      <td>16565.9086</td>\n",
       "      <td>2610.4022</td>\n",
       "    </tr>\n",
       "    <tr>\n",
       "      <td>301</td>\n",
       "      <td>199.0</td>\n",
       "      <td>510.0</td>\n",
       "      <td>70.62104</td>\n",
       "      <td>20.461720</td>\n",
       "      <td>2.989345</td>\n",
       "      <td>17.423050</td>\n",
       "      <td>11.032860</td>\n",
       "      <td>16.56420</td>\n",
       "      <td>61.70566</td>\n",
       "      <td>3.970984</td>\n",
       "      <td>...</td>\n",
       "      <td>0.0</td>\n",
       "      <td>13.636360</td>\n",
       "      <td>182.750500</td>\n",
       "      <td>680.78991</td>\n",
       "      <td>1022.1049</td>\n",
       "      <td>98.82377</td>\n",
       "      <td>60.13205</td>\n",
       "      <td>376.8523</td>\n",
       "      <td>11276.7402</td>\n",
       "      <td>1496.4746</td>\n",
       "    </tr>\n",
       "    <tr>\n",
       "      <td>302</td>\n",
       "      <td>72.0</td>\n",
       "      <td>84.0</td>\n",
       "      <td>77.74827</td>\n",
       "      <td>5.998899</td>\n",
       "      <td>9.576225</td>\n",
       "      <td>11.117230</td>\n",
       "      <td>7.874016</td>\n",
       "      <td>16.91871</td>\n",
       "      <td>65.09957</td>\n",
       "      <td>6.913397</td>\n",
       "      <td>...</td>\n",
       "      <td>0.0</td>\n",
       "      <td>0.000000</td>\n",
       "      <td>133.218193</td>\n",
       "      <td>512.59506</td>\n",
       "      <td>1101.4007</td>\n",
       "      <td>138.49276</td>\n",
       "      <td>162.66815</td>\n",
       "      <td>471.3534</td>\n",
       "      <td>8672.4471</td>\n",
       "      <td>3258.6530</td>\n",
       "    </tr>\n",
       "  </tbody>\n",
       "</table>\n",
       "<p>303 rows × 22 columns</p>\n",
       "</div>"
      ],
      "text/plain": [
       "     NABOVE  NBELOW    LOWINC   PERASIAN   PERBLACK    PERHISP   PERMINTE  \\\n",
       "0     452.0   355.0  34.39730  23.299300  14.235280  11.411120  15.918370   \n",
       "1     144.0    40.0  17.36507  29.328380   8.234897   9.314884  13.636360   \n",
       "2     337.0   234.0  32.64324   9.226386  42.406310  13.543720  28.834360   \n",
       "3     395.0   178.0  11.90953  13.883090   3.796973  11.443110  11.111110   \n",
       "4       8.0    57.0  36.88889  12.187500  76.875000   7.604167  43.589740   \n",
       "..      ...     ...       ...        ...        ...        ...        ...   \n",
       "298    96.0   246.0  62.23968  13.820860   3.956157  32.128790  15.884480   \n",
       "299    37.0   117.0  46.16188   1.150575   0.800400  45.622810  13.333330   \n",
       "300   208.0   387.0  43.41431   3.648564   1.541204  46.319980  21.377670   \n",
       "301   199.0   510.0  70.62104  20.461720   2.989345  17.423050  11.032860   \n",
       "302    72.0    84.0  77.74827   5.998899   9.576225  11.117230   7.874016   \n",
       "\n",
       "     AVYRSEXP    AVSALK  PERSPENK  ...  PCTCHRT   PCTYRRND  PERMINTE_AVYRSEXP  \\\n",
       "0    14.70646  59.15732  4.445207  ...      0.0  22.222220         234.102872   \n",
       "1    16.08324  59.50397  5.267598  ...      0.0   0.000000         219.316851   \n",
       "2    14.59559  60.56992  5.482922  ...      0.0   0.000000         420.854496   \n",
       "3    14.38939  58.33411  4.165093  ...      0.0   7.142857         159.882095   \n",
       "4    13.90568  63.15364  4.324902  ...      0.0   0.000000         606.144976   \n",
       "..        ...       ...       ...  ...      ...        ...                ...   \n",
       "298  13.27089  52.88133  4.324174  ...      0.0  18.181820         210.801187   \n",
       "299  11.80714  48.42615  3.945069  ...      0.0   0.000000         157.428494   \n",
       "300  14.40468  53.79616  3.845481  ...      0.0   6.666667         307.938495   \n",
       "301  16.56420  61.70566  3.970984  ...      0.0  13.636360         182.750500   \n",
       "302  16.91871  65.09957  6.913397  ...      0.0   0.000000         133.218193   \n",
       "\n",
       "     PERMINTE_AVSAL  AVYRSEXP_AVSAL  PERSPEN_PTRATIO  PERSPEN_PCTAF  \\\n",
       "0         941.68811        869.9948         96.50656      253.52242   \n",
       "1         811.41756        957.0166        107.68435      340.40609   \n",
       "2        1746.49488        884.0537        103.92435      295.75929   \n",
       "3         648.15671        839.3923         90.11341      204.34375   \n",
       "4        2752.85075        878.1943         81.22097      226.54248   \n",
       "..              ...             ...              ...            ...   \n",
       "298       839.99243        701.7823         90.75192       34.59339   \n",
       "299       645.68184        571.7743         78.34236      212.14048   \n",
       "300      1150.03656        774.9165         87.32641      114.95093   \n",
       "301       680.78991       1022.1049         98.82377       60.13205   \n",
       "302       512.59506       1101.4007        138.49276      162.66815   \n",
       "\n",
       "     PTRATIO_PCTAF  PERMINTE_AVYRSEXP_AVSAL  PERSPEN_PTRATIO_PCTAF  \n",
       "0        1238.1955               13848.8985              5504.0352  \n",
       "1        1321.0664               13050.2233              6958.8468  \n",
       "2        1022.4252               25491.1232              5605.8777  \n",
       "3        1061.4545                9326.5797              4421.0568  \n",
       "4         983.7059               38280.2616              4254.4314  \n",
       "..             ...                      ...                    ...  \n",
       "298       167.8969               11147.4471               726.0153  \n",
       "299      1067.8519                7623.6559              4212.7494  \n",
       "300       678.8233               16565.9086              2610.4022  \n",
       "301       376.8523               11276.7402              1496.4746  \n",
       "302       471.3534                8672.4471              3258.6530  \n",
       "\n",
       "[303 rows x 22 columns]"
      ]
     },
     "execution_count": 116,
     "metadata": {},
     "output_type": "execute_result"
    }
   ],
   "source": [
    "data = sm.datasets.star98.load_pandas().data\n",
    "data"
   ]
  },
  {
   "cell_type": "code",
   "execution_count": 112,
   "metadata": {},
   "outputs": [
    {
     "name": "stdout",
     "output_type": "stream",
     "text": [
      "::\n",
      "\n",
      "    Number of Observations - 303 (counties in California).\n",
      "\n",
      "    Number of Variables - 13 and 8 interaction terms.\n",
      "\n",
      "    Definition of variables names::\n",
      "\n",
      "        NABOVE   - Total number of students above the national median for the\n",
      "                   math section.\n",
      "        NBELOW   - Total number of students below the national median for the\n",
      "                   math section.\n",
      "        LOWINC   - Percentage of low income students\n",
      "        PERASIAN - Percentage of Asian student\n",
      "        PERBLACK - Percentage of black students\n",
      "        PERHISP  - Percentage of Hispanic students\n",
      "        PERMINTE - Percentage of minority teachers\n",
      "        AVYRSEXP - Sum of teachers' years in educational service divided by the\n",
      "                number of teachers.\n",
      "        AVSALK   - Total salary budget including benefits divided by the number\n",
      "                   of full-time teachers (in thousands)\n",
      "        PERSPENK - Per-pupil spending (in thousands)\n",
      "        PTRATIO  - Pupil-teacher ratio.\n",
      "        PCTAF    - Percentage of students taking UC/CSU prep courses\n",
      "        PCTCHRT  - Percentage of charter schools\n",
      "        PCTYRRND - Percentage of year-round schools\n",
      "\n",
      "        The below variables are interaction terms of the variables defined\n",
      "        above.\n",
      "\n",
      "        PERMINTE_AVYRSEXP\n",
      "        PEMINTE_AVSAL\n",
      "        AVYRSEXP_AVSAL\n",
      "        PERSPEN_PTRATIO\n",
      "        PERSPEN_PCTAF\n",
      "        PTRATIO_PCTAF\n",
      "        PERMINTE_AVTRSEXP_AVSAL\n",
      "        PERSPEN_PTRATIO_PCTAF\n",
      "\n"
     ]
    }
   ],
   "source": [
    "print(sm.datasets.star98.NOTE)"
   ]
  },
  {
   "cell_type": "markdown",
   "metadata": {},
   "source": [
    "### Régression\n",
    "\n",
    "> Mettre en oeuvre une régression binomiale pour `NABOVE + NBELOW` en fonction de l'ensemble des variables (*sans* les termes d'interaction)"
   ]
  },
  {
   "cell_type": "code",
   "execution_count": 113,
   "metadata": {},
   "outputs": [
    {
     "data": {
      "text/html": [
       "<table class=\"simpletable\">\n",
       "<caption>Generalized Linear Model Regression Results</caption>\n",
       "<tr>\n",
       "  <th>Dep. Variable:</th>   <td>['NABOVE', 'NBELOW']</td> <th>  No. Observations:  </th>  <td>   303</td> \n",
       "</tr>\n",
       "<tr>\n",
       "  <th>Model:</th>                    <td>GLM</td>         <th>  Df Residuals:      </th>  <td>   296</td> \n",
       "</tr>\n",
       "<tr>\n",
       "  <th>Model Family:</th>          <td>Binomial</td>       <th>  Df Model:          </th>  <td>     6</td> \n",
       "</tr>\n",
       "<tr>\n",
       "  <th>Link Function:</th>           <td>logit</td>        <th>  Scale:             </th> <td>  1.0000</td>\n",
       "</tr>\n",
       "<tr>\n",
       "  <th>Method:</th>                  <td>IRLS</td>         <th>  Log-Likelihood:    </th> <td> -3576.7</td>\n",
       "</tr>\n",
       "<tr>\n",
       "  <th>Date:</th>              <td>Wed, 24 Nov 2021</td>   <th>  Deviance:          </th> <td>  5234.9</td>\n",
       "</tr>\n",
       "<tr>\n",
       "  <th>Time:</th>                  <td>10:49:52</td>       <th>  Pearson chi2:      </th> <td>5.09e+03</td>\n",
       "</tr>\n",
       "<tr>\n",
       "  <th>No. Iterations:</th>            <td>4</td>          <th>                     </th>     <td> </td>   \n",
       "</tr>\n",
       "<tr>\n",
       "  <th>Covariance Type:</th>       <td>nonrobust</td>      <th>                     </th>     <td> </td>   \n",
       "</tr>\n",
       "</table>"
      ],
      "text/plain": [
       "<class 'statsmodels.iolib.table.SimpleTable'>"
      ]
     },
     "metadata": {},
     "output_type": "display_data"
    },
    {
     "data": {
      "text/html": [
       "<div>\n",
       "<style scoped>\n",
       "    .dataframe tbody tr th:only-of-type {\n",
       "        vertical-align: middle;\n",
       "    }\n",
       "\n",
       "    .dataframe tbody tr th {\n",
       "        vertical-align: top;\n",
       "    }\n",
       "\n",
       "    .dataframe thead th {\n",
       "        text-align: right;\n",
       "    }\n",
       "</style>\n",
       "<table border=\"1\" class=\"dataframe\">\n",
       "  <thead>\n",
       "    <tr style=\"text-align: right;\">\n",
       "      <th></th>\n",
       "      <th>coef</th>\n",
       "      <th>std err</th>\n",
       "      <th>z</th>\n",
       "      <th>P&gt;|z|</th>\n",
       "      <th>[0.025</th>\n",
       "      <th>0.975]</th>\n",
       "      <th>p-value</th>\n",
       "      <th>Code</th>\n",
       "    </tr>\n",
       "  </thead>\n",
       "  <tbody>\n",
       "    <tr>\n",
       "      <td>Intercept</td>\n",
       "      <td>0.9175</td>\n",
       "      <td>0.012</td>\n",
       "      <td>78.709</td>\n",
       "      <td>0.000</td>\n",
       "      <td>0.895</td>\n",
       "      <td>0.940</td>\n",
       "      <td>0.000000e+00</td>\n",
       "      <td>***</td>\n",
       "    </tr>\n",
       "    <tr>\n",
       "      <td>LOWINC</td>\n",
       "      <td>-0.0160</td>\n",
       "      <td>0.000</td>\n",
       "      <td>-42.939</td>\n",
       "      <td>0.000</td>\n",
       "      <td>-0.017</td>\n",
       "      <td>-0.015</td>\n",
       "      <td>0.000000e+00</td>\n",
       "      <td>***</td>\n",
       "    </tr>\n",
       "    <tr>\n",
       "      <td>PERASIAN</td>\n",
       "      <td>0.0141</td>\n",
       "      <td>0.000</td>\n",
       "      <td>28.314</td>\n",
       "      <td>0.000</td>\n",
       "      <td>0.013</td>\n",
       "      <td>0.015</td>\n",
       "      <td>2.347270e-176</td>\n",
       "      <td>***</td>\n",
       "    </tr>\n",
       "    <tr>\n",
       "      <td>PERBLACK</td>\n",
       "      <td>-0.0158</td>\n",
       "      <td>0.001</td>\n",
       "      <td>-29.428</td>\n",
       "      <td>0.000</td>\n",
       "      <td>-0.017</td>\n",
       "      <td>-0.015</td>\n",
       "      <td>2.432741e-190</td>\n",
       "      <td>***</td>\n",
       "    </tr>\n",
       "    <tr>\n",
       "      <td>PERHISP</td>\n",
       "      <td>-0.0122</td>\n",
       "      <td>0.000</td>\n",
       "      <td>-38.284</td>\n",
       "      <td>0.000</td>\n",
       "      <td>-0.013</td>\n",
       "      <td>-0.012</td>\n",
       "      <td>0.000000e+00</td>\n",
       "      <td>***</td>\n",
       "    </tr>\n",
       "    <tr>\n",
       "      <td>PCTCHRT</td>\n",
       "      <td>0.0037</td>\n",
       "      <td>0.001</td>\n",
       "      <td>3.117</td>\n",
       "      <td>0.002</td>\n",
       "      <td>0.001</td>\n",
       "      <td>0.006</td>\n",
       "      <td>1.824463e-03</td>\n",
       "      <td>**</td>\n",
       "    </tr>\n",
       "    <tr>\n",
       "      <td>PCTYRRND</td>\n",
       "      <td>-0.0035</td>\n",
       "      <td>0.000</td>\n",
       "      <td>-17.554</td>\n",
       "      <td>0.000</td>\n",
       "      <td>-0.004</td>\n",
       "      <td>-0.003</td>\n",
       "      <td>5.527180e-69</td>\n",
       "      <td>***</td>\n",
       "    </tr>\n",
       "  </tbody>\n",
       "</table>\n",
       "</div>"
      ],
      "text/plain": [
       "                 coef    std err          z   P>|z|     [0.025     0.975]  \\\n",
       "Intercept      0.9175      0.012     78.709   0.000      0.895      0.940   \n",
       "LOWINC        -0.0160      0.000    -42.939   0.000     -0.017     -0.015   \n",
       "PERASIAN       0.0141      0.000     28.314   0.000      0.013      0.015   \n",
       "PERBLACK      -0.0158      0.001    -29.428   0.000     -0.017     -0.015   \n",
       "PERHISP       -0.0122      0.000    -38.284   0.000     -0.013     -0.012   \n",
       "PCTCHRT        0.0037      0.001      3.117   0.002      0.001      0.006   \n",
       "PCTYRRND      -0.0035      0.000    -17.554   0.000     -0.004     -0.003   \n",
       "\n",
       "                 p-value Code  \n",
       "Intercept   0.000000e+00  ***  \n",
       "LOWINC      0.000000e+00  ***  \n",
       "PERASIAN   2.347270e-176  ***  \n",
       "PERBLACK   2.432741e-190  ***  \n",
       "PERHISP     0.000000e+00  ***  \n",
       "PCTCHRT     1.824463e-03   **  \n",
       "PCTYRRND    5.527180e-69  ***  "
      ]
     },
     "metadata": {},
     "output_type": "display_data"
    },
    {
     "data": {
      "text/html": [
       "Signif. codes:  0 '***' 0.001 '**' 0.01 '*' 0.05 '.' 0.1 ' ' 1"
      ],
      "text/plain": [
       "<IPython.core.display.HTML object>"
      ]
     },
     "metadata": {},
     "output_type": "display_data"
    },
    {
     "data": {
      "text/html": [
       "AIC with 7 ddl = 7167.37"
      ],
      "text/plain": [
       "<IPython.core.display.HTML object>"
      ]
     },
     "metadata": {},
     "output_type": "display_data"
    }
   ],
   "source": [
    "model_binomial = smf.glm(formula=\"NABOVE + NBELOW ~ LOWINC + PERASIAN + PERBLACK + PERHISP + PCTCHRT + PCTYRRND\",data=data,family=sm.families.Binomial())\n",
    "model_binomial_result = model_binomial.fit()\n",
    "GLMsummary(model_binomial_result)"
   ]
  },
  {
   "cell_type": "markdown",
   "metadata": {},
   "source": [
    "> Mettre en oeuvre une régression binomiale pour `NABOVE + NBELOW` en fonction de l'ensemble des variables  et en ajoutant des termes d'interaction via `PERMINTE*AVYRSEXP*AVSALK + PERSPENK*PTRATIO*PCTAF`\n",
    "> Comment évolue l'AIC, les coefficients sont-ils significatifs ? "
   ]
  },
  {
   "cell_type": "code",
   "execution_count": 114,
   "metadata": {},
   "outputs": [
    {
     "data": {
      "text/html": [
       "<table class=\"simpletable\">\n",
       "<caption>Generalized Linear Model Regression Results</caption>\n",
       "<tr>\n",
       "  <th>Dep. Variable:</th>   <td>['NABOVE', 'NBELOW']</td> <th>  No. Observations:  </th>  <td>   303</td> \n",
       "</tr>\n",
       "<tr>\n",
       "  <th>Model:</th>                    <td>GLM</td>         <th>  Df Residuals:      </th>  <td>   282</td> \n",
       "</tr>\n",
       "<tr>\n",
       "  <th>Model Family:</th>          <td>Binomial</td>       <th>  Df Model:          </th>  <td>    20</td> \n",
       "</tr>\n",
       "<tr>\n",
       "  <th>Link Function:</th>           <td>logit</td>        <th>  Scale:             </th> <td>  1.0000</td>\n",
       "</tr>\n",
       "<tr>\n",
       "  <th>Method:</th>                  <td>IRLS</td>         <th>  Log-Likelihood:    </th> <td> -2998.6</td>\n",
       "</tr>\n",
       "<tr>\n",
       "  <th>Date:</th>              <td>Wed, 24 Nov 2021</td>   <th>  Deviance:          </th> <td>  4078.8</td>\n",
       "</tr>\n",
       "<tr>\n",
       "  <th>Time:</th>                  <td>10:51:52</td>       <th>  Pearson chi2:      </th> <td>4.05e+03</td>\n",
       "</tr>\n",
       "<tr>\n",
       "  <th>No. Iterations:</th>            <td>5</td>          <th>                     </th>     <td> </td>   \n",
       "</tr>\n",
       "<tr>\n",
       "  <th>Covariance Type:</th>       <td>nonrobust</td>      <th>                     </th>     <td> </td>   \n",
       "</tr>\n",
       "</table>"
      ],
      "text/plain": [
       "<class 'statsmodels.iolib.table.SimpleTable'>"
      ]
     },
     "metadata": {},
     "output_type": "display_data"
    },
    {
     "data": {
      "text/html": [
       "<div>\n",
       "<style scoped>\n",
       "    .dataframe tbody tr th:only-of-type {\n",
       "        vertical-align: middle;\n",
       "    }\n",
       "\n",
       "    .dataframe tbody tr th {\n",
       "        vertical-align: top;\n",
       "    }\n",
       "\n",
       "    .dataframe thead th {\n",
       "        text-align: right;\n",
       "    }\n",
       "</style>\n",
       "<table border=\"1\" class=\"dataframe\">\n",
       "  <thead>\n",
       "    <tr style=\"text-align: right;\">\n",
       "      <th></th>\n",
       "      <th>coef</th>\n",
       "      <th>std err</th>\n",
       "      <th>z</th>\n",
       "      <th>P&gt;|z|</th>\n",
       "      <th>[0.025</th>\n",
       "      <th>0.975]</th>\n",
       "      <th>p-value</th>\n",
       "      <th>Code</th>\n",
       "    </tr>\n",
       "  </thead>\n",
       "  <tbody>\n",
       "    <tr>\n",
       "      <td>Intercept</td>\n",
       "      <td>2.9589</td>\n",
       "      <td>1.547</td>\n",
       "      <td>1.913</td>\n",
       "      <td>0.056</td>\n",
       "      <td>-0.073</td>\n",
       "      <td>5.990</td>\n",
       "      <td>5.574577e-02</td>\n",
       "      <td>.</td>\n",
       "    </tr>\n",
       "    <tr>\n",
       "      <td>LOWINC</td>\n",
       "      <td>-0.0168</td>\n",
       "      <td>0.000</td>\n",
       "      <td>-38.749</td>\n",
       "      <td>0.000</td>\n",
       "      <td>-0.018</td>\n",
       "      <td>-0.016</td>\n",
       "      <td>0.000000e+00</td>\n",
       "      <td>***</td>\n",
       "    </tr>\n",
       "    <tr>\n",
       "      <td>PERASIAN</td>\n",
       "      <td>0.0099</td>\n",
       "      <td>0.001</td>\n",
       "      <td>16.505</td>\n",
       "      <td>0.000</td>\n",
       "      <td>0.009</td>\n",
       "      <td>0.011</td>\n",
       "      <td>3.392690e-61</td>\n",
       "      <td>***</td>\n",
       "    </tr>\n",
       "    <tr>\n",
       "      <td>PERBLACK</td>\n",
       "      <td>-0.0187</td>\n",
       "      <td>0.001</td>\n",
       "      <td>-25.182</td>\n",
       "      <td>0.000</td>\n",
       "      <td>-0.020</td>\n",
       "      <td>-0.017</td>\n",
       "      <td>6.276757e-140</td>\n",
       "      <td>***</td>\n",
       "    </tr>\n",
       "    <tr>\n",
       "      <td>PERHISP</td>\n",
       "      <td>-0.0142</td>\n",
       "      <td>0.000</td>\n",
       "      <td>-32.818</td>\n",
       "      <td>0.000</td>\n",
       "      <td>-0.015</td>\n",
       "      <td>-0.013</td>\n",
       "      <td>3.269482e-236</td>\n",
       "      <td>***</td>\n",
       "    </tr>\n",
       "    <tr>\n",
       "      <td>PCTCHRT</td>\n",
       "      <td>0.0049</td>\n",
       "      <td>0.001</td>\n",
       "      <td>3.921</td>\n",
       "      <td>0.000</td>\n",
       "      <td>0.002</td>\n",
       "      <td>0.007</td>\n",
       "      <td>8.810637e-05</td>\n",
       "      <td>***</td>\n",
       "    </tr>\n",
       "    <tr>\n",
       "      <td>PCTYRRND</td>\n",
       "      <td>-0.0036</td>\n",
       "      <td>0.000</td>\n",
       "      <td>-15.878</td>\n",
       "      <td>0.000</td>\n",
       "      <td>-0.004</td>\n",
       "      <td>-0.003</td>\n",
       "      <td>8.962276e-57</td>\n",
       "      <td>***</td>\n",
       "    </tr>\n",
       "    <tr>\n",
       "      <td>PERMINTE</td>\n",
       "      <td>0.2545</td>\n",
       "      <td>0.030</td>\n",
       "      <td>8.498</td>\n",
       "      <td>0.000</td>\n",
       "      <td>0.196</td>\n",
       "      <td>0.313</td>\n",
       "      <td>1.924040e-17</td>\n",
       "      <td>***</td>\n",
       "    </tr>\n",
       "    <tr>\n",
       "      <td>AVYRSEXP</td>\n",
       "      <td>0.2407</td>\n",
       "      <td>0.057</td>\n",
       "      <td>4.212</td>\n",
       "      <td>0.000</td>\n",
       "      <td>0.129</td>\n",
       "      <td>0.353</td>\n",
       "      <td>2.525627e-05</td>\n",
       "      <td>***</td>\n",
       "    </tr>\n",
       "    <tr>\n",
       "      <td>PERMINTE:AVYRSEXP</td>\n",
       "      <td>-0.0141</td>\n",
       "      <td>0.002</td>\n",
       "      <td>-7.391</td>\n",
       "      <td>0.000</td>\n",
       "      <td>-0.018</td>\n",
       "      <td>-0.010</td>\n",
       "      <td>1.457877e-13</td>\n",
       "      <td>***</td>\n",
       "    </tr>\n",
       "    <tr>\n",
       "      <td>AVSALK</td>\n",
       "      <td>0.0804</td>\n",
       "      <td>0.014</td>\n",
       "      <td>5.775</td>\n",
       "      <td>0.000</td>\n",
       "      <td>0.053</td>\n",
       "      <td>0.108</td>\n",
       "      <td>7.694523e-09</td>\n",
       "      <td>***</td>\n",
       "    </tr>\n",
       "    <tr>\n",
       "      <td>PERMINTE:AVSALK</td>\n",
       "      <td>-0.0040</td>\n",
       "      <td>0.000</td>\n",
       "      <td>-8.450</td>\n",
       "      <td>0.000</td>\n",
       "      <td>-0.005</td>\n",
       "      <td>-0.003</td>\n",
       "      <td>2.921526e-17</td>\n",
       "      <td>***</td>\n",
       "    </tr>\n",
       "    <tr>\n",
       "      <td>AVYRSEXP:AVSALK</td>\n",
       "      <td>-0.0039</td>\n",
       "      <td>0.001</td>\n",
       "      <td>-4.059</td>\n",
       "      <td>0.000</td>\n",
       "      <td>-0.006</td>\n",
       "      <td>-0.002</td>\n",
       "      <td>4.924508e-05</td>\n",
       "      <td>***</td>\n",
       "    </tr>\n",
       "    <tr>\n",
       "      <td>PERMINTE:AVYRSEXP:AVSALK</td>\n",
       "      <td>0.0002</td>\n",
       "      <td>2.99e-05</td>\n",
       "      <td>7.428</td>\n",
       "      <td>0.000</td>\n",
       "      <td>0.000</td>\n",
       "      <td>0.000</td>\n",
       "      <td>1.101839e-13</td>\n",
       "      <td>***</td>\n",
       "    </tr>\n",
       "    <tr>\n",
       "      <td>PERSPENK</td>\n",
       "      <td>-1.9522</td>\n",
       "      <td>0.317</td>\n",
       "      <td>-6.162</td>\n",
       "      <td>0.000</td>\n",
       "      <td>-2.573</td>\n",
       "      <td>-1.331</td>\n",
       "      <td>7.186438e-10</td>\n",
       "      <td>***</td>\n",
       "    </tr>\n",
       "    <tr>\n",
       "      <td>PTRATIO</td>\n",
       "      <td>-0.3341</td>\n",
       "      <td>0.061</td>\n",
       "      <td>-5.453</td>\n",
       "      <td>0.000</td>\n",
       "      <td>-0.454</td>\n",
       "      <td>-0.214</td>\n",
       "      <td>4.946236e-08</td>\n",
       "      <td>***</td>\n",
       "    </tr>\n",
       "    <tr>\n",
       "      <td>PERSPENK:PTRATIO</td>\n",
       "      <td>0.0917</td>\n",
       "      <td>0.015</td>\n",
       "      <td>6.321</td>\n",
       "      <td>0.000</td>\n",
       "      <td>0.063</td>\n",
       "      <td>0.120</td>\n",
       "      <td>2.596818e-10</td>\n",
       "      <td>***</td>\n",
       "    </tr>\n",
       "    <tr>\n",
       "      <td>PCTAF</td>\n",
       "      <td>-0.1690</td>\n",
       "      <td>0.033</td>\n",
       "      <td>-5.169</td>\n",
       "      <td>0.000</td>\n",
       "      <td>-0.233</td>\n",
       "      <td>-0.105</td>\n",
       "      <td>2.357777e-07</td>\n",
       "      <td>***</td>\n",
       "    </tr>\n",
       "    <tr>\n",
       "      <td>PERSPENK:PCTAF</td>\n",
       "      <td>0.0490</td>\n",
       "      <td>0.007</td>\n",
       "      <td>6.574</td>\n",
       "      <td>0.000</td>\n",
       "      <td>0.034</td>\n",
       "      <td>0.064</td>\n",
       "      <td>4.886509e-11</td>\n",
       "      <td>***</td>\n",
       "    </tr>\n",
       "    <tr>\n",
       "      <td>PTRATIO:PCTAF</td>\n",
       "      <td>0.0080</td>\n",
       "      <td>0.001</td>\n",
       "      <td>5.362</td>\n",
       "      <td>0.000</td>\n",
       "      <td>0.005</td>\n",
       "      <td>0.011</td>\n",
       "      <td>8.217090e-08</td>\n",
       "      <td>***</td>\n",
       "    </tr>\n",
       "    <tr>\n",
       "      <td>PERSPENK:PTRATIO:PCTAF</td>\n",
       "      <td>-0.0022</td>\n",
       "      <td>0.000</td>\n",
       "      <td>-6.445</td>\n",
       "      <td>0.000</td>\n",
       "      <td>-0.003</td>\n",
       "      <td>-0.002</td>\n",
       "      <td>1.154916e-10</td>\n",
       "      <td>***</td>\n",
       "    </tr>\n",
       "  </tbody>\n",
       "</table>\n",
       "</div>"
      ],
      "text/plain": [
       "                                coef    std err          z   P>|z|     [0.025  \\\n",
       "Intercept                     2.9589      1.547      1.913   0.056     -0.073   \n",
       "LOWINC                       -0.0168      0.000    -38.749   0.000     -0.018   \n",
       "PERASIAN                      0.0099      0.001     16.505   0.000      0.009   \n",
       "PERBLACK                     -0.0187      0.001    -25.182   0.000     -0.020   \n",
       "PERHISP                      -0.0142      0.000    -32.818   0.000     -0.015   \n",
       "PCTCHRT                       0.0049      0.001      3.921   0.000      0.002   \n",
       "PCTYRRND                     -0.0036      0.000    -15.878   0.000     -0.004   \n",
       "PERMINTE                      0.2545      0.030      8.498   0.000      0.196   \n",
       "AVYRSEXP                      0.2407      0.057      4.212   0.000      0.129   \n",
       "PERMINTE:AVYRSEXP            -0.0141      0.002     -7.391   0.000     -0.018   \n",
       "AVSALK                        0.0804      0.014      5.775   0.000      0.053   \n",
       "PERMINTE:AVSALK              -0.0040      0.000     -8.450   0.000     -0.005   \n",
       "AVYRSEXP:AVSALK              -0.0039      0.001     -4.059   0.000     -0.006   \n",
       "PERMINTE:AVYRSEXP:AVSALK      0.0002   2.99e-05      7.428   0.000      0.000   \n",
       "PERSPENK                     -1.9522      0.317     -6.162   0.000     -2.573   \n",
       "PTRATIO                      -0.3341      0.061     -5.453   0.000     -0.454   \n",
       "PERSPENK:PTRATIO              0.0917      0.015      6.321   0.000      0.063   \n",
       "PCTAF                        -0.1690      0.033     -5.169   0.000     -0.233   \n",
       "PERSPENK:PCTAF                0.0490      0.007      6.574   0.000      0.034   \n",
       "PTRATIO:PCTAF                 0.0080      0.001      5.362   0.000      0.005   \n",
       "PERSPENK:PTRATIO:PCTAF       -0.0022      0.000     -6.445   0.000     -0.003   \n",
       "\n",
       "                             0.975]        p-value Code  \n",
       "Intercept                     5.990   5.574577e-02    .  \n",
       "LOWINC                       -0.016   0.000000e+00  ***  \n",
       "PERASIAN                      0.011   3.392690e-61  ***  \n",
       "PERBLACK                     -0.017  6.276757e-140  ***  \n",
       "PERHISP                      -0.013  3.269482e-236  ***  \n",
       "PCTCHRT                       0.007   8.810637e-05  ***  \n",
       "PCTYRRND                     -0.003   8.962276e-57  ***  \n",
       "PERMINTE                      0.313   1.924040e-17  ***  \n",
       "AVYRSEXP                      0.353   2.525627e-05  ***  \n",
       "PERMINTE:AVYRSEXP            -0.010   1.457877e-13  ***  \n",
       "AVSALK                        0.108   7.694523e-09  ***  \n",
       "PERMINTE:AVSALK              -0.003   2.921526e-17  ***  \n",
       "AVYRSEXP:AVSALK              -0.002   4.924508e-05  ***  \n",
       "PERMINTE:AVYRSEXP:AVSALK      0.000   1.101839e-13  ***  \n",
       "PERSPENK                     -1.331   7.186438e-10  ***  \n",
       "PTRATIO                      -0.214   4.946236e-08  ***  \n",
       "PERSPENK:PTRATIO              0.120   2.596818e-10  ***  \n",
       "PCTAF                        -0.105   2.357777e-07  ***  \n",
       "PERSPENK:PCTAF                0.064   4.886509e-11  ***  \n",
       "PTRATIO:PCTAF                 0.011   8.217090e-08  ***  \n",
       "PERSPENK:PTRATIO:PCTAF       -0.002   1.154916e-10  ***  "
      ]
     },
     "metadata": {},
     "output_type": "display_data"
    },
    {
     "data": {
      "text/html": [
       "Signif. codes:  0 '***' 0.001 '**' 0.01 '*' 0.05 '.' 0.1 ' ' 1"
      ],
      "text/plain": [
       "<IPython.core.display.HTML object>"
      ]
     },
     "metadata": {},
     "output_type": "display_data"
    },
    {
     "data": {
      "text/html": [
       "AIC with 21 ddl = 6039.22"
      ],
      "text/plain": [
       "<IPython.core.display.HTML object>"
      ]
     },
     "metadata": {},
     "output_type": "display_data"
    }
   ],
   "source": [
    "model_binomial = smf.glm(formula=\"NABOVE + NBELOW ~ LOWINC + PERASIAN + PERBLACK + PERHISP + PCTCHRT + PCTYRRND + \\\n",
    "    PERMINTE*AVYRSEXP*AVSALK + PERSPENK*PTRATIO*PCTAF\",data=data,family=sm.families.Binomial())\n",
    "model_binomial_result = model_binomial.fit()\n",
    "GLMsummary(model_binomial_result)"
   ]
  },
  {
   "cell_type": "markdown",
   "metadata": {},
   "source": []
  },
  {
   "cell_type": "markdown",
   "metadata": {},
   "source": [
    "Le modèle étant obtenu, comparons sa capacité de prédiction des proportions et les proportions de succèes effectives dans les données. Pour ce faire,\n",
    "\n",
    "> - Calculer  les prédictions, en utilisant `res.predict`\n",
    "> - Calculer les proportions effectives dans les données\n",
    "Comparer ces deux quantités, par exemple en traçant l'une en fonction de l'autre. "
   ]
  },
  {
   "cell_type": "code",
   "execution_count": 115,
   "metadata": {},
   "outputs": [],
   "source": []
  },
  {
   "cell_type": "code",
   "execution_count": null,
   "metadata": {},
   "outputs": [],
   "source": []
  },
  {
   "cell_type": "markdown",
   "metadata": {},
   "source": [
    "> Si on persiste à augmenter le nombre de termes, via des interactions, en ajoutant `PERASIAN*PERBLACK*PERHISP*PCTCHRT*PCTYRRND`, que devbient l'AIC et la signification des variables ,  "
   ]
  },
  {
   "cell_type": "code",
   "execution_count": null,
   "metadata": {},
   "outputs": [],
   "source": []
  },
  {
   "cell_type": "markdown",
   "metadata": {},
   "source": [
    "> Retirer quelques variables non significatives et réitérez. Evolution de l'AIC ? "
   ]
  },
  {
   "cell_type": "code",
   "execution_count": null,
   "metadata": {},
   "outputs": [],
   "source": []
  },
  {
   "cell_type": "code",
   "execution_count": null,
   "metadata": {},
   "outputs": [],
   "source": []
  },
  {
   "cell_type": "markdown",
   "metadata": {},
   "source": [
    "## Richesse écologique\n",
    "\n",
    "On traite à nouveau un problème de comptage, avec une régression de Poisson. \n",
    "\n",
    "Les données de cet exercice ont été recueillies au cours d'une expérience qui a permis d'étudier la relation entre le nombre d'espèces végétales et la biomasse végétale cultivée dans des parcelles ayant subi trois traitements à pH contrôlé : faible, moyen et élevé. La recherche vise à déterminer si l'augmentation de la biomasse a un effet sur la richesse des espèces et si cet effet peut être modulé par le pH. Par conséquent, l'espèce est la variable de réponse et le pH et la biomasse sont des variables explicatives. Comme le nombre d'espèces est un compte (positif et entier), nous tenterons d'ajuster une distribution de Poisson à ces données.\n",
    "\n"
   ]
  },
  {
   "cell_type": "markdown",
   "metadata": {},
   "source": [
    "### Lecture et analyse\n",
    ">Charger le fichier `species.txt` et procéder à une exploration préliminaire. Combien de variables, de données, dépendances, histogrammes, boxplot..."
   ]
  },
  {
   "cell_type": "code",
   "execution_count": null,
   "metadata": {},
   "outputs": [],
   "source": []
  },
  {
   "cell_type": "code",
   "execution_count": null,
   "metadata": {},
   "outputs": [],
   "source": []
  },
  {
   "cell_type": "code",
   "execution_count": null,
   "metadata": {},
   "outputs": [],
   "source": []
  },
  {
   "cell_type": "markdown",
   "metadata": {},
   "source": [
    "#### Tracés\n",
    "\n",
    "distplot, boxplot, pairplot, "
   ]
  },
  {
   "cell_type": "code",
   "execution_count": null,
   "metadata": {},
   "outputs": [],
   "source": []
  },
  {
   "cell_type": "code",
   "execution_count": null,
   "metadata": {},
   "outputs": [],
   "source": []
  },
  {
   "cell_type": "code",
   "execution_count": null,
   "metadata": {},
   "outputs": [],
   "source": []
  },
  {
   "cell_type": "code",
   "execution_count": null,
   "metadata": {},
   "outputs": [],
   "source": []
  },
  {
   "cell_type": "markdown",
   "metadata": {},
   "source": [
    "#### Tests statistiques \n",
    "\n",
    "Une fois n'est pas coutume, on va effectuer un test statistque pour tester si nos différents groupes de pH sont significatifs, et doivent donc être pris en compte en tant que variables explicatives distinctes. Pour cela, on va utiliser un ttest et une anova. "
   ]
  },
  {
   "cell_type": "markdown",
   "metadata": {},
   "source": [
    "> Vous mettrez en oeuvre un ttest à partir de `sm.stats.ttest_ind(..)`\n",
    "> Une anova à partie de `oneway` provenant de  `import statsmodels.stats.oneway as oneway`"
   ]
  },
  {
   "cell_type": "code",
   "execution_count": 31,
   "metadata": {},
   "outputs": [],
   "source": [
    "low = species['pH']=='low'\n",
    "mid = species['pH']=='mid'\n",
    "high = species['pH']=='high'\n"
   ]
  },
  {
   "cell_type": "code",
   "execution_count": 9,
   "metadata": {},
   "outputs": [],
   "source": [
    "import statsmodels.stats.oneway as oneway"
   ]
  },
  {
   "cell_type": "code",
   "execution_count": null,
   "metadata": {},
   "outputs": [],
   "source": []
  },
  {
   "cell_type": "code",
   "execution_count": null,
   "metadata": {},
   "outputs": [],
   "source": []
  },
  {
   "cell_type": "code",
   "execution_count": null,
   "metadata": {},
   "outputs": [],
   "source": []
  },
  {
   "cell_type": "markdown",
   "metadata": {},
   "source": [
    "### Premier modèle. \n",
    "\n",
    "Les données sont donc des comptages et l'hypothèse comme quoi la réponse serait Poisson n'est pas déraisonnable. On envisage donc une régression de Poisson, avec un glm utilisant la famille de Poisson (et par défaut un lien en log). \n",
    "\n",
    ">Effectuez la régression de Species en fonction de Biomass : : définissez le modèle, apprenez le (méthode.fit) et affichez le résumé (attribut summary). "
   ]
  },
  {
   "cell_type": "code",
   "execution_count": null,
   "metadata": {},
   "outputs": [],
   "source": []
  },
  {
   "cell_type": "code",
   "execution_count": null,
   "metadata": {},
   "outputs": [],
   "source": []
  },
  {
   "cell_type": "markdown",
   "metadata": {},
   "source": [
    "> Selon ce modèle, quelle serait la valeur prédite (calcul \"à la main\") sur le log(mu) lorsque la biomasse = 5 ? Qu'est-ce que cela deviendrait sur l'échelle de la réponse, c'est-à-dire le nombre d'espèces ?"
   ]
  },
  {
   "cell_type": "code",
   "execution_count": null,
   "metadata": {},
   "outputs": [],
   "source": []
  },
  {
   "cell_type": "code",
   "execution_count": null,
   "metadata": {},
   "outputs": [],
   "source": []
  },
  {
   "cell_type": "code",
   "execution_count": null,
   "metadata": {},
   "outputs": [],
   "source": []
  },
  {
   "cell_type": "markdown",
   "metadata": {},
   "source": [
    "### 2e modèle\n",
    "\n",
    "> Ajouter maintenant la variable explicative `pH`, et éventuellement un terme d'interaction. Comment évolue le modèle ? "
   ]
  },
  {
   "cell_type": "code",
   "execution_count": null,
   "metadata": {},
   "outputs": [],
   "source": []
  },
  {
   "cell_type": "markdown",
   "metadata": {},
   "source": [
    "### diagnostic \n",
    "\n",
    "#### Tracez les quelques figures de diagnostic\n"
   ]
  },
  {
   "cell_type": "markdown",
   "metadata": {},
   "source": [
    "En utilisant le fonction `glm_residplot(res)`"
   ]
  },
  {
   "cell_type": "code",
   "execution_count": null,
   "metadata": {},
   "outputs": [],
   "source": []
  },
  {
   "cell_type": "markdown",
   "metadata": {},
   "source": [
    "#### Exploitation des prédictions\n",
    "\n",
    "> Utilisez `predict()` ou `get_prediction().summary_frame()` pour obtenir les prédictions. Tracez la relation entre le nombre d'espèces et la biomasse pour chaque niveau de pH, ainsi que les données de départ. Pourquoi les courbes ne sont-elles pas des lignes ?"
   ]
  },
  {
   "cell_type": "code",
   "execution_count": null,
   "metadata": {},
   "outputs": [],
   "source": []
  },
  {
   "cell_type": "code",
   "execution_count": null,
   "metadata": {},
   "outputs": [],
   "source": []
  },
  {
   "cell_type": "code",
   "execution_count": null,
   "metadata": {},
   "outputs": [],
   "source": []
  },
  {
   "cell_type": "code",
   "execution_count": null,
   "metadata": {},
   "outputs": [],
   "source": []
  },
  {
   "cell_type": "markdown",
   "metadata": {},
   "source": [
    "> Dans la  mesure où nous disposons dans le `summary_frame` des intervalles de confiance, autant l'utiliser... Ajouter un intervalle de confiance à vos tracés.. "
   ]
  },
  {
   "cell_type": "code",
   "execution_count": null,
   "metadata": {},
   "outputs": [],
   "source": []
  },
  {
   "cell_type": "code",
   "execution_count": null,
   "metadata": {},
   "outputs": [],
   "source": []
  },
  {
   "cell_type": "markdown",
   "metadata": {},
   "source": [
    "## Quine Data\n",
    "\n",
    "La description des données est ici\n",
    "https://stat.ethz.ch/R-manual/R-devel/library/MASS/html/quine.html\n",
    "\n",
    "Pas fini !"
   ]
  },
  {
   "cell_type": "code",
   "execution_count": null,
   "metadata": {},
   "outputs": [],
   "source": []
  },
  {
   "cell_type": "markdown",
   "metadata": {},
   "source": [
    "## Régression linéaire\n",
    "\n",
    "Il s'agit d'un GLM avec hypothèse gaussienne... \n",
    "\n",
    "Si vous vouliez revoir la régression linéaire, ou si vous avez terminé le TP en avance, nous vous invitions à vous pencher sur [Lab-BostonMedvPrediction_sujet_python.ipynb](Lab-BostonMedvPrediction_sujet_python.ipynb)"
   ]
  }
 ],
 "metadata": {
  "hide_input": false,
  "interpreter": {
   "hash": "e67c57c2164f0d1a4b23ea8a1a6f35ed29afd7c54e555be344821e3f71753684"
  },
  "kernelspec": {
   "display_name": "Python 3.8",
   "language": "python",
   "name": "python3"
  },
  "language_info": {
   "codemirror_mode": {
    "name": "ipython",
    "version": 3
   },
   "file_extension": ".py",
   "mimetype": "text/x-python",
   "name": "python",
   "nbconvert_exporter": "python",
   "pygments_lexer": "ipython3",
   "version": "3.7.4"
  },
  "latex_envs": {
   "LaTeX_envs_menu_present": true,
   "autoclose": false,
   "autocomplete": false,
   "bibliofile": "latex_bib.bib",
   "cite_by": "apalike",
   "current_citInitial": 1,
   "eqLabelWithNumbers": true,
   "eqNumInitial": 1,
   "hotkeys": {
    "equation": "ctrl-e"
   },
   "labels_anchors": false,
   "latex_user_defs": false,
   "report_style_numbering": false,
   "user_envs_cfg": false
  },
  "nbTranslate": {
   "displayLangs": [
    "*"
   ],
   "hotkey": "alt-t",
   "langInMainMenu": true,
   "sourceLang": "en",
   "targetLang": "fr",
   "useGoogleTranslate": true
  },
  "toc": {
   "base_numbering": "0",
   "lock_sidebar": true,
   "nav_menu": {},
   "number_sections": true,
   "sideBar": true,
   "skip_h1_title": false,
   "title_cell": "Table of Contents",
   "title_sidebar": "Contents",
   "toc_cell": true,
   "toc_position": {
    "height": "calc(100% - 180px)",
    "left": "10px",
    "top": "150px",
    "width": "204.067px"
   },
   "toc_section_display": true,
   "toc_window_display": true
  },
  "varInspector": {
   "cols": {
    "lenName": 16,
    "lenType": 16,
    "lenVar": 40
   },
   "kernels_config": {
    "python": {
     "delete_cmd_postfix": "",
     "delete_cmd_prefix": "del ",
     "library": "var_list.py",
     "varRefreshCmd": "print(var_dic_list())"
    },
    "r": {
     "delete_cmd_postfix": ") ",
     "delete_cmd_prefix": "rm(",
     "library": "var_list.r",
     "varRefreshCmd": "cat(var_dic_list()) "
    }
   },
   "types_to_exclude": [
    "module",
    "function",
    "builtin_function_or_method",
    "instance",
    "_Feature"
   ],
   "window_display": false
  }
 },
 "nbformat": 4,
 "nbformat_minor": 4
}
