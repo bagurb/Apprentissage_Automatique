{
 "cells": [
  {
   "cell_type": "markdown",
   "metadata": {
    "toc": "true"
   },
   "source": [
    "<h1>Table of Contents<span class=\"tocSkip\"></span></h1>\n",
    "<div class=\"toc\"><ul class=\"toc-item\"><li><span><a href=\"#Le-prix-de-l'immobilier\" data-toc-modified-id=\"Le-prix-de-l'immobilier-1\"><span class=\"toc-item-num\">1&nbsp;&nbsp;</span>Le prix de l'immobilier</a></span><ul class=\"toc-item\"><li><span><a href=\"#Régression-linéaire-simple\" data-toc-modified-id=\"Régression-linéaire-simple-1.1\"><span class=\"toc-item-num\">1.1&nbsp;&nbsp;</span>Régression linéaire simple</a></span></li><li><span><a href=\"#Régression-linéaire-multiple\" data-toc-modified-id=\"Régression-linéaire-multiple-1.2\"><span class=\"toc-item-num\">1.2&nbsp;&nbsp;</span>Régression linéaire multiple</a></span></li><li><span><a href=\"#Termes-d'interaction\" data-toc-modified-id=\"Termes-d'interaction-1.3\"><span class=\"toc-item-num\">1.3&nbsp;&nbsp;</span>Termes d'interaction</a></span></li><li><span><a href=\"#Transformations-non-linaires-des-prédicteurs\" data-toc-modified-id=\"Transformations-non-linaires-des-prédicteurs-1.4\"><span class=\"toc-item-num\">1.4&nbsp;&nbsp;</span>Transformations non-linaires des prédicteurs</a></span></li></ul></li></ul></div>"
   ]
  },
  {
   "cell_type": "code",
   "execution_count": null,
   "metadata": {
    "ExecuteTime": {
     "end_time": "2016-11-19T17:24:36.735436",
     "start_time": "2016-11-19T16:24:36.721Z"
    }
   },
   "outputs": [],
   "source": [
    "import pandas as pd \n",
    "import numpy as np\n",
    "import statsmodels.api as sm\n",
    "import statsmodels.formula.api as smf\n",
    "import matplotlib.pyplot as plt\n",
    "import seaborn as sns\n",
    "#\n",
    "from LinearRegression_in_Python_like_in_R import lm, summary, vif"
   ]
  },
  {
   "cell_type": "markdown",
   "metadata": {},
   "source": [
    "La librairie `LinearRegression_in_Python_like_in_R` a été développée pour ce TP et vous permet d'utiliser *grosso modo* les mêmes méthodes qu'en R. Vous pourrez consulter avec intérêt le code source. \n",
    "Pour créer un modèle de régression linéaire, il vous suffit de faire des opérations similaires à\n",
    "```\n",
    ">> model = lm('response ~ predictor1 + predictor2)\n",
    "```\n",
    "Vous disposerez ensuite de méthodes pour obtenir le résultat et les performances `model.summary()` ou `summary(model)`, pour afficher les graphes de diagnostic `model.plot()`. \n",
    "Pour tracer des scatter plots, vous pourrez par exemple utiliser la méthode `sns.scatterplot()` de la librairie seaborn. "
   ]
  },
  {
   "cell_type": "code",
   "execution_count": null,
   "metadata": {},
   "outputs": [],
   "source": [
    "%matplotlib inline"
   ]
  },
  {
   "cell_type": "markdown",
   "metadata": {},
   "source": [
    "# Le prix de l'immobilier"
   ]
  },
  {
   "cell_type": "markdown",
   "metadata": {},
   "source": [
    "On s'intéresse dans cette partie au prix de l'immobilier à Boston. Ces données sont fournies dansle fichier `Boston.csv` que vous pourrez charger à l'aide de `pd.read_csv()`. Vous pourrez ensuite obtenir la description de ce jeu de données en exécutant les trois lignes de code qui affichent le fichier markdown `Boston.md`. \n",
    "\n",
    "Chargez ces données, consultez l'aide. L'enjeu va être ici de prédire le prix de l'immobilier en fonction des paramètres disponibles. Pour cela, il va donc nous falloir construire un modèle le mieux adapté possible à cette tâche. Ce TP est issu du livre ISLR, page 109 et suivantes. "
   ]
  },
  {
   "cell_type": "code",
   "execution_count": null,
   "metadata": {},
   "outputs": [],
   "source": [
    "# lecture du fichier csv dans un dataframe Boston\n",
    "# ..."
   ]
  },
  {
   "cell_type": "code",
   "execution_count": null,
   "metadata": {},
   "outputs": [],
   "source": [
    "with open(\"Boston.md\",'r') as f:\n",
    "    boston_description = f.read()\n",
    "from IPython.display import Markdown\n",
    "Markdown(boston_description)"
   ]
  },
  {
   "cell_type": "markdown",
   "metadata": {},
   "source": [
    "## Régression linéaire simple\n",
    "\n",
    "Vous débuterez par une régression linéaire simple de `medv` (le prix moyen) en fonction de la pauvreté de la population environnante. Vous utiliserez la fonction `lm`. Afficher le résumé du modèle, par `summary(model)` ou `model.summary()`, et tracez les graphes de diagnostic. Que peut-on en déduire ?\n"
   ]
  },
  {
   "cell_type": "code",
   "execution_count": null,
   "metadata": {
    "ExecuteTime": {
     "end_time": "2016-11-19T17:34:46.749247",
     "start_time": "2016-11-19T16:34:46.701Z"
    }
   },
   "outputs": [],
   "source": [
    "# model1\n"
   ]
  },
  {
   "cell_type": "code",
   "execution_count": null,
   "metadata": {},
   "outputs": [],
   "source": []
  },
  {
   "cell_type": "markdown",
   "metadata": {},
   "source": [
    "Ces différents graphiques suggèrent une certaine non-linéarité dans la relation `medv~lstat`. Nous considèrerons cela plus attentivement dans la suite.  "
   ]
  },
  {
   "cell_type": "markdown",
   "metadata": {},
   "source": [
    "L'intervalle de confiance pour les coefficients peut être obtenu avec la méthode `.conf_int()`. Regardez de quoi il s'agit. \n",
    "\n",
    "Prédire les prix pour lstat valant 5, 10 puis 15, ainsi que les intervalles à 5% correspondants. Pour les intervalles de confiance, vous utiliserez les commandes\n",
    "```\n",
    "res = model1.get_prediction(newdata)\n",
    "res.summary_frame()\n",
    "```\n",
    "\n",
    "Une explication de la différence entre ces deux types d'intervalles [ici](http://stats.stackexchange.com/questions/16493/difference-between-confidence-intervals-and-prediction-intervals)."
   ]
  },
  {
   "cell_type": "code",
   "execution_count": null,
   "metadata": {},
   "outputs": [],
   "source": []
  },
  {
   "cell_type": "code",
   "execution_count": null,
   "metadata": {},
   "outputs": [],
   "source": [
    "# newdata = ...\n"
   ]
  },
  {
   "cell_type": "code",
   "execution_count": null,
   "metadata": {},
   "outputs": [],
   "source": [
    "res = model1.get_prediction(newdata)\n",
    "res.summary_frame()"
   ]
  },
  {
   "cell_type": "code",
   "execution_count": null,
   "metadata": {},
   "outputs": [],
   "source": [
    "import warnings\n",
    "warnings.filterwarnings('ignore', category=FutureWarning)"
   ]
  },
  {
   "cell_type": "markdown",
   "metadata": {},
   "source": [
    "Finalement, tracez le nuage de point et la droite de régression. Vous pourrez faire cela en utilisant la fonction `sns.lmplot`"
   ]
  },
  {
   "cell_type": "code",
   "execution_count": null,
   "metadata": {},
   "outputs": [],
   "source": []
  },
  {
   "cell_type": "raw",
   "metadata": {},
   "source": []
  },
  {
   "cell_type": "markdown",
   "metadata": {},
   "source": [
    "## Régression linéaire multiple\n",
    "\n",
    "Effectuer une régression linéaire multiple de `medv` en fonction de `lstat` et `age`. Examiner quelles sont les $p$-values associées aux deux prédicteurs. Effectuer ensuite une régression sur l'ensemble des prédicteurs (utiliser le fait que `lm('y ~ .')`effectue la régression de y sur l'ensemble des variables). Que deviennent les $p$-values des deux prédicteurs précédents ? Quelles sont les variables qui paraissent pertinentes ?"
   ]
  },
  {
   "cell_type": "code",
   "execution_count": null,
   "metadata": {
    "ExecuteTime": {
     "end_time": "2016-11-19T17:36:34.036398",
     "start_time": "2016-11-19T16:36:34.012Z"
    }
   },
   "outputs": [],
   "source": [
    "# model2 = ...\n"
   ]
  },
  {
   "cell_type": "code",
   "execution_count": null,
   "metadata": {
    "ExecuteTime": {
     "end_time": "2016-11-19T17:37:49.840277",
     "start_time": "2016-11-19T16:37:49.787Z"
    }
   },
   "outputs": [],
   "source": [
    "# model3 = ...\n"
   ]
  },
  {
   "cell_type": "markdown",
   "metadata": {},
   "source": [
    "Examiner le VIF des différents *prédicteurs*. On vous a préparé une fonction `vif` que vous pouvez utiliser telle que. \n",
    "Il faut sans doute retirer la colonne `medv` du tableau à passer, car ce n'est pas un pédicteur, mais la réponse."
   ]
  },
  {
   "cell_type": "code",
   "execution_count": null,
   "metadata": {},
   "outputs": [],
   "source": []
  },
  {
   "cell_type": "markdown",
   "metadata": {},
   "source": [
    "On peut donc supposer que les variables `age` et  `indus` sont inutiles. Effectuer une régression linéaire en supprimant d'abord `age`, puis  `age` et  `indus`. Surveillez les valeurs de R-squared et de Adjusted R-Squared. Utiliser le fait que `lm(y~ .-x)` effectue la régression sur `.` sauf `x`). "
   ]
  },
  {
   "cell_type": "code",
   "execution_count": null,
   "metadata": {
    "ExecuteTime": {
     "end_time": "2016-11-19T17:44:58.724441",
     "start_time": "2016-11-19T16:44:58.671Z"
    }
   },
   "outputs": [],
   "source": [
    "# model4 "
   ]
  },
  {
   "cell_type": "code",
   "execution_count": null,
   "metadata": {
    "ExecuteTime": {
     "end_time": "2016-11-19T17:45:03.618998",
     "start_time": "2016-11-19T16:45:03.588Z"
    }
   },
   "outputs": [],
   "source": [
    "# model5 "
   ]
  },
  {
   "cell_type": "raw",
   "metadata": {},
   "source": []
  },
  {
   "cell_type": "markdown",
   "metadata": {},
   "source": [
    "## Termes d'interaction"
   ]
  },
  {
   "cell_type": "markdown",
   "metadata": {},
   "source": [
    "Puisqu'on soupçonne qu'il y ait une non-linéarité dans le modèle (à partir de l'examen des résidus), commençons par tester si des termes d'interaction peuvent approrter quelque chose. La syntaxe `lstat:black` permet d'inclure un terme d'interaction entre\n",
    "lstat et black. La syntaxe `lstat*age` inclue simultanément `lstat`, `age`,\n",
    "et `lstat:age`. Examinez que deviennent les résultats en incluant un terme d'interaction en `lstat` et `age`, puis entre `crim` et `dist`. Ces approches, ou l'une d'entre elles, apportent-elles quelque chose ?"
   ]
  },
  {
   "cell_type": "code",
   "execution_count": null,
   "metadata": {},
   "outputs": [],
   "source": []
  },
  {
   "cell_type": "code",
   "execution_count": null,
   "metadata": {
    "ExecuteTime": {
     "end_time": "2016-11-19T17:45:36.423238",
     "start_time": "2016-11-19T16:45:36.395Z"
    }
   },
   "outputs": [],
   "source": [
    " "
   ]
  },
  {
   "cell_type": "code",
   "execution_count": null,
   "metadata": {
    "ExecuteTime": {
     "end_time": "2016-11-19T17:47:40.519427",
     "start_time": "2016-11-19T16:47:40.480Z"
    }
   },
   "outputs": [],
   "source": [
    " "
   ]
  },
  {
   "cell_type": "markdown",
   "metadata": {},
   "source": [
    "Il est possible de générer automatiquement des termes d'interaction par la syntaxe `(a+b+c)**2`  (`^2` en R), qui va générer les termes d'interaction `a:b`, `a:c`, et `b:c`. Appliquer cette technique pour faire la régression sur l'ensemble des variables, sauf `age`  et `indus` et en ajoutant les interaction entre `dis`, `crim`, `chas`, et `tax`.  Comment évoluent les performances du modèle ? Quelles sont les variables à retenir ?"
   ]
  },
  {
   "cell_type": "code",
   "execution_count": null,
   "metadata": {
    "ExecuteTime": {
     "end_time": "2016-11-19T17:48:45.369582",
     "start_time": "2016-11-19T16:48:45.275Z"
    }
   },
   "outputs": [],
   "source": []
  },
  {
   "cell_type": "code",
   "execution_count": null,
   "metadata": {},
   "outputs": [],
   "source": []
  },
  {
   "cell_type": "markdown",
   "metadata": {},
   "source": [
    "Enfin, on peut aussi considérer l'ensemble des interactions possibles en effectuant un régression avec un terme `(.)**2`. Comment évoluent alors les R2 ? Quelles sont les variables à retenir ?"
   ]
  },
  {
   "cell_type": "code",
   "execution_count": null,
   "metadata": {},
   "outputs": [],
   "source": [
    "pd.options.display.max_rows = 999  # augmente le nombre de lignes affichées\n",
    " "
   ]
  },
  {
   "cell_type": "raw",
   "metadata": {},
   "source": []
  },
  {
   "cell_type": "markdown",
   "metadata": {},
   "source": [
    "## Transformations non-linaires des prédicteurs\n"
   ]
  },
  {
   "cell_type": "markdown",
   "metadata": {},
   "source": [
    "Il est possible d'effectuer n'importe quelle transformation de chacun des prédicteurs. Etant donné un prédicteur $X$, on peut créer un nouveau prédicteur  $X^2$ en utilisant la fonction I(X\\*\\*2). On doit utiliser I() car \\*\\* est là pour les termes d'interaction... Utiliser ceci pour faire une régression de medv sur lstat et lstat**2. Comparer aux résultats sans le terme quadratique. "
   ]
  },
  {
   "cell_type": "code",
   "execution_count": null,
   "metadata": {
    "ExecuteTime": {
     "end_time": "2016-11-19T17:49:38.382304",
     "start_time": "2016-11-19T16:49:38.356Z"
    }
   },
   "outputs": [],
   "source": []
  },
  {
   "cell_type": "code",
   "execution_count": null,
   "metadata": {
    "ExecuteTime": {
     "end_time": "2016-11-19T17:49:52.598196",
     "start_time": "2016-11-19T16:49:52.541Z"
    }
   },
   "outputs": [],
   "source": []
  },
  {
   "cell_type": "markdown",
   "metadata": {},
   "source": [
    "On peut générer les prédicteurs correspondants aux différents termes d'un polynôme via la fonction `poly(x,n)`. Utiliser cette fonction pour effectuer une régression de `medv` vis-à-vis de `lstat` au degré 7, en construisant la formule comme la concaténaion de chaines de caractères. Quels paraissent être les coefficients importants ?"
   ]
  },
  {
   "cell_type": "code",
   "execution_count": null,
   "metadata": {},
   "outputs": [],
   "source": [
    "def poly(x,n):\n",
    "    return '+'.join(['I('+x+'**'+str(k)+')' for k in range(1,n+1)])"
   ]
  },
  {
   "cell_type": "code",
   "execution_count": null,
   "metadata": {
    "ExecuteTime": {
     "end_time": "2016-11-19T17:50:27.155894",
     "start_time": "2016-11-19T16:50:27.118Z"
    }
   },
   "outputs": [],
   "source": []
  },
  {
   "cell_type": "raw",
   "metadata": {},
   "source": []
  },
  {
   "cell_type": "markdown",
   "metadata": {},
   "source": [
    "Pour ajouter à la fois des termes polynomiaux et des termes d'interaction, en R vous pourriez utiliser la fonction polym. Pas d'équivalent simple en python, mais cela ne vous empèchera néanmoins pas de considérer une régression sur l'ensemble des variables, plus les carrés de `lstat` et `crim`, et le terme d'interaction. Quelles sont les variables à retenir ?"
   ]
  },
  {
   "cell_type": "code",
   "execution_count": null,
   "metadata": {},
   "outputs": [],
   "source": []
  }
 ],
 "metadata": {
  "hide_input": false,
  "interactive_sols": {
   "cbx_id": 1
  },
  "kernelspec": {
   "display_name": "Python 3",
   "language": "python",
   "name": "python3"
  },
  "language_info": {
   "codemirror_mode": {
    "name": "ipython",
    "version": 3
   },
   "file_extension": ".py",
   "mimetype": "text/x-python",
   "name": "python",
   "nbconvert_exporter": "python",
   "pygments_lexer": "ipython3",
   "version": "3.5.4rc1"
  },
  "latex_envs": {
   "LaTeX_envs_menu_present": true,
   "autoclose": false,
   "autocomplete": true,
   "bibliofile": "biblio.bib",
   "cite_by": "apalike",
   "current_citInitial": 1,
   "eqLabelWithNumbers": true,
   "eqNumInitial": 0,
   "hotkeys": {
    "equation": "ctrl-e"
   },
   "labels_anchors": false,
   "latex_user_defs": false,
   "report_style_numbering": false,
   "user_envs_cfg": false
  },
  "nbTranslate": {
   "displayLangs": [
    "*"
   ],
   "hotkey": "alt-t",
   "langInMainMenu": true,
   "sourceLang": "en",
   "targetLang": "fr",
   "useGoogleTranslate": true
  },
  "toc": {
   "base_numbering": "1",
   "lock_sidebar": true,
   "nav_menu": {
    "height": "116px",
    "width": "252px"
   },
   "number_sections": true,
   "sideBar": true,
   "skip_h1_title": false,
   "title_cell": "Table of Contents",
   "title_sidebar": "Contents",
   "toc_cell": true,
   "toc_position": {},
   "toc_section_display": "block",
   "toc_window_display": false
  },
  "toc_position": {
   "left": "42.1429px",
   "right": "20px",
   "top": "141px"
  },
  "varInspector": {
   "cols": {
    "lenName": 16,
    "lenType": 16,
    "lenVar": 40
   },
   "kernels_config": {
    "python": {
     "delete_cmd_postfix": "",
     "delete_cmd_prefix": "del ",
     "library": "var_list.py",
     "varRefreshCmd": "print(var_dic_list())"
    },
    "r": {
     "delete_cmd_postfix": ") ",
     "delete_cmd_prefix": "rm(",
     "library": "var_list.r",
     "varRefreshCmd": "cat(var_dic_list()) "
    }
   },
   "types_to_exclude": [
    "module",
    "function",
    "builtin_function_or_method",
    "instance",
    "_Feature"
   ],
   "window_display": false
  }
 },
 "nbformat": 4,
 "nbformat_minor": 1
}
