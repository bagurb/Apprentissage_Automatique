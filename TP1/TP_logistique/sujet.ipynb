{
 "cells": [
  {
   "cell_type": "markdown",
   "metadata": {},
   "source": [
    "# A.2 - Régression logistique\n",
    "\n",
    "Dans le notebook précédent, nous avons étudié la **régression linéaire**: une technique permettant d'ajuster un modèle linéaire à un ensemble de points. Ce modèle repose sur l'hypothèse que la variable dépendante/expliquée (la quantitè que nous cherchons à predir par notre modéle) prend des valeurs **quantitatives**. Lorsque cette hypothèse n'est plus valable, ce qui est généralement le cas pour les valeurs **qualitatives**, la régression linéaire donne des résultats plutôt médiocres. Il en découle naturellement la nécessité d'utiliser la **régression non linéaire** (ajuster une fonction non linéaire aux données).\n",
    "\n",
    "Dans ce notebook, nous présenterons la forme la plus simple de prédiction **qualitative**, à savoir la **classification binaire**. La principale différence par rapport à la régression linéaire réside dans les données elles-mêmes, et plus particulièrement dans les variables à predir, qui ne peuvent prendre que deux valeurs. Cette différence subtile est si importante qu'elle justifie le développement de nouvelles fonctions de coût mieux adaptées pour traiter de telles données. De plus, il existe un large éventail de fonctions de coût conçues pour la classification binaire, conduisant chacune à un modèle différent, comme la **régression logistique** (le sujet traité dans la suite), les machines à vecteurs de support, les réseaux de neurones, etc.\n",
    "\n",
    "<!--\n",
    "In the previous notebook, we discussed the fitting of a linear model to a set of input/output points, otherwise known as linear regression. This model relies on the assumption that the ouputs are **quantitative** values. When this assumption does not hold, which is typically the case for **qualitative** output values, linear regression performs rather poorly. This naturally leads to the exploration of fitting a nonlinear function to data, referred to in general as nonlinear regression.\n",
    "\n",
    "In this notebook, we will introduce the simplest form of **qualitative** prediction, which is **binary classification**. The main difference with respect to linear regression lies in the data itself, and more particularly in its outputs, which can take on only one of two values. This subtle difference is important, and spurs the development of new cost functions that are better-suited to deal with such data. Moreover, these new cost functions are formulated based on a wide array of motivating perspectives, each leading to a different model, such as **logistic regression**, support vector machines, or neural networks.\n",
    "-->\n",
    "\n",
    "\n",
    "### Table des matières\n",
    "\n",
    "- [1. Etude d'un problème de classification binaire](#1.-Etude-d'un-problème-de-classification-binaire)\n",
    "    - [1.1 Récupération de la base de données](#1.1-Récupération-de-la-base-de-données)\n",
    "    - [1.2 Apprentissage du modèle logistique](#1.2-Apprentissage-du-modèle-logistique)\n",
    "    - [1.3 Validation du modèle](#1.3-Validation-du-modèle)\n",
    "    \n",
    "\n",
    "- [2. Exercices corrigés](#2.-Exercices-corrigés)\n",
    "    - [2.1 Modèle logistique](#2.1-Modèle-logistique)\n",
    "    - [2.2 Cotes (odds)](#2.2-Cotes-(odds))\n",
    "    \n",
    "\n",
    "- [3. The math behind logistic regression](#3.-The-math-behind-logistic-regression)\n",
    "    - [3.1 Sigmoid Function](#3.1-Sigmoid-function)\n",
    "    - [3.2 Logistic regression](#3.2-Logistic-regression)\n",
    "    - [3.3 Logarithmic error](#3.3-Logarithmic-error)\n",
    "    - [3.4 Logistic cost function](#3.4-Logistic-cost-function)\n",
    "    - [3.5 Gradient descent](#3.5-Gradient-descent)"
   ]
  },
  {
   "cell_type": "markdown",
   "metadata": {},
   "source": [
    "### Prérequis\n",
    "\n",
    "Commençons par importer toutes les bibliotheques dont nous avons besoin dans le notebook.\n",
    "\n",
    "- [Numpy](www.numpy.org) - Le paquet fondamental pour le calcul scientifique avec Python.\n",
    "- [StatsModels](http://www.statsmodels.org/stable/index.html) - Récolte de nombreux modèles statistiques.\n",
    "- [Pandas](https://pandas.pydata.org) - Tableaux numériques permettant de manipuler facilement les données.\n",
    "- [Matplotlib](http://matplotlib.org) - Outils pour le traçage en 2D/3D et pour la réalisation d'animations.\n",
    "- [Seaborn](https://seaborn.pydata.org/index.html) - Interface de haut niveau pour l'affichage de statistiques."
   ]
  },
  {
   "cell_type": "code",
   "execution_count": 1,
   "metadata": {},
   "outputs": [],
   "source": [
    "import pandas as pd\n",
    "import numpy as np\n",
    "import seaborn as sns\n",
    "import statsmodels.api as sm\n",
    "\n",
    "import matplotlib.pyplot as plt\n",
    "from mpl_toolkits import mplot3d\n",
    "from matplotlib.colors import LogNorm\n",
    "\n",
    "import ipywidgets as widgets\n",
    "from IPython.display import display\n",
    "%matplotlib inline"
   ]
  },
  {
   "cell_type": "markdown",
   "metadata": {},
   "source": [
    "\n",
    "## 1. Etude d'un problème de classification binaire\n",
    "\n",
    "Dans de nombreux systèmes de justice pénale à travers le monde, les détenus qui ne sont pas considérés comme une menace pour la société sont libérés sous le régime de la libération conditionnelle avant d'avoir purgé leur peine. Cependant, ces individus demeurent tout de même sous la responsabilité du gouvernement jusqu'à l'expiration de leur sentence, et ils peuvent être renvoyés en prison s'ils enfreignent les conditions de leur libération conditionnelle. \n",
    "\n",
    "#### Objectif - Prédire la récidive des libérés conditionnels\n",
    "\n",
    "Les commissions des libérations conditionnelles sont chargées de déterminer quels détenus sont de bons candidats à la libération conditionnelle. Ils cherchent à libérer les détenus qui ne commettront pas d'autres crimes après leur libération. Dans ce problème, notre but est de construire et valider un modèle qui prédit si un détenu violera les conditions de sa libération conditionnelle. Un tel modèle pourrait être utile à la commission des libérations conditionnelles lorsqu'elle décide d'approuver ou de rejeter une demande de libération conditionnelle.\n",
    "\n",
    "#### Base de données\n",
    "\n",
    "Pour cette tâche, nous utiliserons les données issues d'un recensement des libérations conditionnelles qui ont eu lieu aux États-Unis en 2004 . Nous nous limitons aux libérés conditionnels qui n'ont pas purgé plus de six mois en prison et dont la peine maximale pour toutes les accusations n'a pas dépassé 18 mois. L'ensemble de données comprend tous les détenus qui ont terminé avec succès leur période de libération conditionnelle en 2004, et ceux qui ont enfreint les conditions de leur libération conditionnelle en 2004.\n",
    "\n",
    "La base de données contient les variables suivantes.\n",
    "\n",
    "- **male**: 1 si le libéré conditionnel est un homme, 0 sinon.\n",
    "- **race**: 1 si le libéré conditionnel est un blanc, 2 sinon.\n",
    "- **age**: l'âge du libéré conditionnel (en années) à sa sortie de prison.\n",
    "- **state**: un code pour le domicile du libéré conditionnel, où 2 est le Kentucky, 3 la Louisiane, 4 la Virginie et 1 tout autre état. Les trois états ont été choisis en raison de leur forte représentation dans l'ensemble de données.\n",
    "\n",
    "- **time.served**: le nombre de mois que le libéré conditionnel a purgé en prison (limité par les critères d'inclusion à six mois au maximum).\n",
    "\n",
    "- **max.sentence**: la durée maximale de la peine pour toutes les accusations, en mois (limitée par les critères d'inclusion à un maximum de 18 mois).\n",
    "\n",
    "- **multiple.offenses**: 1 si le libéré conditionnel a été incarcéré pour plusieurs infractions, 0 sinon.\n",
    "\n",
    "- **crime**: un code pour le crime principal du libéré conditionnel menant à l'incarcération, où 2 est le vol, 3 un crime lié à la drogue, 4 un crime lié à la conduite de voiture, et 1 tout autre crime.\n",
    "\n",
    "- **violator**: 1 si le libéré conditionnel a enfreint les conditions de sa libération conditionnelle, et 0 si le libéré conditionnel a terminé sa libération sans enfreindre les conditions.\n",
    "\n",
    "Le but est de prédire si le détenu est susceptible ou non de manquer de parole, c’est-à-dire de récidiver alors qu’il est en liberté conditionnelle sur parole.\n",
    "\n",
    "<!--\n",
    "In many criminal justice systems around the world, inmates deemed not to be a threat to society are released from prison under the parole system prior to completing their sentence. They are still considered to be serving their sentence while on parole, and they can be returned to prison if they violate the terms of their parole.\n",
    "Parole boards are charged with identifying which inmates are good candidates for release on parole. They seek to release inmates who will not commit additional crimes after release. In this problem, we will build and validate a model that predicts if an inmate will violate the terms of his or her parole. Such a model could be useful to a parole board when deciding to approve or deny an application for parole.\n",
    "\n",
    "For this prediction task, we will use data from the United States 2004 National Corrections Reporting Program, a nationwide census of parole releases that occurred during 2004. We limited our focus to parolees who served no more than 6 months in prison and whose maximum sentence for all charges did not exceed 18 months. The dataset contains all such parolees who either successfully completed their term of parole during 2004 or those who violated the terms of\n",
    "their parole during that year. \n",
    "\n",
    "The dataset contains the following variables.\n",
    "\n",
    "- **male**: 1 if the parolee is male, 0 if female\n",
    "- **race**: 1 if the parolee is white, 2 otherwise\n",
    "- **age**: the parolee's age (in years) when he or she was released from prison\n",
    "- **state**: a code for the parolee's state. 2 is Kentucky, 3 is Louisiana, 4 is Virginia, and 1 is any other state. The three states were selected due to having a high representation in the dataset.\n",
    "- **time.served**: the number of months the parolee served in prison (limited by the inclusion criteria to not exceed 6 months).\n",
    "- **max.sentence**: the maximum sentence length for all charges, in months (limited by the inclusion criteria to not exceed 18 months).\n",
    "- **multiple.offenses**: 1 if the parolee was incarcerated for multiple offenses, 0 otherwise.\n",
    "- **crime**: a code for the parolee's main crime leading to incarceration. 2 is larceny, 3 is drug-related crime, 4 is driving related crime, and 1 is any other crime.\n",
    "- **violator**: 1 if the parolee violated the parole, and 0 if the parolee completed the parole without violation.\n",
    "-->"
   ]
  },
  {
   "cell_type": "markdown",
   "metadata": {},
   "source": [
    "### 1.1 Récupération de la base de données \n",
    "\n",
    "Tout d'abord, nous chargeons les données du fichier `parole.csv` dans une **data frame** par la méthode `read_csv()`."
   ]
  },
  {
   "cell_type": "code",
   "execution_count": 2,
   "metadata": {},
   "outputs": [
    {
     "data": {
      "text/html": [
       "<div>\n",
       "<style scoped>\n",
       "    .dataframe tbody tr th:only-of-type {\n",
       "        vertical-align: middle;\n",
       "    }\n",
       "\n",
       "    .dataframe tbody tr th {\n",
       "        vertical-align: top;\n",
       "    }\n",
       "\n",
       "    .dataframe thead th {\n",
       "        text-align: right;\n",
       "    }\n",
       "</style>\n",
       "<table border=\"1\" class=\"dataframe\">\n",
       "  <thead>\n",
       "    <tr style=\"text-align: right;\">\n",
       "      <th></th>\n",
       "      <th>male</th>\n",
       "      <th>race</th>\n",
       "      <th>age</th>\n",
       "      <th>state</th>\n",
       "      <th>time.served</th>\n",
       "      <th>max.sentence</th>\n",
       "      <th>multiple.offenses</th>\n",
       "      <th>crime</th>\n",
       "      <th>violator</th>\n",
       "    </tr>\n",
       "  </thead>\n",
       "  <tbody>\n",
       "    <tr>\n",
       "      <th>0</th>\n",
       "      <td>1</td>\n",
       "      <td>1</td>\n",
       "      <td>33.2</td>\n",
       "      <td>1</td>\n",
       "      <td>5.5</td>\n",
       "      <td>18</td>\n",
       "      <td>0</td>\n",
       "      <td>4</td>\n",
       "      <td>0</td>\n",
       "    </tr>\n",
       "    <tr>\n",
       "      <th>1</th>\n",
       "      <td>0</td>\n",
       "      <td>1</td>\n",
       "      <td>39.7</td>\n",
       "      <td>1</td>\n",
       "      <td>5.4</td>\n",
       "      <td>12</td>\n",
       "      <td>0</td>\n",
       "      <td>3</td>\n",
       "      <td>0</td>\n",
       "    </tr>\n",
       "    <tr>\n",
       "      <th>2</th>\n",
       "      <td>1</td>\n",
       "      <td>2</td>\n",
       "      <td>29.5</td>\n",
       "      <td>1</td>\n",
       "      <td>5.6</td>\n",
       "      <td>12</td>\n",
       "      <td>0</td>\n",
       "      <td>3</td>\n",
       "      <td>0</td>\n",
       "    </tr>\n",
       "    <tr>\n",
       "      <th>3</th>\n",
       "      <td>1</td>\n",
       "      <td>1</td>\n",
       "      <td>22.4</td>\n",
       "      <td>1</td>\n",
       "      <td>5.7</td>\n",
       "      <td>18</td>\n",
       "      <td>0</td>\n",
       "      <td>1</td>\n",
       "      <td>0</td>\n",
       "    </tr>\n",
       "    <tr>\n",
       "      <th>4</th>\n",
       "      <td>1</td>\n",
       "      <td>2</td>\n",
       "      <td>21.6</td>\n",
       "      <td>1</td>\n",
       "      <td>5.4</td>\n",
       "      <td>12</td>\n",
       "      <td>0</td>\n",
       "      <td>1</td>\n",
       "      <td>0</td>\n",
       "    </tr>\n",
       "  </tbody>\n",
       "</table>\n",
       "</div>"
      ],
      "text/plain": [
       "   male  race   age  state  time.served  max.sentence  multiple.offenses  \\\n",
       "0     1     1  33.2      1          5.5            18                  0   \n",
       "1     0     1  39.7      1          5.4            12                  0   \n",
       "2     1     2  29.5      1          5.6            12                  0   \n",
       "3     1     1  22.4      1          5.7            18                  0   \n",
       "4     1     2  21.6      1          5.4            12                  0   \n",
       "\n",
       "   crime  violator  \n",
       "0      4         0  \n",
       "1      3         0  \n",
       "2      3         0  \n",
       "3      1         0  \n",
       "4      1         0  "
      ]
     },
     "execution_count": 2,
     "metadata": {},
     "output_type": "execute_result"
    }
   ],
   "source": [
    "parole = pd.read_csv(\"parole.csv\")\n",
    "parole.head()"
   ]
  },
  {
   "cell_type": "markdown",
   "metadata": {},
   "source": [
    "### 1.1.1 Premières observations\n",
    "\n",
    "Obtenir des informations générales sur la base de données en utilisant les fonctions appropriés du module `pandas`."
   ]
  },
  {
   "cell_type": "markdown",
   "metadata": {},
   "source": [
    "<div class=\"alert alert-info\">\n",
    "\n",
    "**Question 1** \n",
    "\n",
    "> Combien y a-t-il d’individus qui ont donné leur parole ?\n",
    "\n",
    "</div>\n",
    "\n",
    "*Resultat attendu:* 675"
   ]
  },
  {
   "cell_type": "code",
   "execution_count": null,
   "metadata": {
    "deletable": false,
    "nbgrader": {
     "checksum": "45768cbeb4d7097ddd46c1721f47101e",
     "grade": false,
     "grade_id": "cell-063071e7a23c8cdb",
     "locked": false,
     "schema_version": 1,
     "solution": true
    }
   },
   "outputs": [],
   "source": [
    "individus = None\n",
    "\n",
    "print('Nombre d\\'individus dans la base:', individus)"
   ]
  },
  {
   "cell_type": "markdown",
   "metadata": {},
   "source": [
    "<div class=\"alert alert-info\">\n",
    "\n",
    "**Question 2** \n",
    "\n",
    "> Quel est leur age moyen ?\n",
    "\n",
    "</div>\n",
    "\n",
    "*Resultat attendu:* 34.5"
   ]
  },
  {
   "cell_type": "code",
   "execution_count": null,
   "metadata": {
    "deletable": false,
    "nbgrader": {
     "checksum": "552cbca50d73cc480210dd80d75500b0",
     "grade": false,
     "grade_id": "cell-d324840c5b802c00",
     "locked": false,
     "schema_version": 1,
     "solution": true
    }
   },
   "outputs": [],
   "source": [
    "age_moyen = None\n",
    "\n",
    "print('Age moyen:', age_moyen)"
   ]
  },
  {
   "cell_type": "markdown",
   "metadata": {},
   "source": [
    "<div class=\"alert alert-info\">\n",
    "\n",
    "**Question 3** \n",
    "\n",
    "> Quel est le pourcentage d’hommes ?\n",
    "\n",
    "</div>\n",
    "\n",
    "*Resultat attendu:* 80.74%"
   ]
  },
  {
   "cell_type": "code",
   "execution_count": null,
   "metadata": {
    "deletable": false,
    "nbgrader": {
     "checksum": "0d11fd368b073f0a46cf48a5fc32c5c8",
     "grade": false,
     "grade_id": "cell-98eb2c44017e4177",
     "locked": false,
     "schema_version": 1,
     "solution": true
    }
   },
   "outputs": [],
   "source": [
    "hommes = None\n",
    "\n",
    "print('Proportion d\\'hommes: {:2.2f} %'.format(hommes*100))"
   ]
  },
  {
   "cell_type": "markdown",
   "metadata": {},
   "source": [
    "<div class=\"alert alert-info\">\n",
    "\n",
    "**Question 4** \n",
    "\n",
    "> Combien de détenus ont récidivé (manqué à leur parole) ?\n",
    "\n",
    "</div>\n",
    "\n",
    "*Resultat attendu:* 11.56%"
   ]
  },
  {
   "cell_type": "code",
   "execution_count": null,
   "metadata": {
    "deletable": false,
    "nbgrader": {
     "checksum": "81e4354b82639c0ed52a166e2d1fb841",
     "grade": false,
     "grade_id": "cell-878b8bb2f364a69a",
     "locked": false,
     "schema_version": 1,
     "solution": true
    }
   },
   "outputs": [],
   "source": [
    "recidive = None\n",
    "\n",
    "print('Proportion de recidive: {:2.2f} %'.format(recidive*100))"
   ]
  },
  {
   "cell_type": "markdown",
   "metadata": {},
   "source": [
    "La figure suivante montre le distribution des détenus par rapport à la variable `violator`."
   ]
  },
  {
   "cell_type": "code",
   "execution_count": null,
   "metadata": {},
   "outputs": [],
   "source": [
    "sns.countplot('violator', data=parole)\n",
    "plt.show()"
   ]
  },
  {
   "cell_type": "markdown",
   "metadata": {},
   "source": [
    "<div class=\"alert alert-info\">\n",
    "\n",
    "**Question 5** \n",
    "\n",
    "> Quelles sont les moyennes des durées de peines (variable `max.sentence`) pour ceux qui ont récidivé et pour les autres?\n",
    "\n",
    "</div>\n",
    "\n",
    "*Tuyau:* Utilisez la fonction `groupby()` pour grouper les observations par les valeurs d'une colonne, et puis manipuler chaque groupe de maniere appropriée. Voir ce [tutoriel](http://pbpython.com/pandas_transform.html) pour plus d'informations sur les groupes de pandas.\n",
    "\n",
    "*Resultat attendu:* 11.6 mois pour ceux qui ont récidivé - 13.24 mois pour les autres."
   ]
  },
  {
   "cell_type": "code",
   "execution_count": null,
   "metadata": {
    "deletable": false,
    "nbgrader": {
     "checksum": "5e71128aed2d50f9da2c601ad7f2daa3",
     "grade": false,
     "grade_id": "cell-f289dbbffcb15980",
     "locked": false,
     "schema_version": 1,
     "solution": true
    }
   },
   "outputs": [],
   "source": [
    "durees_moyens = None\n",
    "\n",
    "print('Durée moyenne des peines: {:2.2f} (recidives) et {:2.2f} (autres)'.format(durees_moyens[1],durees_moyens[0]))"
   ]
  },
  {
   "cell_type": "markdown",
   "metadata": {},
   "source": [
    "### 1.1.2 Traitement des variables catégorielles"
   ]
  },
  {
   "cell_type": "markdown",
   "metadata": {},
   "source": [
    "<div class=\"alert alert-info\">\n",
    "\n",
    "**Question 1** \n",
    "\n",
    "> Quelles sont, d’après la présentation ci-dessus, les variables catégorielles avec au moins trois catégories ?\n",
    "\n",
    "</div>\n",
    "\n",
    "*Remarque:* Il n'existe pas une procedure automatique pour detecter les variables categorielles dans une base de données. La raison est que les types de données sont orthogonaux aux variables catégorielles (discretes/ordinales/nominales). Par consequent, vous ne pourrez pas trouver la réponse à cette question par l'implementation d'un morceau de code python, mais plutot par l'inspection visuelle de la base de données."
   ]
  },
  {
   "cell_type": "code",
   "execution_count": null,
   "metadata": {
    "deletable": false,
    "nbgrader": {
     "checksum": "918b3a815daf87e5972711e7722c6b85",
     "grade": false,
     "grade_id": "cell-90f308eae0155f8d",
     "locked": false,
     "schema_version": 1,
     "solution": true
    }
   },
   "outputs": [],
   "source": [
    "variables_categorielle = None\n",
    "\n",
    "print('Variables categorielles:', variables_categorielle)"
   ]
  },
  {
   "cell_type": "markdown",
   "metadata": {},
   "source": [
    "<div class=\"alert alert-info\">\n",
    "\n",
    "**Question 2** \n",
    "\n",
    "> Quel est l’état le plus représenté ?\n",
    "\n",
    "</div>\n",
    "\n",
    "*Tuyau:* Uliliser les méthodes `value_counts()` et `idxmax()`.\n",
    "\n",
    "*Resultat attendu:* Virginie"
   ]
  },
  {
   "cell_type": "code",
   "execution_count": null,
   "metadata": {
    "deletable": false,
    "nbgrader": {
     "checksum": "ed9f2804f140edf9db1efe178e569752",
     "grade": false,
     "grade_id": "cell-64906d6ee766bde6",
     "locked": false,
     "schema_version": 1,
     "solution": true
    }
   },
   "outputs": [],
   "source": [
    "noms = {1: \"Autre\", 2: \"Kentucky\", 3: \"Louisiane\", 4: \"Virginie\"}\n",
    "\n",
    "etat_max = None\n",
    "\n",
    "print('Etat le plus représenté:', noms[etat_max])"
   ]
  },
  {
   "cell_type": "markdown",
   "metadata": {},
   "source": [
    "<div class=\"alert alert-info\">\n",
    "\n",
    "**Question 3** \n",
    "\n",
    "> Quel est l’état le plus représenté pour ceux qui ont récidivé?\n",
    "\n",
    "</div>\n",
    "\n",
    "*Resultat attendu:* Louisiane"
   ]
  },
  {
   "cell_type": "code",
   "execution_count": null,
   "metadata": {
    "deletable": false,
    "nbgrader": {
     "checksum": "5755b794cad52bd5c0701149101bd737",
     "grade": false,
     "grade_id": "cell-d0e798c336391705",
     "locked": false,
     "schema_version": 1,
     "solution": true
    }
   },
   "outputs": [],
   "source": [
    "etat_max_recivide = None\n",
    "\n",
    "print('Etat le plus représenté pour les recidives:', noms[etat_max_recivide])"
   ]
  },
  {
   "cell_type": "markdown",
   "metadata": {},
   "source": [
    "<div class=\"alert alert-info\">\n",
    "\n",
    "**Question 4** \n",
    "\n",
    "> Modifier les colonnes `state` et `crime` pour qu’elles apparaissent comme variables catégorielles.\n",
    "\n",
    "</div>\n",
    "\n",
    "*Tuyau:* Utilisez la fonction `pd.get_dummies()`.\n",
    "\n",
    "*Resultat attendu:* Les colonnes du nouveau data-frame sont\n",
    " - male, race, age, time.served, max.sentence, multiple.offenses;\n",
    " - violator;\n",
    " - state_1, state_2, state_3, state_4;\n",
    " - crime_1, crime_2, crime_3, crime_4."
   ]
  },
  {
   "cell_type": "code",
   "execution_count": null,
   "metadata": {
    "deletable": false,
    "nbgrader": {
     "checksum": "399ed072397cef7db5dd9f78d3c20b4e",
     "grade": false,
     "grade_id": "cell-4e69f1da67d5edc3",
     "locked": false,
     "schema_version": 1,
     "solution": true
    }
   },
   "outputs": [],
   "source": [
    "parole_dummies = None\n",
    "\n",
    "parole_dummies.head()"
   ]
  },
  {
   "cell_type": "markdown",
   "metadata": {},
   "source": [
    "<div class=\"alert alert-info\">\n",
    "\n",
    "**Question 5**\n",
    "\n",
    "> Eliminer les colonnes `state_1` et `crime_1` du data-frame.\n",
    "\n",
    "</div>\n",
    "\n",
    "*Tuyau:* Utilisez la fonction `pd.drop()`.\n",
    "\n",
    "*Resultat attendu:* Les colonnes du nouveau data-frame sont\n",
    " - male, race, age, time.served, max.sentence, multiple.offenses;\n",
    " - violator;\n",
    " - state_2, state_3, state_4;\n",
    " - crime_2, crime_3, crime_4."
   ]
  },
  {
   "cell_type": "code",
   "execution_count": null,
   "metadata": {
    "deletable": false,
    "nbgrader": {
     "checksum": "9b74c0f07b8715a67604db86f7abe0d0",
     "grade": false,
     "grade_id": "cell-9f3e59c443d5e58d",
     "locked": false,
     "schema_version": 1,
     "solution": true
    }
   },
   "outputs": [],
   "source": [
    "parole_dummies\n",
    "\n",
    "parole_dummies.head()"
   ]
  },
  {
   "cell_type": "markdown",
   "metadata": {},
   "source": [
    "<div class=\"alert alert-info\">\n",
    "\n",
    "**Question 6** \n",
    "\n",
    "> Remplacer la valuer `2` par la valuer `0` dans la colonne `race`.\n",
    "\n",
    "</div>\n",
    "\n",
    "*Tuyau:* Utilisez la fonction `pd.replace()`."
   ]
  },
  {
   "cell_type": "code",
   "execution_count": null,
   "metadata": {
    "deletable": false,
    "nbgrader": {
     "checksum": "c268ead1e80429566c6c797458b64665",
     "grade": false,
     "grade_id": "cell-faac3c70d7f01b5c",
     "locked": false,
     "schema_version": 1,
     "solution": true
    }
   },
   "outputs": [],
   "source": [
    "parole_dummies\n",
    "\n",
    "parole_dummies.head()"
   ]
  },
  {
   "cell_type": "markdown",
   "metadata": {},
   "source": [
    "### 1.1.3 Séparation des données\n",
    "\n",
    "Avant d'effectuer tout prediction, il est imperatif que les données soient separées en deux sous ensembles:\n",
    "\n",
    "- **Base d'apprentissage:** Elle contient les données pour construire le modèle de regression logistique.\n",
    "\n",
    "\n",
    "- **Base de test:** Elle contient les données pour valider le modèle de regression logistique."
   ]
  },
  {
   "cell_type": "markdown",
   "metadata": {},
   "source": [
    "<div class=\"alert alert-info\">\n",
    "\n",
    "**Question 1** \n",
    "\n",
    "> A partir du data-frame `parole_dummies`, construir une base d'apprentissage avec le 70% des données, ainsi qu'une base de test avec le 30% restant. La proportion d'individus ayant récidivé doit etre respectée dans les deux bases.\n",
    "\n",
    "</div>\n",
    "\n",
    "*Tuyau:* Utiliser les méthodes `.sample(frac=..., random_state=10)` et `.drop(...)` de pandas."
   ]
  },
  {
   "cell_type": "code",
   "execution_count": null,
   "metadata": {
    "deletable": false,
    "nbgrader": {
     "checksum": "51a9c2a999eeb51bb1e9703325388968",
     "grade": false,
     "grade_id": "cell-db5bac3e05cf795b",
     "locked": false,
     "schema_version": 1,
     "solution": true
    }
   },
   "outputs": [],
   "source": [
    "train = None\n",
    "test  = None\n",
    "\n",
    "train.head()"
   ]
  },
  {
   "cell_type": "markdown",
   "metadata": {},
   "source": [
    "<div class=\"alert alert-info\">\n",
    "\n",
    "**Question 2** \n",
    "\n",
    "> Quelle est le nombre d'individus dans la base de test ?\n",
    "\n",
    "</div>\n",
    "\n",
    "*Resultat attendu:* 203"
   ]
  },
  {
   "cell_type": "code",
   "execution_count": null,
   "metadata": {
    "deletable": false,
    "nbgrader": {
     "checksum": "762f37b365a03edf31c3eab7f3bf09a7",
     "grade": false,
     "grade_id": "cell-05283afcada31a26",
     "locked": false,
     "schema_version": 1,
     "solution": true
    }
   },
   "outputs": [],
   "source": [
    "individus_test = None\n",
    "\n",
    "print('Individus dans la base de test:', individus_test)"
   ]
  },
  {
   "cell_type": "markdown",
   "metadata": {},
   "source": [
    "<div class=\"alert alert-info\">\n",
    "\n",
    "**Question 3** \n",
    "\n",
    "> La proportion d’individus ayant récidivé est-elle respectée dans les différentes bases ?\n",
    "\n",
    "</div>\n",
    "\n",
    "*Resultat attendu:* 11.23% dans la base d'apprentissage et 12.32% dans la base de test. "
   ]
  },
  {
   "cell_type": "markdown",
   "metadata": {},
   "source": [
    "*Remarques:* \n",
    " - Les proportions peuvent varier legerement en fonction du paramètre `random_state` specifié dans la fonction `.sample()`. \n",
    " - Dans notre corrigé, nous avons utilisé `random_state=10`. "
   ]
  },
  {
   "cell_type": "code",
   "execution_count": null,
   "metadata": {
    "deletable": false,
    "nbgrader": {
     "checksum": "186c5a9e806ca67853b404daac214219",
     "grade": false,
     "grade_id": "cell-8658224183399c9c",
     "locked": false,
     "schema_version": 1,
     "solution": true
    }
   },
   "outputs": [],
   "source": [
    "recidive_train = None\n",
    "recidive_test  = None\n",
    "\n",
    "print('Proportion de recidive (base d\\'appr.): {:2.2f} %'.format(recidive_train*100))\n",
    "print('Proportion de recidive (base de test): {:2.2f} %'.format(recidive_test*100))"
   ]
  },
  {
   "cell_type": "markdown",
   "metadata": {},
   "source": [
    "### 1.2 Apprentissage du modèle logistique\n",
    "\n",
    "Maintenant, nous allons construire un modèle de classification binaire à partir de la bases d'apprentissage."
   ]
  },
  {
   "cell_type": "markdown",
   "metadata": {},
   "source": [
    "<div class=\"alert alert-info\">\n",
    "\n",
    "**Question 1** \n",
    "\n",
    "> Construire le modèle logistique à partir de toutes les variables dans la base d'apprentissage.\n",
    "\n",
    "</div>\n",
    "\n",
    "*Tuyau:* Utiliser la fonction `sm.GLM(y, X, family=sm.families.Binomial()).fit()` du package `statsmodels`. \n",
    " - Le paramètre `y` est une data-frame avec la seule colonne `violator`.\n",
    " - Le paramètre `X` est une data-frame avec une colonne pour chaque autre variable à inclure dans le modèle."
   ]
  },
  {
   "cell_type": "code",
   "execution_count": null,
   "metadata": {
    "deletable": false,
    "nbgrader": {
     "checksum": "8324aa2cd756b9c309a51b53d46462a9",
     "grade": false,
     "grade_id": "cell-e8e854032b0f6947",
     "locked": false,
     "schema_version": 1,
     "solution": true
    }
   },
   "outputs": [],
   "source": [
    "X_train = train.drop('violator', axis=1)\n",
    "X_train = sm.add_constant(X_train)\n",
    "y_train = train['violator']\n",
    "\n",
    "modele = None\n",
    "\n",
    "modele.summary()"
   ]
  },
  {
   "cell_type": "markdown",
   "metadata": {},
   "source": [
    "<div class=\"alert alert-info\">\n",
    "\n",
    "**Question 2** \n",
    "\n",
    "> Quelles sont les variables les plus significatives ? \n",
    "\n",
    "</div>\n",
    "\n",
    "*Tuyau:* Regarder les codes affichés par la fonction `important_variables()` (*** = variable significative).\n",
    "\n",
    "*Reponse attendue:* multiple.offenses, state_4"
   ]
  },
  {
   "cell_type": "code",
   "execution_count": null,
   "metadata": {},
   "outputs": [],
   "source": [
    "def significant_variables(model):\n",
    "    code = lambda x: '***' if x < 0.001 else '**' if x < 0.01 else '*' if x < 0.05 else '.' if x < 0.1 else ''\n",
    "    df = pd.DataFrame(model.pvalues.transform(code), columns=[''])\n",
    "    print(df)"
   ]
  },
  {
   "cell_type": "code",
   "execution_count": null,
   "metadata": {},
   "outputs": [],
   "source": [
    "significant_variables(modele)"
   ]
  },
  {
   "cell_type": "markdown",
   "metadata": {},
   "source": [
    "### 1.2.1 Interpretation du modèle logistique\n",
    "\n",
    "Rappellons que \n",
    "\n",
    "- les **chances (odds)** d'un détenu $x$ sont egales à\n",
    "\n",
    "$$\\mathsf{odds}(x) = \\frac{{\\sf P}({\\rm violator}=1 \\,|\\, x)}{{\\sf P}({\\rm violator}=0 \\,|\\, x)} = \\exp\\big(w_0 + w_1 x_1 + \\dots + w_Q x_Q\\big)\n",
    "$$\n",
    "\n",
    "- le **logarithme des chances (logit)** d'un détenu $x$ est egal à\n",
    "\n",
    "$$\\mathsf{logit}(x) = \\log\\big(\\mathsf{odds}(x)\\big) = w_0 + w_1 x_1 + \\dots + w_Q x_Q\n",
    "$$\n",
    "\n",
    "- la **probabilité de recidive** pour un détenu $x$ est egale à\n",
    "\n",
    "$$\n",
    "{\\sf P}({\\rm violator}=1 \\,|\\, x) = \\textsf{sigmoid}\\big(\\mathsf{logit}(x)\\big) = \\frac{1}{1+e^{-\\left(w_0 + w_1 x_1 + \\dots + w_Q x_Q\\right)}}\n",
    "$$"
   ]
  },
  {
   "cell_type": "markdown",
   "metadata": {},
   "source": [
    "Examinons le cas de la variable `multiple.offenses`."
   ]
  },
  {
   "cell_type": "markdown",
   "metadata": {},
   "source": [
    "<div class=\"alert alert-info\">\n",
    "\n",
    "**Question 1** \n",
    "\n",
    "> Quelle est la valeur de \n",
    "$$\\mathsf{logit}(x_A) - \\mathsf{logit}(x_B)$$\n",
    "où \n",
    "- $x_A$ = détenu qui a commis de multiples crimes\n",
    "- $x_B$ = détenu n'ayant commis qu'un crime, mais dont les autres variables sont identiques à $x_A$.\n",
    "\n",
    "</div>\n",
    "\n",
    "*Tuyau:* Les coefficients $w=(w_0,w_1,\\dots,w_Q)$ du modèle sont stockés dans l'attribut `modele.params`\n",
    "\n",
    "*Resultat attendu:* 1.32918..."
   ]
  },
  {
   "cell_type": "code",
   "execution_count": null,
   "metadata": {
    "deletable": false,
    "nbgrader": {
     "checksum": "cda4d0eb4278e2fc61e5122328d379a1",
     "grade": false,
     "grade_id": "cell-02c2a11af6f54d56",
     "locked": false,
     "schema_version": 1,
     "solution": true
    }
   },
   "outputs": [],
   "source": [
    "logitA_moins_logitB = None\n",
    "\n",
    "print('logit(A) - logit(B):', logitA_moins_logitB)"
   ]
  },
  {
   "cell_type": "markdown",
   "metadata": {},
   "source": [
    "<div class=\"alert alert-info\">\n",
    "\n",
    "**Question 2** \n",
    "\n",
    "> En déduire le rapport entre les chances de $x_A$ et $x_B$, notamment\n",
    "$$\\frac{\\mathsf{odds}(x_A)}{\\mathsf{odds}(x_B)}.$$\n",
    "\n",
    "</div>\n",
    "\n",
    "*Tuyau:* Utiliser la fonction `np.exp()`\n",
    "\n",
    "*Resultat attendu:* 3.77797..."
   ]
  },
  {
   "cell_type": "code",
   "execution_count": null,
   "metadata": {
    "deletable": false,
    "nbgrader": {
     "checksum": "2a06866a9354d1665db788fcf191f3de",
     "grade": false,
     "grade_id": "cell-b430fbfaeb3ed252",
     "locked": false,
     "schema_version": 1,
     "solution": true
    }
   },
   "outputs": [],
   "source": [
    "pA_over_pB = None\n",
    "\n",
    "print('P(A) / P(B):', pA_over_pB)"
   ]
  },
  {
   "cell_type": "markdown",
   "metadata": {},
   "source": [
    "Considérons à présent le cas d’un détenu blanc, de sexe masculin, âgé de 50 ans, originaire de l’état de Maryland, ayant déjà accompli 3 mois de détention, qui n’a commis qu’un vol et a une peine maximale de 12 mois."
   ]
  },
  {
   "cell_type": "markdown",
   "metadata": {},
   "source": [
    "<div class=\"alert alert-info\">\n",
    "\n",
    "**Question 3** \n",
    "\n",
    "> Créer le vecteur $x=(x_0, x_1, x_2, \\dots, x_{12})$ qui represente cet individu, en rajoutant $x_0=1$ au début pour l'intercept. \n",
    "\n",
    "</div>\n",
    "\n",
    "*Tuyau:* Les variables du vecteur $x$ correspondent aux colonnes du data-frame `parole_dummies`:\n",
    "\n",
    "- $x_0$ - **const** (toujours egale à 1)\n",
    "- $x_1$ - **male** (1=homme, 0=femme)\n",
    "- $x_2$ - **race** (1=blanc, 0=autre)\n",
    "- $x_3$ - **age**\n",
    "- $x_4$ - **time.served**\n",
    "- $x_5$ - **max.sentence**\n",
    "- $x_6$ - **multiple.offenses** (1=oui, 0=non)\n",
    "- $x_7$ - **state_2** (1=Kentucky, 0=autre)\n",
    "- $x_8$ - **state_3** (1=Louisiane, 0=autre)\n",
    "- $x_9$ - **state_4** (1=Virginie, 0=autre)\n",
    "- $x_{10}$ - **crime_2** (1=vol, 0=autre)\n",
    "- $x_{11}$ - **crime_3** (1=drogue, 0=autre)\n",
    "- $x_{12}$ - **crime_4** (1=conduite automobile, 0=autre)"
   ]
  },
  {
   "cell_type": "code",
   "execution_count": null,
   "metadata": {
    "deletable": false,
    "nbgrader": {
     "checksum": "51476e49cad0916e3e680d8726b81a40",
     "grade": false,
     "grade_id": "cell-6acd086adae6d184",
     "locked": false,
     "schema_version": 1,
     "solution": true
    }
   },
   "outputs": [],
   "source": [
    "x_det = np.zeros(14)\n",
    "\n",
    "print('Variables du détenu:', x_det)"
   ]
  },
  {
   "cell_type": "markdown",
   "metadata": {},
   "source": [
    "<div class=\"alert alert-info\">\n",
    "\n",
    "**Question 4** \n",
    "\n",
    "> Calculer le *logit* pour cet individu.\n",
    "\n",
    "</div>\n",
    "\n",
    "*Tuyau:* Les coefficients $w=(w_0,w_1,\\dots,w_Q)$ du modèle sont stockés dans l'attribut `modele.params`\n",
    "\n",
    "*Resultat attendu:* -1.82970..."
   ]
  },
  {
   "cell_type": "code",
   "execution_count": null,
   "metadata": {
    "deletable": false,
    "nbgrader": {
     "checksum": "2a6ccc3e662d06f46f1f093b6b0f9f7b",
     "grade": false,
     "grade_id": "cell-b475737c87391a2e",
     "locked": false,
     "schema_version": 1,
     "solution": true
    }
   },
   "outputs": [],
   "source": [
    "logit_det = None\n",
    "\n",
    "print('Logit du détenu:', logit_det)"
   ]
  },
  {
   "cell_type": "markdown",
   "metadata": {},
   "source": [
    "<div class=\"alert alert-info\">\n",
    "\n",
    "**Question 5** \n",
    "\n",
    "> Quelle est la probabilité qu’il récidive, c'est-à-dire $${\\sf P}({\\rm violator}=1 \\,|\\, x).$$  \n",
    "\n",
    "</div>\n",
    "\n",
    "*Resultat attendu:* 0.13827..."
   ]
  },
  {
   "cell_type": "code",
   "execution_count": null,
   "metadata": {
    "deletable": false,
    "nbgrader": {
     "checksum": "c38b9a7c3d966eca22c1c5a8cee07e46",
     "grade": false,
     "grade_id": "cell-63dc5ef4d6d14120",
     "locked": false,
     "schema_version": 1,
     "solution": true
    }
   },
   "outputs": [],
   "source": [
    "p_det = None\n",
    "\n",
    "print('Probabilité de recidive:', p_det)"
   ]
  },
  {
   "cell_type": "markdown",
   "metadata": {},
   "source": [
    "### 1.3 Validation du modèle\n",
    "\n",
    "Maintenant, nous allons evaluer les performaces du modèle de regression logistique sur la base de test."
   ]
  },
  {
   "cell_type": "markdown",
   "metadata": {},
   "source": [
    "<div class=\"alert alert-info\">\n",
    "\n",
    "**Question 1**\n",
    "\n",
    "> Utiliser la méthode `modele.predict()` pour calculer les predictions du modèle logistique pour tous les individus de la **base de test**.\n",
    "\n",
    "</div>"
   ]
  },
  {
   "cell_type": "code",
   "execution_count": null,
   "metadata": {
    "deletable": false,
    "nbgrader": {
     "checksum": "528b201d66394c1885122cf65262a166",
     "grade": false,
     "grade_id": "cell-7a0cff56b8b70da1",
     "locked": false,
     "schema_version": 1,
     "solution": true
    }
   },
   "outputs": [],
   "source": [
    "X_test = test.drop('violator', axis=1)\n",
    "X_test = sm.add_constant(X_test)\n",
    "y_test = test['violator']\n",
    "\n",
    "predict_test = None\n",
    "\n",
    "print('Nombre de predictions:', predict_test.shape[0])"
   ]
  },
  {
   "cell_type": "markdown",
   "metadata": {},
   "source": [
    "<div class=\"alert alert-info\">\n",
    "\n",
    "**Question 2**\n",
    "\n",
    "> Quelle est la probabilité maximale de récidive ?\n",
    "\n",
    "</div>\n",
    "\n",
    "*Resultat attendu:* 0.70927..."
   ]
  },
  {
   "cell_type": "code",
   "execution_count": null,
   "metadata": {
    "deletable": false,
    "nbgrader": {
     "checksum": "5df48136df8878c567fd8fc96fb8512d",
     "grade": false,
     "grade_id": "cell-3baaeaecb170d174",
     "locked": false,
     "schema_version": 1,
     "solution": true
    }
   },
   "outputs": [],
   "source": [
    "prob_max = None\n",
    "\n",
    "print('Probabilité maximale de récidive:', prob_max)"
   ]
  },
  {
   "cell_type": "markdown",
   "metadata": {},
   "source": [
    "<div class=\"alert alert-info\">\n",
    "\n",
    "**Question 3**\n",
    "\n",
    "> Retrouver les variables $x=(x_0, x_1, x_2, \\dots, x_{12})$ qui represent l'individu ayant la probabilité maximale de récidive.\n",
    "\n",
    "</div>"
   ]
  },
  {
   "cell_type": "code",
   "execution_count": null,
   "metadata": {
    "deletable": false,
    "nbgrader": {
     "checksum": "397f325391fae6f4135ffa9303154488",
     "grade": false,
     "grade_id": "cell-1c7564370c87252b",
     "locked": false,
     "schema_version": 1,
     "solution": true
    }
   },
   "outputs": [],
   "source": [
    "vect_max = None\n",
    "\n",
    "print('Variables associées à la probabilité maximale de récidive')\n",
    "print(vect_max)"
   ]
  },
  {
   "cell_type": "markdown",
   "metadata": {},
   "source": [
    "### 1.3.1 Evaluation de performance"
   ]
  },
  {
   "cell_type": "markdown",
   "metadata": {},
   "source": [
    "<div class=\"alert alert-info\">\n",
    "\n",
    "**Question 1** \n",
    "\n",
    "> Calculer une decision binaire à partir des predictions, pour un seuil de décision à 0,5.\n",
    "\n",
    "</div>\n",
    "\n",
    "*Tuyaux:* \n",
    " - La decision est `1` si la probabilité (`predict_test`) est plus grande que le seuil, `0` sinon. \n",
    " - Convertir (eventuellement) les booleans en entiers par `.astype(int)`."
   ]
  },
  {
   "cell_type": "code",
   "execution_count": null,
   "metadata": {
    "deletable": false,
    "nbgrader": {
     "checksum": "c153ae1429da7e4184d48ab1f9cb0eca",
     "grade": false,
     "grade_id": "cell-e057c6c0806e76c5",
     "locked": false,
     "schema_version": 1,
     "solution": true
    }
   },
   "outputs": [],
   "source": [
    "decision = None\n",
    "\n",
    "decision.head()"
   ]
  },
  {
   "cell_type": "markdown",
   "metadata": {},
   "source": [
    "<div class=\"alert alert-info\">\n",
    "\n",
    "**Question 2** \n",
    "\n",
    "> Calculer la table de confusion pour les decisions prises avec la seuil de décision à 0,5.\n",
    "\n",
    "</div>\n",
    "\n",
    "*Tuyau:* Utiliser la fonction `metrics.confusion_matrix(decision, expected, labels=[0,1])` avec les paramètres **dans le bon ordre.**\n",
    "\n",
    "*Rappel:* Table de confusion\n",
    "\n",
    "```\n",
    "               actual\n",
    "                0   1    \n",
    "             +----+----+\n",
    "           0 | TN | FN |\n",
    "predicted    +----+----+\n",
    "           1 | FP | TP |\n",
    "             +----+----+\n",
    "```"
   ]
  },
  {
   "cell_type": "code",
   "execution_count": null,
   "metadata": {
    "deletable": false,
    "nbgrader": {
     "checksum": "d3683cb3eacac125537469ecf9041956",
     "grade": false,
     "grade_id": "cell-e627e2b051b058fb",
     "locked": false,
     "schema_version": 1,
     "solution": true
    }
   },
   "outputs": [],
   "source": [
    "from sklearn import metrics\n",
    "\n",
    "table = None\n",
    "\n",
    "pd.DataFrame(table)"
   ]
  },
  {
   "cell_type": "markdown",
   "metadata": {},
   "source": [
    "<div class=\"alert alert-info\">\n",
    "\n",
    "**Question 3** \n",
    "\n",
    "> Quelle est l’exactitude du modèle ? \n",
    "\n",
    "</div>\n",
    "\n",
    "*Tuyau:* Exactitude = (TP + TN) / Total\n",
    "\n",
    "*Resultat attendu:* 88.67%"
   ]
  },
  {
   "cell_type": "code",
   "execution_count": null,
   "metadata": {
    "deletable": false,
    "nbgrader": {
     "checksum": "3583fd6d44a2dfd86ee8f48a2ddc539d",
     "grade": false,
     "grade_id": "cell-ec01c2a7336549e2",
     "locked": false,
     "schema_version": 1,
     "solution": true
    }
   },
   "outputs": [],
   "source": [
    "exactitude = None\n",
    "\n",
    "print('Exactitude: {:2.2f} %'.format(exactitude*100))"
   ]
  },
  {
   "cell_type": "markdown",
   "metadata": {},
   "source": [
    "<div class=\"alert alert-info\">\n",
    "\n",
    "**Question 4**\n",
    "\n",
    "> Quelle est sa sensibilité ?\n",
    "\n",
    "</div>\n",
    "\n",
    "*Tuyau:* Sensibilité = TP / (TP + FN)\n",
    "\n",
    "*Resultat attendu:* 12.00%"
   ]
  },
  {
   "cell_type": "code",
   "execution_count": null,
   "metadata": {
    "deletable": false,
    "nbgrader": {
     "checksum": "b407dea57f403877afe52c777e9fafbe",
     "grade": false,
     "grade_id": "cell-806de8d89c90e26e",
     "locked": false,
     "schema_version": 1,
     "solution": true
    }
   },
   "outputs": [],
   "source": [
    "sensibilite = None\n",
    "\n",
    "print('Sensibilité: {:2.2f} %'.format(sensibilite*100))"
   ]
  },
  {
   "cell_type": "markdown",
   "metadata": {},
   "source": [
    "<div class=\"alert alert-info\">\n",
    "\n",
    "**Question 5** \n",
    "\n",
    "> Quelle est sa spécificité ? \n",
    "\n",
    "</div>\n",
    "\n",
    "*Tuyau:* Spécificité = TN / (TN + FP)\n",
    "\n",
    "*Resultat attendu:* 99.44%"
   ]
  },
  {
   "cell_type": "code",
   "execution_count": null,
   "metadata": {
    "deletable": false,
    "nbgrader": {
     "checksum": "129171fd7b66d447b6d1ed9b43a78769",
     "grade": false,
     "grade_id": "cell-e97a4b519ae20ed9",
     "locked": false,
     "schema_version": 1,
     "solution": true
    }
   },
   "outputs": [],
   "source": [
    "specificite = None\n",
    "\n",
    "print('Spécificité: {:2.2f} %'.format(specificite*100))"
   ]
  },
  {
   "cell_type": "markdown",
   "metadata": {},
   "source": [
    "<div class=\"alert alert-info\">\n",
    "\n",
    "**Question 6** \n",
    "\n",
    "> Implementer une fonction telle que :\n",
    " - Elle prend en entrée les predictions, les vrais reponses et le seuil.\n",
    " - Elle calcule l'exactitude, la sensibilité et la spécificité.\n",
    "\n",
    "</div>"
   ]
  },
  {
   "cell_type": "code",
   "execution_count": null,
   "metadata": {
    "deletable": false,
    "nbgrader": {
     "checksum": "503443356fcdc50415382736a1cef61e",
     "grade": false,
     "grade_id": "cell-e31274e310b4292b",
     "locked": false,
     "schema_version": 1,
     "solution": true
    }
   },
   "outputs": [],
   "source": [
    "def print_performance(prediction, true_response, threshold=0.5):\n",
    "    decision = None\n",
    "    table = None\n",
    "    exactitude = None\n",
    "    sensibilite = None\n",
    "    specificite = None\n",
    "    \n",
    "    table = pd.concat([pd.concat([pd.DataFrame(table)], keys=['Predicted'])], axis=1, keys=['violator'])\n",
    "    display(table)\n",
    "    print(\"[Seuil:\", threshold, \"]\")\n",
    "    print(' Exactitude: {:2.2f} %'.format(exactitude*100))\n",
    "    print('Sensibilité: {:2.2f} %'.format(sensibilite*100))\n",
    "    print('Spécificité: {:2.2f} %'.format(specificite*100))\n",
    "    print()"
   ]
  },
  {
   "cell_type": "code",
   "execution_count": null,
   "metadata": {},
   "outputs": [],
   "source": [
    "print_performance(predict_test, test.violator, 0.5)"
   ]
  },
  {
   "cell_type": "markdown",
   "metadata": {},
   "source": [
    "Il  est toujours intéressant de comparer ces performances avec celles de la prédiction de base qui consiste à prédire toujours le cas le plus fréquent."
   ]
  },
  {
   "cell_type": "code",
   "execution_count": null,
   "metadata": {},
   "outputs": [],
   "source": [
    "print_performance(predict_test, test.violator, 1)"
   ]
  },
  {
   "cell_type": "markdown",
   "metadata": {},
   "source": [
    "### 1.3.2 Seuil de décision\n",
    "\n",
    "Il est fondamental pour juger des performances de savoir quel critère l’utilisateur cherche à optimiser sachant qu’il faut toujours accepter un compromis, car on ne peut augmenter la spécificité et la sensibilité en même temps."
   ]
  },
  {
   "cell_type": "markdown",
   "metadata": {},
   "source": [
    "<div class=\"alert alert-info\">\n",
    "\n",
    "**Question 1** \n",
    "\n",
    "> Quel est le critère à maximiser pour la commission qui décide d’accepter de mettre en liberté conditionnelle un détenu qui le demande ? \n",
    "\n",
    "</div>\n",
    "\n",
    "*Tuyau:* On ne veut pas mettre en liberté les détenus qui sont susceptible de recediver."
   ]
  },
  {
   "cell_type": "code",
   "execution_count": null,
   "metadata": {
    "deletable": false,
    "nbgrader": {
     "checksum": "ba3c5070369fddca79eca0b37128d8da",
     "grade": false,
     "grade_id": "cell-31f7801ef1743828",
     "locked": false,
     "schema_version": 1,
     "solution": true
    }
   },
   "outputs": [],
   "source": []
  },
  {
   "cell_type": "markdown",
   "metadata": {},
   "source": [
    "<div class=\"alert alert-info\">\n",
    "\n",
    "**Question 2** \n",
    "\n",
    "> Est-il plus judicieux de augmenter ou de baisser le seuil de décision pour atteindre l’objectif précédent ?\n",
    "\n",
    "</div>\n",
    "\n",
    "*Tuyau:* La sensibilité améliore en baissant le seuil, tandis que la specificité améliore en augmentant le seuil."
   ]
  },
  {
   "cell_type": "code",
   "execution_count": null,
   "metadata": {
    "deletable": false,
    "nbgrader": {
     "checksum": "b09c1c878e1607700e13b85192d39c7e",
     "grade": false,
     "grade_id": "cell-c9c722389d40deab",
     "locked": false,
     "schema_version": 1,
     "solution": true
    }
   },
   "outputs": [],
   "source": []
  },
  {
   "cell_type": "markdown",
   "metadata": {},
   "source": [
    "<div class=\"alert alert-info\">\n",
    "\n",
    "**Question 3**\n",
    "\n",
    ">  Tester une valeur du seuil qui correspond à votre réponse précédente et calculer les performances (exactitude, sensibilité, spécificité) avec ce nouveau seuil. Comparer avec les performances obtenues pour seuil=0.5 et valider ou non vos réponses antérieures.\n",
    "\n",
    "</div>"
   ]
  },
  {
   "cell_type": "code",
   "execution_count": null,
   "metadata": {
    "deletable": false,
    "nbgrader": {
     "checksum": "4aee76557f678dce8478f90e2c0e8b12",
     "grade": false,
     "grade_id": "cell-887fe7795149cf05",
     "locked": false,
     "schema_version": 1,
     "solution": true
    }
   },
   "outputs": [],
   "source": [
    "seuil = None\n",
    "\n",
    "print_performance(predict_test, test.violator, 0.5)\n",
    "print_performance(predict_test, test.violator, seuil)"
   ]
  },
  {
   "cell_type": "markdown",
   "metadata": {},
   "source": [
    "### 1.3.3 Performance en fonction du seuil de décision\n",
    "\n",
    "La méthode `roc_curve()` du package `sklearn` permet de calculer le taux de vrai positifs (TPR) et de faux positifs (FPR) pour toutes les seuils."
   ]
  },
  {
   "cell_type": "code",
   "execution_count": null,
   "metadata": {},
   "outputs": [],
   "source": [
    "from sklearn import metrics\n",
    "\n",
    "y_true = test['violator']\n",
    "y_pred = predict_test\n",
    "\n",
    "fpr, tpr, thresholds = metrics.roc_curve(y_true, y_pred, pos_label=1)\n",
    "auc = metrics.roc_auc_score(y_true, y_pred)"
   ]
  },
  {
   "cell_type": "markdown",
   "metadata": {},
   "source": [
    "<div class=\"alert alert-info\">\n",
    "\n",
    "**Question 1** \n",
    "\n",
    "> Tracer la courbe ROC et afficher la valeur AUC dans le titre de la figure.\n",
    "\n",
    "</div>\n",
    "\n",
    "*Tuyau:* Utiliser la méthode `plt.plot()`."
   ]
  },
  {
   "cell_type": "code",
   "execution_count": null,
   "metadata": {
    "deletable": false,
    "nbgrader": {
     "checksum": "e7191b88c8abf1cf3c5a94b1af6aa086",
     "grade": false,
     "grade_id": "cell-f06705efc4c3de80",
     "locked": false,
     "schema_version": 1,
     "solution": true
    }
   },
   "outputs": [],
   "source": [
    "plt.plot([],[])\n",
    "\n",
    "plt.title('AUC:'+str(auc))\n",
    "plt.xlabel('1 - Specificité (FPR = faux positifs)')\n",
    "plt.ylabel('Sensibilité (TPR = vrais positifs)')\n",
    "plt.show()"
   ]
  },
  {
   "cell_type": "markdown",
   "metadata": {},
   "source": [
    "<div class=\"alert alert-info\">\n",
    "\n",
    "**Question 2**\n",
    "\n",
    "> Quel seuil préconisez-vous pour avoir la meilleure sensibilité tout en gardant un *taux de faux positifs* (FPR) inférieur à 20% ?\n",
    "\n",
    "</div>"
   ]
  },
  {
   "cell_type": "code",
   "execution_count": null,
   "metadata": {
    "deletable": false,
    "nbgrader": {
     "checksum": "b67a9f1b7a5697b05d51330a252adfa4",
     "grade": false,
     "grade_id": "cell-6b16260e009d0af3",
     "locked": false,
     "schema_version": 1,
     "solution": true
    }
   },
   "outputs": [],
   "source": [
    "seuil_cible = None\n",
    "\n",
    "print(\"Seuil (FPR < 20% & Max. sensibilité):\", seuil_cible)"
   ]
  },
  {
   "cell_type": "markdown",
   "metadata": {},
   "source": [
    "Voici les performances obtenues avec ce dernier seuil. Par definition, vous devriez observer une **specificité superieure à 80%**."
   ]
  },
  {
   "cell_type": "code",
   "execution_count": null,
   "metadata": {},
   "outputs": [],
   "source": [
    "print_performance(predict_test, test.violator, 0.5)\n",
    "print_performance(predict_test, test.violator, seuil)\n",
    "print_performance(predict_test, test.violator, seuil_cible)"
   ]
  },
  {
   "cell_type": "markdown",
   "metadata": {},
   "source": [
    "## 2. Exercices corrigés\n",
    "\n",
    "Nous completons l'étude de la régression logistique en traitant deux exercices sur l'interpretation probabiliste du modèle."
   ]
  },
  {
   "cell_type": "markdown",
   "metadata": {},
   "source": [
    "### 2.1 Modèle logistique\n",
    "\n",
    "Supposons que nous avons recueilli les données suivantes sur un groupe d'étudiants:\n",
    "\n",
    "- $X_1$ = Heures passées à étudier pour un examen.\n",
    "- $X_2$ = Moyenne générale.\n",
    "- $Y$ = 1 si l'étudiant a obtenu la note maximale (A) à l'examen, 0 sinon. \n",
    "\n",
    "A partir des données disponibles, nous estimons un modèle logistique avec les coefficients ci-aprèes:\n",
    "\n",
    "$$\n",
    "\\begin{bmatrix}\n",
    "w_0\\\\\n",
    "w_1\\\\\n",
    "w_2\\\\\n",
    "\\end{bmatrix} \n",
    "= \n",
    "\\begin{bmatrix}\n",
    "-6\\\\\n",
    "0.05\\\\\n",
    "1\n",
    "\\end{bmatrix}\n",
    "$$"
   ]
  },
  {
   "cell_type": "markdown",
   "metadata": {},
   "source": [
    "<div class=\"alert alert-danger\">\n",
    "\n",
    "#### Question 1\n",
    "\n",
    "> Estimer la probabilité qu'un étudiant ayant étudié pendant 40 heures et qui a une moyennegenerale de 3,5 obtienne la note maximale.\n",
    "\n",
    "</div>"
   ]
  },
  {
   "cell_type": "markdown",
   "metadata": {},
   "source": [
    "Le modèle logistique s'écrit de la manière suivante\n",
    "\n",
    "$$\n",
    "\\textrm{Probabilité d'obtenir A} = \\frac{1}{1 + \\exp\\big(-w_0 - w_1 \\times \\textrm{heures étudiées} - w_2 \\times \\textrm{moyenne}\\big)}\n",
    "$$\n",
    "\n",
    "Par consequent, la réponse peut se deriver du calcul suivant, où nous avons remplacé les variables par les données du problème: \n",
    "\n",
    "$$\n",
    "\\begin{aligned}\n",
    "\\textrm{Probabilité d'obtenir A} &= \\frac{1}{1+\\exp(6- 0.05 \\times 40 - 1 \\times 3.5)}\\\\\n",
    "&= \\frac{1}{1+\\exp(0.5)}\\\\\n",
    "&= 0.3775\n",
    "\\end{aligned}\n",
    "$$"
   ]
  },
  {
   "cell_type": "markdown",
   "metadata": {},
   "source": [
    "<div class=\"alert alert-danger\">\n",
    "\n",
    "**Question 2:**\n",
    "\n",
    ">  Combien d'heures l'étudiant de la question précédente devrait-il étudier pour avoir 50% de chances d'obtenir un A ?\n",
    "\n",
    "</div>"
   ]
  },
  {
   "cell_type": "markdown",
   "metadata": {},
   "source": [
    "La réponse s'appuie sur calcul suivant, qui correspond à inverser le modèle logistique:\n",
    "\n",
    "$$\n",
    "\\begin{aligned}\n",
    "\\textrm{Probabilité d'obtenir A} &= \\frac{1}{1 + \\exp\\big(-w_0 - w_1 \\times \\textrm{heures étudiées} - w_2 \\times \\textrm{moyenne}\\big)}\\\\\n",
    "0.5 &= \\frac{1}{1+\\exp(6- 0.05 \\times \\textrm{heures étudiées} - 1 \\times 3.5)}\\\\\n",
    "\\frac{1}{0.5} &= 1 + \\exp(6- 0.05 \\times \\textrm{heures étudiées} - 1 \\times 3.5)\\\\\n",
    "\\log\\left(\\frac{1}{0.5} - 1\\right) &= 6- 0.05 \\times \\textrm{heures étudiées} - 1 \\times 3.5\\\\\n",
    "\\log(1)-6 + 3.5 &=  - 0.05 \\times \\textrm{heures étudiées}\\\\\n",
    "\\frac{2.5}{0.05} &= \\textrm{heures étudiées}\\\\\n",
    "50 &= \\textrm{heures étudiées}\n",
    "\\end{aligned}\n",
    "$$"
   ]
  },
  {
   "cell_type": "markdown",
   "metadata": {},
   "source": [
    "### 2.2 Cotes (odds)\n",
    "\n",
    "Ce problème est lié aux cotes (odds).\n",
    "\n",
    "*Remarque:* Dans les jeux de hasard et des statistiques, la cote d'un événement est le ratio entre la probabilité que l'événement se produise et la probabilité qu'il ne se produise pas. On l'exprime souvent comme une paire de nombres où le dénominateur de la cote est ramené à 1. En particulier dans les paris et les jeux d'argent, la cote exprime le gain espéré dans le cas où l'événement sur lequel on a misé se réalise. Par exemple, une « cote de 4 contre 1 » traduit le fait qu'on gagnerait 4 fois sa mise. "
   ]
  },
  {
   "cell_type": "markdown",
   "metadata": {},
   "source": [
    "<div class=\"alert alert-danger\">\n",
    "\n",
    "**Question 1**\n",
    "\n",
    "> En moyenne, quelle fraction des personnes ayant une cote de 0,37 d'un défaut de paiement sera effectivement en défaut ?\n",
    "\n",
    "</div>"
   ]
  },
  {
   "cell_type": "markdown",
   "metadata": {},
   "source": [
    "La réponse est basée sur la definition de cote.\n",
    "\n",
    "$$\n",
    "\\begin{aligned}\n",
    "\\frac{p}{1-p} &= {\\rm odds}\\\\\n",
    "\\frac{p}{1-p} &= 0.37\\\\\n",
    "p &= 0.37 (1-p)\\\\\n",
    "p + 0.37 p = 0.37\\\\\n",
    "p = \\frac{0.37}{1+0.37}\\\\\n",
    "p = 0.2701\n",
    "\\end{aligned}\n",
    "$$"
   ]
  },
  {
   "cell_type": "markdown",
   "metadata": {},
   "source": [
    "<div class=\"alert alert-danger\">\n",
    "\n",
    "**Question 2**\n",
    "\n",
    "> Supposons qu'une personne a 16% de chances d'un défaut de paiement. Quelle est la cote que cette personne sera en défaut ?\n",
    "\n",
    "</div>"
   ]
  },
  {
   "cell_type": "markdown",
   "metadata": {},
   "source": [
    "La réponse est toujours basée sur la definition de cote.\n",
    "\n",
    "$$\n",
    "{\\rm odds} = \\frac{p}{1-p} = \\frac{0.16}{0.84} = 0.19\n",
    "$$"
   ]
  },
  {
   "cell_type": "markdown",
   "metadata": {},
   "source": [
    "## 3. The math behind logistic regression\n",
    "\n",
    "Imagine that you have a set of two-dimensional points, where the y-coordinates are no longer continuous, but takes on **two fixed values** (e.g., 0 and 1):\n",
    "\n",
    "$$\\mathcal{S} = \\big\\{ \\big(x^{(n)},y^{(n)}\\big) \\in \\mathbb{R}\\times\\{0,1\\} \\;|\\; n=1,\\dots,N\\big\\}.$$\n",
    "\n",
    "Each $\\left(x^{(n)},y^{(n)}\\right)$ can be visually represented as a point in 2D space, as shown below."
   ]
  },
  {
   "cell_type": "code",
   "execution_count": null,
   "metadata": {},
   "outputs": [],
   "source": [
    "def draw_scatter(x, y):\n",
    "    plt.scatter(x[y==0], y[y==0], c='b', marker='o', s=50)\n",
    "    plt.scatter(x[y==1], y[y==1], c='r', marker='^', s=50)\n",
    "    plt.xlabel(\"$x_p$\")\n",
    "    plt.ylabel(\"$y_p$\")\n",
    "    plt.grid()"
   ]
  },
  {
   "cell_type": "code",
   "execution_count": null,
   "metadata": {},
   "outputs": [],
   "source": [
    "N = 10\n",
    "x = np.concatenate([np.linspace(-2, 0.2, N), np.linspace(0, 2, N)])\n",
    "y = np.concatenate([np.zeros(N), np.ones(N)]).astype(int)\n",
    "\n",
    "draw_scatter(x,y)\n",
    "plt.show()"
   ]
  },
  {
   "cell_type": "markdown",
   "metadata": {},
   "source": [
    "### 3.1 Sigmoid function\n",
    "\n",
    "How can we fit a regression model to the points $\\left(x^{(n)},y^{(n)}\\right)$ which are distributed around two values ?\n",
    "\n",
    "Intuitively, it is obvious that a straight line will poorly fit such points. We rather need a function bounded in the interval $[0,1]$. Thankfully, such a function exists and it is defined as\n",
    "\n",
    "$$\n",
    "\\sigma(z) = \\frac{1}{1+e^{-z}}.\n",
    "$$\n",
    "\n",
    "This is called the **sigmoid** function."
   ]
  },
  {
   "cell_type": "markdown",
   "metadata": {},
   "source": [
    "<div class=\"alert alert-success\">\n",
    "\n",
    "**Exercise 1**\n",
    "\n",
    "> Implement the sigmoid function defined above.\n",
    "\n",
    "</div>"
   ]
  },
  {
   "cell_type": "code",
   "execution_count": null,
   "metadata": {
    "deletable": false,
    "nbgrader": {
     "checksum": "5ba0e5676473e1fb9623d79fb5ab9ecf",
     "grade": false,
     "grade_id": "cell-1cef91ae292a6c5b",
     "locked": false,
     "schema_version": 1,
     "solution": true
    }
   },
   "outputs": [],
   "source": [
    "def sigmoid(z):\n",
    "    \"\"\"Compute the sigmoid of the elements in z\"\"\"\n",
    "    \n",
    "    ### START CODE HERE ###\n",
    "    s = None\n",
    "    ### END CODE HERE ###\n",
    "    \n",
    "    return s"
   ]
  },
  {
   "cell_type": "code",
   "execution_count": null,
   "metadata": {
    "deletable": false,
    "editable": false,
    "nbgrader": {
     "checksum": "d84b96be9ef0332eda8ab502f9a77dee",
     "grade": false,
     "grade_id": "cell-60a5f9b3f4c5adf2",
     "locked": true,
     "schema_version": 1,
     "solution": false
    }
   },
   "outputs": [],
   "source": [
    "z = np.array([1, 2, 3])\n",
    "s = sigmoid(z)\n",
    "\n",
    "print('sigmoid:', s)"
   ]
  },
  {
   "cell_type": "markdown",
   "metadata": {},
   "source": [
    "**Expected Output**: \n",
    "\n",
    "<table>\n",
    "    <tr> \n",
    "        <td> sigmoid </td> \n",
    "        <td> [0.73105858,  0.88079708,  0.95257413] </td> \n",
    "    </tr>\n",
    "</table> "
   ]
  },
  {
   "cell_type": "code",
   "execution_count": null,
   "metadata": {
    "deletable": false,
    "editable": false,
    "nbgrader": {
     "checksum": "5cb1f971cbaa9584b9d2a06f8b7a6b9c",
     "grade": true,
     "grade_id": "cell-c4c23ed1d77138a7",
     "locked": true,
     "points": 1,
     "schema_version": 1,
     "solution": false
    }
   },
   "outputs": [],
   "source": [
    "np.testing.assert_almost_equal(s, [0.73105858, 0.88079708, 0.95257413])"
   ]
  },
  {
   "cell_type": "markdown",
   "metadata": {},
   "source": [
    "Here is what the sigmoid function looks like."
   ]
  },
  {
   "cell_type": "code",
   "execution_count": null,
   "metadata": {},
   "outputs": [],
   "source": [
    "t = np.linspace(-6,6,100)\n",
    "s = sigmoid(t)\n",
    "\n",
    "plt.plot(t,s)\n",
    "plt.yticks([0,0.5,1])\n",
    "plt.ylim([0,1])\n",
    "plt.grid()\n",
    "plt.title(\"Sigmoid function\")\n",
    "plt.show()"
   ]
  },
  {
   "cell_type": "markdown",
   "metadata": {},
   "source": [
    "### 3.2 Logistic regression\n",
    "\n",
    "To enable data fitting with the sigmoid function, we can compose it with a linear model, yielding the **logistic model**\n",
    "\n",
    "$$\n",
    "f_w(x) = \\sigma(w_0 + w_1 x) = \\frac{1}{1+e^{-(w_0 + w_1 x)}}.\n",
    "$$\n",
    "\n",
    "Of course, this model can be easily extended to the case when the input is vector rather than a scalar\n",
    "\n",
    "$$\n",
    "f_w({\\bf x}) = \\sigma(w_0 + w_1 x_1 + \\dots + w_Q x_Q) = \\frac{1}{1+e^{-(w_0 + w_1 x_1 + \\dots + w_Q x_Q)}}.\n",
    "$$"
   ]
  },
  {
   "cell_type": "markdown",
   "metadata": {},
   "source": [
    "<div class=\"alert alert-success\">\n",
    "\n",
    "**Exercise 2**\n",
    "\n",
    "> Implement the logistic model defined above.\n",
    "\n",
    "</div>"
   ]
  },
  {
   "cell_type": "code",
   "execution_count": null,
   "metadata": {
    "deletable": false,
    "nbgrader": {
     "checksum": "66d440772621f9367498b3f54f29219c",
     "grade": false,
     "grade_id": "cell-d8270cf231a05e1a",
     "locked": false,
     "schema_version": 1,
     "solution": true
    }
   },
   "outputs": [],
   "source": [
    "def logistic(w, x):\n",
    "    \"\"\"Evaluate the logistic model\"\"\"\n",
    "    \n",
    "    ### START CODE HERE ###\n",
    "    \n",
    "    # compute 'z = w[0] + w[1] * x'\n",
    "    z = None\n",
    "    \n",
    "    # compute the sigmoid of z\n",
    "    s = None\n",
    "    \n",
    "    ### END CODE HERE ###\n",
    "    \n",
    "    return s"
   ]
  },
  {
   "cell_type": "code",
   "execution_count": null,
   "metadata": {
    "deletable": false,
    "editable": false,
    "nbgrader": {
     "checksum": "4dd1fea7f5ad4e85c295b4f5de56cc36",
     "grade": false,
     "grade_id": "cell-939506af6c244627",
     "locked": true,
     "schema_version": 1,
     "solution": false
    }
   },
   "outputs": [],
   "source": [
    "w = [0.5, 1.5]\n",
    "t = np.array([-2, 2, 0.5])\n",
    "p = logistic(w, t)\n",
    "\n",
    "print('logistic:', p)"
   ]
  },
  {
   "cell_type": "markdown",
   "metadata": {},
   "source": [
    "**Expected Output**: \n",
    "\n",
    "<table>\n",
    "    <tr> \n",
    "        <td> logistic </td> \n",
    "        <td> [0.07585818, 0.97068777, 0.77729986] </td> \n",
    "    </tr>\n",
    "</table> "
   ]
  },
  {
   "cell_type": "code",
   "execution_count": null,
   "metadata": {
    "deletable": false,
    "editable": false,
    "nbgrader": {
     "checksum": "6c5a835a6c4b5313b3fbc8133d3885df",
     "grade": true,
     "grade_id": "cell-5f08194e78e2683f",
     "locked": true,
     "points": 1,
     "schema_version": 1,
     "solution": false
    }
   },
   "outputs": [],
   "source": [
    "np.testing.assert_almost_equal(p, [0.0758582, 0.9706878, 0.7772999])"
   ]
  },
  {
   "cell_type": "markdown",
   "metadata": {},
   "source": [
    "The task of estimating the weights $w=(w_0,w_1)$ from a binary classification dataset is what we refer to as **logistic regression**.\n",
    "\n",
    "The widget below shows that it is possible to adapt the logistic model $f_w(x)$ by changing its weights. Move the sliders to interact with the plot. "
   ]
  },
  {
   "cell_type": "code",
   "execution_count": null,
   "metadata": {},
   "outputs": [],
   "source": [
    "def draw_line(w, x, y=None):\n",
    "    t = np.linspace(-2.5,2.5,100)\n",
    "    p = logistic(w, t)\n",
    "    plt.plot(t, p, 'g', lw=2)\n",
    "    plt.plot(np.vstack([x,x]),np.vstack([logistic(w,x),y]), '--k', alpha=0.5)"
   ]
  },
  {
   "cell_type": "code",
   "execution_count": null,
   "metadata": {},
   "outputs": [],
   "source": [
    "def update_plot(a, b):\n",
    "    draw_scatter(x, y)\n",
    "    draw_line([b,a], x, y)\n",
    "    plt.axis([-2.5,2.5,-0.1,1.1])\n",
    "\n",
    "a_slider = widgets.FloatSlider(1, min=-15, max=15, step=0.0001, description='$w_1$', continuous_update=False)\n",
    "b_slider = widgets.FloatSlider(0, min=-10, max=10, step=0.0001, description='$w_0$', continuous_update=False)\n",
    "widgets.interact(update_plot, a=a_slider, b=b_slider)\n",
    "\n",
    "plt.show()"
   ]
  },
  {
   "cell_type": "markdown",
   "metadata": {},
   "source": [
    "### 3.3 Logarithmic error\n",
    "\n",
    "How can we possibly find the logistic model that best fits the points $(x^{(n)},y^{(n)})$? According to the previous remark, we need to tune the weigths $w=(w_0,w_1)$ so that the following approximations hold as tight as possible (for every $n\\in\\{1,\\dots,N\\}$):\n",
    "\n",
    "$$ %\\sigma(w_0 + w_1 x^{(n)}) \n",
    "f_w(x^{(n)}) \\approx y^{(n)}. $$\n",
    "\n",
    "Another way of stating the above is to say that the error between the prediction $p^{(n)} = f_w(x^{(n)})$ and the real output $y^{(n)}$ must be small. \n",
    "\n",
    "There is more than one way to measure the error between two scalar quantities. The squared error works universally, regardless of the values involved. However, because we know that the output is a binary value $y\\in\\{0,1\\}$  and the logistic model yields a bounded value $p \\in \\left]0,1\\right[$, it is reasonable to ask if we cannot compute a more appropriate error that is customized to deal with just such values. The answer is positive. There exists the **log-error**, defined as\n",
    "\n",
    "$$\n",
    "\\textrm{log-error}(p, y) = \n",
    "\\begin{cases}\n",
    "-\\log(p) &\\quad \\text{if} \\; y = 1 \\\\\n",
    "-\\log(1-p) &\\quad\\text{if} \\; y = 0. \\\\\n",
    "\\end{cases}\n",
    "$$\n",
    "\n",
    "The log-error is always non-negative and attains its minimum value at $0$."
   ]
  },
  {
   "cell_type": "markdown",
   "metadata": {},
   "source": [
    "<div class=\"alert alert-success\">\n",
    "\n",
    "**Exercise 3** \n",
    "\n",
    "> Implement the log-error function defined above.\n",
    "\n",
    "</div>\n",
    "\n",
    "**Hint:** A vectorized implementation of the log-error is as follows:\n",
    "\n",
    "$$ \\textrm{log-error}(p, y) = - y \\log(p) - (1-y) \\log(1-p) $$\n",
    "\n",
    "where the products are meant element-wise."
   ]
  },
  {
   "cell_type": "code",
   "execution_count": null,
   "metadata": {
    "deletable": false,
    "nbgrader": {
     "checksum": "c07320fc50f5aeef86afd125ce1ad67c",
     "grade": false,
     "grade_id": "cell-ed8511e0881b43f1",
     "locked": false,
     "schema_version": 1,
     "solution": true
    }
   },
   "outputs": [],
   "source": [
    "def log_error(p, y):\n",
    "    \"\"\"Compute the log-error between two arrays\"\"\"\n",
    "    \n",
    "    ### START CODE HERE ###\n",
    "    \n",
    "    # compute 'y * log(p)'\n",
    "    log1 = None\n",
    "    \n",
    "    # compute '(1-y) * log(1-p)'\n",
    "    log2 = None\n",
    "    \n",
    "    # compute the log-error\n",
    "    error = None\n",
    "    \n",
    "    ### END CODE HERE ###\n",
    "    \n",
    "    return error"
   ]
  },
  {
   "cell_type": "code",
   "execution_count": null,
   "metadata": {
    "deletable": false,
    "editable": false,
    "nbgrader": {
     "checksum": "f266e456f907e1d559f860828e8a8e0d",
     "grade": false,
     "grade_id": "cell-f096e9671fb2699f",
     "locked": true,
     "schema_version": 1,
     "solution": false
    }
   },
   "outputs": [],
   "source": [
    "p = np.array([0.1, 0.3, 0.5, 0.7, 0.9])\n",
    "t = np.array([0, 1, 0, 0, 1])\n",
    "e = log_error(p, t)\n",
    "\n",
    "print('log-error:', e)"
   ]
  },
  {
   "cell_type": "markdown",
   "metadata": {},
   "source": [
    "**Expected Output**: \n",
    "\n",
    "<table>\n",
    "    <tr> \n",
    "        <td> log-error </td> \n",
    "        <td> [0.10536052, 1.2039728, 0.69314718, 1.2039728, 0.10536052] </td> \n",
    "    </tr>\n",
    "</table> "
   ]
  },
  {
   "cell_type": "code",
   "execution_count": null,
   "metadata": {
    "deletable": false,
    "editable": false,
    "nbgrader": {
     "checksum": "5f1832e5c4b1665cac7fcf9cce4921e0",
     "grade": true,
     "grade_id": "cell-e07d283297fa07a1",
     "locked": true,
     "points": 1,
     "schema_version": 1,
     "solution": false
    }
   },
   "outputs": [],
   "source": [
    "np.testing.assert_almost_equal(e, [0.10536052, 1.2039728, 0.69314718, 1.2039728, 0.10536052])"
   ]
  },
  {
   "cell_type": "markdown",
   "metadata": {},
   "source": [
    "Here is what the log-error looks like."
   ]
  },
  {
   "cell_type": "code",
   "execution_count": null,
   "metadata": {},
   "outputs": [],
   "source": [
    "p  = np.linspace(0.0001,.9999,100)\n",
    "y1 = np.ones_like(p)\n",
    "y0 = np.zeros_like(p)\n",
    "\n",
    "fig, ax = plt.subplots(1, 2, figsize=(10,4))\n",
    "\n",
    "ax[0].plot(p, log_error(p,y1), lw=2)\n",
    "ax[0].set(title=\"y=1\", xlabel='p', ylabel='log-error')\n",
    "\n",
    "ax[1].plot(p, log_error(p,y0), lw=2)\n",
    "ax[1].set(title=\"y=0\", xlabel='p', ylabel='log-error')\n",
    "\n",
    "plt.show()"
   ]
  },
  {
   "cell_type": "markdown",
   "metadata": {},
   "source": [
    "### 3.4 Logistic cost function\n",
    "\n",
    "Let's see how the log-error can be used to tune the weights of our logistic model $f_w(x^{(n)})$. As the output is binary, we can distinguish two case.\n",
    "\n",
    "- When $y^{(n)} = 1$, the log-error decreases when the prediction $f_w(x^{(n)})$ approaches the value $1$:\n",
    "\n",
    "$$\n",
    "\\begin{aligned}\n",
    "f_w(x^{(n)})\\approx 1 &\\quad\\Leftrightarrow\\quad -\\log\\big(f_w(x^{(n)})\\big) \\approx -\\log(1) \\quad\\Leftrightarrow\\quad \\textrm{log-error}\\big(f_w(x^{(n)}), 1\\big)\\approx 0.\n",
    "%f_w(x^{(n)})\\approx 0 &\\quad\\Leftrightarrow\\quad -\\log\\big(f_w(x^{(n)})\\big) \\approx -\\log(0) \\quad\\Leftrightarrow\\quad \\textrm{log-error}\\big(f_w(x^{(n)}), 1\\big)\\to +\\infty.\n",
    "\\end{aligned}\n",
    "$$\n",
    "\n",
    "- When $y^{(n)} = 0$, the log-error decreases when the prediction $f_w(x^{(n)})$ approaches the value $0$:\n",
    "\n",
    "$$ \n",
    "\\begin{aligned}\n",
    "f_w(x^{(n)})\\approx 0 &\\quad\\Leftrightarrow\\quad -\\log\\big(1-f_w(x^{(n)})\\big) \\approx -\\log(1) \\quad\\Leftrightarrow\\quad \\textrm{log-error}\\big(f_w(x^{(n)}), 0\\big)\\approx 0.\n",
    "%f_w(x^{(n)})\\approx 1 &\\quad\\Leftrightarrow\\quad -\\log\\big(1-f_w(x^{(n)})\\big) \\approx -\\log(0) \\quad\\Leftrightarrow\\quad \\textrm{log-error}\\big(f_w(x^{(n)}), 0\\big)\\to +\\infty.\n",
    "\\end{aligned}\n",
    "$$\n",
    "\n",
    " \n",
    "Because we desire that all the log-errors are small, we can take their average and form what is called the **logistic cost function**:\n",
    "\n",
    "$$ J(w) = \\frac{1}{N}\\sum_{n=1}^N \\textrm{log-error}\\Big(f_w(x^{(n)}), y^{(n)}\\Big).$$\n",
    "\n",
    "This is a function that measures how well a logistic model fits the points $\\left(x^{(n)},y^{(n)}\\right)$, given a specific choice for the weigths $w=(w_0,w_1)$.\n",
    "\n",
    "---\n",
    "#### Remark\n",
    "\n",
    "You will often see the logistic cost function written as follows:\n",
    "\n",
    "$$ J(w) = \\frac{1}{N}\\sum_{n=1}^N \\log\\Big(1+e^{-(2y^{(n)}-1)(w_0+w_1 x^{(n)})}\\Big).$$\n",
    "\n",
    "The two expressions are exactly the same, except that the latter is more robust numerically."
   ]
  },
  {
   "cell_type": "markdown",
   "metadata": {},
   "source": [
    "<div class=\"alert alert-success\">\n",
    "\n",
    "**Exercise 4** \n",
    "\n",
    "> Implement the logistic cost function defined above.\n",
    "\n",
    "</div>"
   ]
  },
  {
   "cell_type": "code",
   "execution_count": null,
   "metadata": {
    "deletable": false,
    "nbgrader": {
     "checksum": "880062f22fd07f5d8b88e7ec6d78a6ca",
     "grade": false,
     "grade_id": "cell-7b84462633ea43cd",
     "locked": false,
     "schema_version": 1,
     "solution": true
    }
   },
   "outputs": [],
   "source": [
    "def logistic_cost(w, x, y):\n",
    "    \"\"\"Evaluate the logistic cost function\"\"\"\n",
    "    \n",
    "    ### START CODE HERE ###\n",
    "    \n",
    "    # Compute the predictions with your function 'logistic()'\n",
    "    preds = None\n",
    "    \n",
    "    # Compute the log-errors with your function 'log_error()'\n",
    "    errors = None\n",
    "    \n",
    "    # Compute the mean of log-errors\n",
    "    cost = None\n",
    "    \n",
    "    ### END CODE HERE ###\n",
    "    \n",
    "    return cost"
   ]
  },
  {
   "cell_type": "code",
   "execution_count": null,
   "metadata": {
    "deletable": false,
    "editable": false,
    "nbgrader": {
     "checksum": "4bf09e83faec4adf1fdc8354b63f7798",
     "grade": false,
     "grade_id": "cell-87ff44404f9d2f38",
     "locked": true,
     "schema_version": 1,
     "solution": false
    }
   },
   "outputs": [],
   "source": [
    "w = [0.5, 1.5]\n",
    "c = logistic_cost(w, x, y)\n",
    "\n",
    "print('cost:', c)"
   ]
  },
  {
   "cell_type": "markdown",
   "metadata": {},
   "source": [
    "**Expected Output**: \n",
    "\n",
    "<table>\n",
    "    <tr> \n",
    "        <td> cost </td> \n",
    "        <td> 0.3222354881901067 </td> \n",
    "    </tr>\n",
    "</table> "
   ]
  },
  {
   "cell_type": "code",
   "execution_count": null,
   "metadata": {
    "deletable": false,
    "editable": false,
    "nbgrader": {
     "checksum": "520c0007d3666df414deca77be4f8ae2",
     "grade": true,
     "grade_id": "cell-d0fa52affe1001d3",
     "locked": true,
     "points": 1,
     "schema_version": 1,
     "solution": false
    }
   },
   "outputs": [],
   "source": [
    "np.testing.assert_almost_equal(c, 0.3222354881901067, decimal=6)"
   ]
  },
  {
   "cell_type": "markdown",
   "metadata": {},
   "source": [
    "The widget below illustrates that the best values for the weigths $w=(w_0,w_1)$ are located at the lowest point of the cost function  $J(w)$."
   ]
  },
  {
   "cell_type": "code",
   "execution_count": null,
   "metadata": {},
   "outputs": [],
   "source": [
    "def draw_surface(ax, X, Y, Z):\n",
    "    ax.plot_surface(X, Y, Z, norm=LogNorm(),alpha=.9,cmap=plt.cm.jet,rstride=3,cstride=3,linewidth=0.2,edgecolor = 'k')\n",
    "    ax.set_xlabel(\"w_1\")\n",
    "    ax.set_ylabel(\"w_0\")\n",
    "    ax.set_title(\"Cost function J(w)\", fontsize=15, color='k')\n",
    "    \n",
    "def draw_contours(ax, X, Y, Z):\n",
    "    lev = np.logspace(-0.9,0,10)\n",
    "    cs = ax.contour(X, Y, Z, levels=lev, norm=LogNorm(), alpha=.4, colors = 'k')\n",
    "    ax.clabel(cs, inline=1, fontsize=10)\n",
    "    ax.contourf(X, Y, Z, levels=lev, norm=LogNorm(), cmap=plt.cm.jet, alpha=.4)\n",
    "    ax.set_xlabel(\"$w_1$\")\n",
    "    ax.set_ylabel(\"$w_0$\")\n",
    "    \n",
    "def draw_point(ax, w, lims=None):\n",
    "    if len(w) < 3:\n",
    "        ax.plot(w[0], w[1], '*', color='k', markersize=20, alpha=0.7, markeredgewidth=2, markeredgecolor='w')\n",
    "        ax.plot([w[0],w[0]], [lims[0],w[1]], '--k', alpha=0.5)\n",
    "        ax.plot([lims[1],w[0]], [w[1],w[1]], '--k', alpha=0.5)\n",
    "    else:\n",
    "        ax.plot([w[0]],[w[1]],[w[2]], '*', color='k', markersize=20, alpha=0.7, markeredgewidth=2, markeredgecolor='w')"
   ]
  },
  {
   "cell_type": "code",
   "execution_count": null,
   "metadata": {},
   "outputs": [],
   "source": [
    "w0_lim = [-5,5]\n",
    "w1_lim = [ 4,12]\n",
    "a_values, b_values = np.meshgrid(np.arange(w1_lim[0],w1_lim[1],0.1), np.arange(w0_lim[0],w0_lim[1],0.1))\n",
    "w_values = np.stack([b_values.flatten(), a_values.flatten()],axis=1)\n",
    "J_values = np.log(1+np.exp(-(2*y-1)*(w_values[:,[0]] + w_values[:,[1]]*x))).mean(axis=1).reshape(a_values.shape)\n",
    "\n",
    "def update_plot(a, b):\n",
    "    fig = plt.figure(figsize=(20,5))\n",
    "    fig.add_subplot(131)\n",
    "    draw_scatter(x, y)\n",
    "    draw_line([b,a], x, y)\n",
    "    ax = fig.add_subplot(132, projection='3d', elev=25, azim=-70)\n",
    "    draw_surface(ax, a_values, b_values, J_values)\n",
    "    cost = np.log(1+np.exp(-(2*y-1)*(b + a*x))).mean()\n",
    "    draw_point(ax, [a,b,cost])\n",
    "    ax = fig.add_subplot(133)\n",
    "    draw_contours(ax, a_values, b_values, J_values)\n",
    "    draw_point(ax, [a,b], [w0_lim[0],w1_lim[0]])\n",
    "    ax.set_title(\"Cost of w = {:2.4f}\".format(cost), fontsize=15, color='k')\n",
    "    \n",
    "a_slider = widgets.FloatSlider(4.5, min=w1_lim[0]+0.1, max=w1_lim[1], step=0.0001, description='$w_1$', continuous_update=False)\n",
    "b_slider = widgets.FloatSlider(2.5, min=w0_lim[0]+0.1, max=w0_lim[1], step=0.0001, description='$w_0$', continuous_update=False)\n",
    "widgets.interact(update_plot, a=a_slider, b=b_slider)\n",
    "\n",
    "plt.show()"
   ]
  },
  {
   "cell_type": "markdown",
   "metadata": {},
   "source": [
    "### 3.5 Gradient descent\n",
    "\n",
    "The \"correct\" weights for the logistic model can be computed by optimizing the logistic cost function, namely\n",
    "\n",
    "$$\n",
    "\\operatorname*{minimize}_{w} \\; J(w).\n",
    "$$\n",
    "\n",
    "Inspecting the overall shape of the cost function helps determine the appropriate optimization method to be used. In this case, it is easy to check that the function $J(w)$ is **convex** with respect to the weights $w$. Convexity means that the function curvature is always positive. Because of this, we are guaranteed that optimization methods will always find the global minimum of this cost function.\n",
    "\n",
    "Since the function is differentiable, we can employ **gradient descent** to find a solution to the above problem. This method updates the current iterate $w^{[t]}$ in an iterative fashion for $t=0,1,\\dots,T$ steps, using the following formula at each iteration:\n",
    "\n",
    "$$\n",
    "w^{[t+1]} = w^{[t]} - \\alpha \\nabla J\\big(w^{[t]}\\big),\n",
    "$$\n",
    "\n",
    "where $\\alpha$ is the so-called **step-size** parameter. The gradient of the logistic cost function is equal to\n",
    "\n",
    "$$\n",
    "\\nabla J\\big(w\\big) = \n",
    "\\begin{bmatrix} \n",
    "\\frac{\\partial J(w)}{\\partial w_0}\\\\\n",
    "\\frac{\\partial J(w)}{\\partial w_1}\n",
    "\\end{bmatrix}\n",
    "$$\n",
    "\n",
    "where\n",
    "\n",
    "$$\n",
    "\\frac{\\partial J(w)}{\\partial w_0} = \\frac{1}{N}\\sum_{n=1}^N \\big(f_w(x^{(n)}) - y^{(n)}\\big)\n",
    "\\qquad\\qquad\n",
    "\\frac{\\partial J(w)}{\\partial w_1} = \\frac{1}{N}\\sum_{n=1}^N x^{(n)} \\big(f_w(x^{(n)}) - y^{(n)}\\big).\n",
    "$$"
   ]
  },
  {
   "cell_type": "markdown",
   "metadata": {},
   "source": [
    "<div class=\"alert alert-success\">\n",
    "\n",
    "**Exercise 5**\n",
    "\n",
    "> Use the above formula to implement the gradient of the logistic cost function.\n",
    "\n",
    "</div>"
   ]
  },
  {
   "cell_type": "code",
   "execution_count": null,
   "metadata": {
    "deletable": false,
    "nbgrader": {
     "checksum": "50015cbea7a5d0789ffef75cdb50c2c5",
     "grade": false,
     "grade_id": "cell-fd87986f6cc909c1",
     "locked": false,
     "schema_version": 1,
     "solution": true
    }
   },
   "outputs": [],
   "source": [
    "def logistic_gradient(w, x, y):\n",
    "    \"\"\"Compute the gradient of the logistic cost function\"\"\"\n",
    "    \n",
    "    grad = np.zeros(2)\n",
    "    \n",
    "    ### START CODE HERE ###\n",
    "    \n",
    "    # Compute the predictions with your function 'logistic()'\n",
    "    preds = None\n",
    "    \n",
    "    # Compute the difference between 'preds' and 'y'\n",
    "    diffs = None\n",
    "    \n",
    "    # Compute the gradient w.r.t. w_0\n",
    "    grad[0] = None\n",
    "    \n",
    "    # Compute the gradient w.r.t. w_1\n",
    "    grad[1] = None\n",
    "    \n",
    "    ### END CODE HERE ###\n",
    "    \n",
    "    return grad"
   ]
  },
  {
   "cell_type": "code",
   "execution_count": null,
   "metadata": {},
   "outputs": [],
   "source": [
    "w = [0.5, 1.5]\n",
    "g = logistic_gradient(w, x, y)\n",
    "\n",
    "print('gradient:', g)"
   ]
  },
  {
   "cell_type": "markdown",
   "metadata": {},
   "source": [
    "**Expected Output**: \n",
    "\n",
    "<table>\n",
    "    <tr> \n",
    "        <td> gradient </td> \n",
    "        <td> [0.09119623, -0.12276723] </td> \n",
    "    </tr>\n",
    "</table> "
   ]
  },
  {
   "cell_type": "code",
   "execution_count": null,
   "metadata": {},
   "outputs": [],
   "source": [
    "np.testing.assert_almost_equal(g, [0.09119623, -0.12276723], decimal=6)"
   ]
  },
  {
   "cell_type": "markdown",
   "metadata": {},
   "source": [
    "With the gradient sorted out, it is straightforward to optimize the logistic cost function via gradient descent."
   ]
  },
  {
   "cell_type": "code",
   "execution_count": null,
   "metadata": {},
   "outputs": [],
   "source": [
    "w0 = [0.5, 1.5]\n",
    "alpha = 10\n",
    "epochs = 500\n",
    "\n",
    "w = w0\n",
    "for t in range(epochs):\n",
    "    w = w - alpha * logistic_gradient(w, x, y)\n",
    "    \n",
    "print(w)"
   ]
  },
  {
   "cell_type": "markdown",
   "metadata": {},
   "source": [
    "The figure below displays the solution computed by gradient descent."
   ]
  },
  {
   "cell_type": "code",
   "execution_count": null,
   "metadata": {},
   "outputs": [],
   "source": [
    "update_plot(w[1], w[0])"
   ]
  },
  {
   "cell_type": "code",
   "execution_count": null,
   "metadata": {},
   "outputs": [],
   "source": []
  }
 ],
 "metadata": {
  "interactive_sols": {
   "cbx_id": 1
  },
  "kernelspec": {
   "display_name": "Python 3",
   "language": "python",
   "name": "python3"
  },
  "language_info": {
   "codemirror_mode": {
    "name": "ipython",
    "version": 3
   },
   "file_extension": ".py",
   "mimetype": "text/x-python",
   "name": "python",
   "nbconvert_exporter": "python",
   "pygments_lexer": "ipython3",
   "version": "3.7.0"
  },
  "toc": {
   "nav_menu": {
    "height": "322px",
    "width": "252px"
   },
   "navigate_menu": true,
   "number_sections": true,
   "sideBar": true,
   "threshold": 4,
   "toc_cell": false,
   "toc_section_display": "block",
   "toc_window_display": false
  }
 },
 "nbformat": 4,
 "nbformat_minor": 1
}
